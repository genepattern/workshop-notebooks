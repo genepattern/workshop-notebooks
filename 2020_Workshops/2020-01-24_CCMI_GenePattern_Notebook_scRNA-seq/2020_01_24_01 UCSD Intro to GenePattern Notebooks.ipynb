{
 "cells": [
  {
   "cell_type": "markdown",
   "metadata": {},
   "source": [
    "# Introduction to GenePattern Notebook\n",
    "\n",
    "This document should help you understand how to run an analysis in the GenePattern Notebook environment. In it you will perform a simple preprocessing step followed by clustering and then view the results in a heat map. \n",
    "\n",
    "In this notebook, we will run a few simple analysis steps to normalize a dataset, cluster it, and then visualize the results.  The analysis workflow looks like this;\n",
    "\n",
    "<img src=\"https://datasets.genepattern.org/data/ccmi_tutorial/2020-01-24/GPNB_Intro_Workflow.png\" style=\"height:350px;\" align=\"left\">\n",
    "<div><br/></div>\n",
    "<p style=\"clear: both;\">\n",
    "    \n",
    "**Instructions are given in blue boxes, such as with the one below.**\n",
    "\n",
    "<div class=\"alert alert-info\"><h3 style=\"margin-top: 0;\"> Instructions <i class=\"fa fa-info-circle\"></i></h3>\n",
    "Sign in to GenePattern by clicking the login button or entering your username and password into the form below.</div>\n",
    "</p>"
   ]
  },
  {
   "cell_type": "code",
   "execution_count": 6,
   "metadata": {
    "genepattern": {
     "name": "Login",
     "server": "https://cloud.genepattern.org/gp",
     "type": "auth"
    },
    "scrolled": true
   },
   "outputs": [
    {
     "data": {
      "application/vnd.jupyter.widget-view+json": {
       "model_id": "f6b511306c1047ee971a24ea88796e68",
       "version_major": 2,
       "version_minor": 0
      },
      "text/plain": [
       "GPAuthWidget()"
      ]
     },
     "metadata": {},
     "output_type": "display_data"
    }
   ],
   "source": [
    "# Requires GenePattern Notebook: pip install genepattern-notebook\n",
    "import gp\n",
    "import genepattern\n",
    "\n",
    "# Username and password removed for security reasons.\n",
    "genepattern.display(genepattern.session.register(\"https://cloud.genepattern.org/gp\", \"\", \"\"))"
   ]
  },
  {
   "cell_type": "markdown",
   "metadata": {},
   "source": [
    "# Data Preparation"
   ]
  },
  {
   "cell_type": "markdown",
   "metadata": {},
   "source": [
    "## Breast Cancer Data\n",
    "\n",
    "For this notebook we will use RNA-Seq data from <a href=\"https://cancergenome.nih.gov/\" target=\"_blank\">The Cancer Genome Atlas (TCGA)</a>. We have selected 20 breast cancer primary tumors (BRCA) with their matched normal samples. We can retrieve the&nbsp;read counts files for each tumor and normal sample (40 in total) downloaded from the <a href=\"https://gdc.cancer.gov\" target=\"_blank\">TCGA Genomic Data Commons</a>&nbsp;(GDC) as well as sample metadata (tumor/normal status).&nbsp;\n",
    "\n",
    "While the example we are using is for a specfic selection of breast cancer samples, you can use the steps in this notebook to prepare any TCGA-derived data for use in GenePattern analyses.\n",
    "\n",
    "We will use this dataset to perform Hierarchical Clustering.  This analysis was developed with microarray data in mind, therefore, it is a good practice to normalize RNA-Seq data as a preprocessing step. "
   ]
  },
  {
   "cell_type": "markdown",
   "metadata": {},
   "source": [
    "## Step 1: DESeq2 normalization\n",
    "\n",
    "We recommend using DESeq2 to preprocess RNA-seq count data to make it suitable for our clustering analysis. The <a href=\"https://htmlpreview.github.io/?https://github.com/genepattern/DESeq2/blob/master/docs/v1/index.html\">DESeq2</a> module perfoms the normalization explained in [Love, Huber, and Anders (2014)](https://www.ncbi.nlm.nih.gov/pmc/articles/PMC4302049/#Sec2title)."
   ]
  },
  {
   "cell_type": "markdown",
   "metadata": {},
   "source": [
    "<div class=\"well\">\n",
    "    \n",
    "**Note:** DESeq2 works only with raw read counts as produced by HTSeq or RSEM.  These counts should not be normalized a priori and also should not be RPKM or FPKM values."
   ]
  },
  {
   "cell_type": "markdown",
   "metadata": {},
   "source": [
    "<div class=\"alert alert-info\">\n",
    "\n",
    "<h3 style=\"margin-top: 0;\"> Instructions <i class=\"fa fa-info-circle\"></i></h3>\n",
    "\n",
    "<ul>\n",
    "\t<li>For the <b>input file*</b> parameter, click and drag & drop <a href=\"https://datasets.genepattern.org/data/module_support_files/DESeq2/BRCA_tumor_and_normal_20783x40.gct\">this sample BRCA dataset</a>.</li>\n",
    "    <li>For the <b>cls file*</b> parameter, click and drag & drop <a href=\"https://datasets.genepattern.org/data/module_support_files/DESeq2/BRCA_tumor_and_normal_x40.cls\" target=\"_blank\">this sample CLS file</a>.</li>\n",
    "    <li>Feel free to leave the rest of parameters as default.</li>\n",
    "</ul>\n",
    "</div>\n"
   ]
  },
  {
   "cell_type": "markdown",
   "metadata": {},
   "source": [
    "<div class=\"well well-sm\"><strong>Runtime:</strong> About 10-15 minutes.</div>\n"
   ]
  },
  {
   "cell_type": "markdown",
   "metadata": {},
   "source": [
    "<div class=\"alert alert-warning\">\n",
    "<p class=\"lead\"> NOTE: <i class=\"fa fa-exclamation-triangle\"></i></p>\n",
    "Due to the long runtime, pre-generated results are provided below this analysis for subsequent steps to avoid waiting.\n",
    "</div>"
   ]
  },
  {
   "cell_type": "code",
   "execution_count": 7,
   "metadata": {
    "genepattern": {
     "description": "A Differential Expression workflow for RNA-Seq data based on the DESeq2 package from Bioconductor ",
     "name": "DESeq2",
     "param_values": {
      "cls.file": null,
      "confounding.variable.cls.file": null,
      "fdr.threshold": null,
      "input.file": null,
      "job.cpuCount": null,
      "job.memory": null,
      "job.queue": null,
      "job.walltime": null,
      "output.file.base": null,
      "qc.plot.format": null,
      "random.seed": null,
      "top.N.count": null
     },
     "show_code": false,
     "type": "task"
    }
   },
   "outputs": [
    {
     "data": {
      "application/vnd.jupyter.widget-view+json": {
       "model_id": "1ce7405e46494e3bba6ed58e58f5eae8",
       "version_major": 2,
       "version_minor": 0
      },
      "text/plain": [
       "GPTaskWidget(lsid='urn:lsid:broad.mit.edu:cancer.software.genepattern.module.analysis:00362')"
      ]
     },
     "metadata": {},
     "output_type": "display_data"
    },
    {
     "data": {
      "application/vnd.jupyter.widget-view+json": {
       "model_id": "20d1870c35af4113becf89697e99f364",
       "version_major": 2,
       "version_minor": 0
      },
      "text/plain": [
       "GPJobWidget(job_number=194669)"
      ]
     },
     "metadata": {},
     "output_type": "display_data"
    }
   ],
   "source": [
    "deseq2_task = gp.GPTask(genepattern.session.get(0), 'urn:lsid:broad.mit.edu:cancer.software.genepattern.module.analysis:00362')\n",
    "deseq2_job_spec = deseq2_task.make_job_spec()\n",
    "deseq2_job_spec.set_parameter(\"input.file\", \"https://datasets.genepattern.org/data/module_support_files/DESeq2/BRCA_tumor_and_normal_20783x40.gct\")\n",
    "deseq2_job_spec.set_parameter(\"cls.file\", \"https://datasets.genepattern.org/data/module_support_files/DESeq2/BRCA_tumor_and_normal_x40.cls\")\n",
    "deseq2_job_spec.set_parameter(\"confounding.variable.cls.file\", \"\")\n",
    "deseq2_job_spec.set_parameter(\"output.file.base\", \"<input.file_basename>\")\n",
    "deseq2_job_spec.set_parameter(\"qc.plot.format\", \"skip\")\n",
    "deseq2_job_spec.set_parameter(\"fdr.threshold\", \"0.1\")\n",
    "deseq2_job_spec.set_parameter(\"top.N.count\", \"20\")\n",
    "deseq2_job_spec.set_parameter(\"random.seed\", \"779948241\")\n",
    "deseq2_job_spec.set_parameter(\"job.memory\", \"2 Gb\")\n",
    "deseq2_job_spec.set_parameter(\"job.queue\", \"gp-cloud-default\")\n",
    "deseq2_job_spec.set_parameter(\"job.cpuCount\", \"1\")\n",
    "deseq2_job_spec.set_parameter(\"job.walltime\", \"02:00:00\")\n",
    "genepattern.display(deseq2_task)\n",
    "\n",
    "job194669 = gp.GPJob(genepattern.session.get(0), 194669)\n",
    "genepattern.display(job194669)"
   ]
  },
  {
   "cell_type": "markdown",
   "metadata": {
    "collapsed": true
   },
   "source": [
    "## Step 2. Hierarchical Clustering\n",
    "\n",
    "Run hierarchical clustering on genes and/or samples to create dendrograms for the clustered genes (*.gtr) and/or clustered samples (*.atr), as well as a file (*.cdt) that contains the original gene expression data ordered to reflect the clustering.\n",
    "\n",
    "### Dataset\n",
    "The dataset consists of the preprocessed 20 breast cancer samples and 20 matched normal samples from [The Cancer Genome Atlas](https://cancergenome.nih.gov/) we ran through DESeq2 above or we can use previously generated results included in this notebook (below). \n",
    "\n",
    "### Considerations\n",
    "* Best practice is to normalize (row/column normalize parameters) and center (row/column center parameters) the data being clustered. \n",
    "* The CDT output file must be converted to a GCT file before it can be used as an input file for another GenePattern module (other than HierachicalClusteringViewer). For instructions on converting a CDT file to a GCT file, see [Creating Input Files](http://www.broadinstitute.org/cancer/software/genepattern/file-formats-guide#creating-input-files).\n",
    "* Learn more by reading about the [HierarchicalClustering](http://software.broadinstitute.org/cancer/software/genepattern/modules/docs/HierarchicalClustering/6) module.\n",
    "\n",
    "### Pregenerated DESeq2 Results\n",
    "\n",
    "<p>You can use the results from a previously run and publicly shared job (194669) to so that you do not need to wait for your DESeq2 job (above) to complete. </p>"
   ]
  },
  {
   "cell_type": "code",
   "execution_count": 8,
   "metadata": {
    "genepattern": {
     "name": "Job #194669",
     "type": "job"
    },
    "scrolled": true
   },
   "outputs": [
    {
     "data": {
      "application/vnd.jupyter.widget-view+json": {
       "model_id": "6f8f773bfc584f478b01f2749df5f004",
       "version_major": 2,
       "version_minor": 0
      },
      "text/plain": [
       "GPJobWidget(job_number=194669)"
      ]
     },
     "metadata": {},
     "output_type": "display_data"
    }
   ],
   "source": [
    "job194669 = gp.GPJob(genepattern.session.get(0), 194669)\n",
    "genepattern.display(job194669)"
   ]
  },
  {
   "cell_type": "markdown",
   "metadata": {},
   "source": [
    "<div class=\"alert alert-info\">\n",
    "<h3 style=\"margin-top: 0;\"> Instructions <i class=\"fa fa-info-circle\"></i></h3>\n",
    "<ol>\n",
    "<li>If your DESeq2 has finished, Click on the <strong><em>input.filename</em></strong> parameter and select <b>BRCA_tumor_and_normal_20783x40.matched_normal.vs.primary_tumor.normalized_counts.gct</b> from the drop-down menu.  Otherwise you may drag the pre-generated result file <a class=\"nbtools-markdown-file\" href=\"https://cloud.genepattern.org/gp/jobResults/194669/BRCA_tumor_and_normal_20783x40.matched_normal.vs.primary_tumor.normalized_counts.gct\" target=\"_blank\">BRCA_tumor_and_normal_20783x40.matched_normal.vs.primary_tumor.normalized_counts.gct</a> to the input.</li>\n",
    "<li>Click <strong><em>Run</em></strong>.</li>\n",
    "</ol>\n",
    "</div>"
   ]
  },
  {
   "cell_type": "markdown",
   "metadata": {},
   "source": [
    "<div class=\"well well-sm\"><strong>Runtime:</strong> About 30 seconds</div>"
   ]
  },
  {
   "cell_type": "code",
   "execution_count": 9,
   "metadata": {
    "genepattern": {
     "description": "Perform hierarchical clustering on samples (columns) or/and genes (rows).",
     "name": "HierarchicalClustering",
     "param_values": {
      "clustering.method": null,
      "col.centering": null,
      "col.normalize": null,
      "column.distance.measure": null,
      "input.filename": null,
      "job.cpuCount": null,
      "job.memory": null,
      "job.queue": null,
      "job.walltime": null,
      "output.base.name": null,
      "output_distance_matrix": null,
      "row.centering": null,
      "row.distance.measure": null,
      "row.normalize": null
     },
     "show_code": true,
     "type": "task"
    }
   },
   "outputs": [
    {
     "data": {
      "application/vnd.jupyter.widget-view+json": {
       "model_id": "f16f066df6e243b1b49ebdc32e041f64",
       "version_major": 2,
       "version_minor": 0
      },
      "text/plain": [
       "GPTaskWidget(lsid='urn:lsid:broad.mit.edu:cancer.software.genepattern.module.analysis:00009')"
      ]
     },
     "metadata": {},
     "output_type": "display_data"
    }
   ],
   "source": [
    "hierarchicalclustering_task = gp.GPTask(genepattern.session.get(0), 'urn:lsid:broad.mit.edu:cancer.software.genepattern.module.analysis:00009')\n",
    "hierarchicalclustering_job_spec = hierarchicalclustering_task.make_job_spec()\n",
    "hierarchicalclustering_job_spec.set_parameter(\"input.filename\", \"https://cloud.genepattern.org/gp/jobResults/194669/BRCA_tumor_and_normal_20783x40.matched_normal.vs.primary_tumor.normalized_counts.gct\")\n",
    "hierarchicalclustering_job_spec.set_parameter(\"column.distance.measure\", \"2\")\n",
    "hierarchicalclustering_job_spec.set_parameter(\"output_distance_matrix\", \"False\")\n",
    "hierarchicalclustering_job_spec.set_parameter(\"row.distance.measure\", \"No row clustering\")\n",
    "hierarchicalclustering_job_spec.set_parameter(\"clustering.method\", \"a\")\n",
    "hierarchicalclustering_job_spec.set_parameter(\"output.base.name\", \"<input.filename_basename>\")\n",
    "hierarchicalclustering_job_spec.set_parameter(\"row.centering\", \"Mean\")\n",
    "hierarchicalclustering_job_spec.set_parameter(\"row.normalize\", \"False\")\n",
    "hierarchicalclustering_job_spec.set_parameter(\"col.centering\", \"Mean\")\n",
    "hierarchicalclustering_job_spec.set_parameter(\"col.normalize\", \"False\")\n",
    "hierarchicalclustering_job_spec.set_parameter(\"job.memory\", \"2 Gb\")\n",
    "hierarchicalclustering_job_spec.set_parameter(\"job.queue\", \"gp-cloud-default\")\n",
    "hierarchicalclustering_job_spec.set_parameter(\"job.cpuCount\", \"1\")\n",
    "hierarchicalclustering_job_spec.set_parameter(\"job.walltime\", \"02:00:00\")\n",
    "genepattern.display(hierarchicalclustering_task)\n"
   ]
  },
  {
   "cell_type": "markdown",
   "metadata": {},
   "source": [
    "## Step 3. View clustering results\n",
    "\n",
    "Display a heat map of the clustered gene expression data, with dendrograms showing how the genes and/or samples were clustered.\n",
    " \n",
    "Learn more by reading about the [HierarchicalClusteringViewer](http://software.broadinstitute.org/cancer/software/genepattern/modules/docs/HierarchicalClusteringViewer/12) module.\n",
    "\n",
    "### Considerations\n",
    "\n",
    "* HierarchicalClusteringViewer displays gene expression data as a heat map, which makes it easier to see patterns in the numeric data. Gene names are row labels and sample names are column labels.\n",
    "* Notebooks may contain any number of visualizations.\n",
    "* You can  <b>Select File > Save Image</b> to save the heat map and dendrograms to an image file. Supported formats include bmp, eps, jpeg, png, and tiff.\n",
    "* To give the visualization more space on the screen, you can open the visualizer in a separate window by clicking on the gear icon (top left corner) and selecting <b>\"Pop Out Visualizer\"</b>.\n"
   ]
  },
  {
   "cell_type": "markdown",
   "metadata": {},
   "source": [
    "<div class=\"alert alert-info\">\n",
    "<h3 style=\"margin-top: 0;\"> Instructions <i class=\"fa fa-info-circle\"></i></h3>\n",
    "<ul>\n",
    "    <li>Fill out the <strong>CDT</strong> and <strong>ATR</strong> parameters for <em>HierarchicalClusteringViewer</em> below, using the files produced in the last step.</li>\n",
    "\t<li>The <strong>GTR</strong> parameter is not necessary. Leave it blank</li>\n",
    "    <li>Click <strong><em>Run</em></strong>.</li>\n",
    "</ul>\n",
    "</div>"
   ]
  },
  {
   "cell_type": "code",
   "execution_count": 10,
   "metadata": {
    "genepattern": {
     "description": "Views results of hierarchical clustering.",
     "name": "HierarchicalClusteringViewer",
     "param_values": {
      "atr.file": null,
      "cdt.file": null,
      "gtr.file": null,
      "job.cpuCount": null,
      "job.memory": null,
      "job.queue": null,
      "job.walltime": null
     },
     "show_code": true,
     "type": "task"
    }
   },
   "outputs": [
    {
     "data": {
      "application/vnd.jupyter.widget-view+json": {
       "model_id": "0653291a938f47b99a3f9b6e3f906e0d",
       "version_major": 2,
       "version_minor": 0
      },
      "text/plain": [
       "GPTaskWidget(lsid='urn:lsid:broad.mit.edu:cancer.software.genepattern.module.visualizer:00031')"
      ]
     },
     "metadata": {},
     "output_type": "display_data"
    }
   ],
   "source": [
    "hierarchicalclusteringviewer_task = gp.GPTask(genepattern.session.get(0), 'urn:lsid:broad.mit.edu:cancer.software.genepattern.module.visualizer:00031')\n",
    "hierarchicalclusteringviewer_job_spec = hierarchicalclusteringviewer_task.make_job_spec()\n",
    "hierarchicalclusteringviewer_job_spec.set_parameter(\"cdt.file\", \"\")\n",
    "hierarchicalclusteringviewer_job_spec.set_parameter(\"gtr.file\", \"\")\n",
    "hierarchicalclusteringviewer_job_spec.set_parameter(\"atr.file\", \"\")\n",
    "hierarchicalclusteringviewer_job_spec.set_parameter(\"job.memory\", \"2 Gb\")\n",
    "hierarchicalclusteringviewer_job_spec.set_parameter(\"job.queue\", \"gp-cloud-default\")\n",
    "hierarchicalclusteringviewer_job_spec.set_parameter(\"job.cpuCount\", \"1\")\n",
    "hierarchicalclusteringviewer_job_spec.set_parameter(\"job.walltime\", \"02:00:00\")\n",
    "genepattern.display(hierarchicalclusteringviewer_task)\n",
    "\n"
   ]
  },
  {
   "cell_type": "markdown",
   "metadata": {},
   "source": []
  }
 ],
 "metadata": {
  "genepattern": {
   "repository_url": "http://notebook.genepattern.org/services/sharing/notebooks/370/"
  },
  "kernelspec": {
   "display_name": "Python 3.6",
   "language": "python",
   "name": "python3.6"
  },
  "language_info": {
   "codemirror_mode": {
    "name": "ipython",
    "version": 3
   },
   "file_extension": ".py",
   "mimetype": "text/x-python",
   "name": "python",
   "nbconvert_exporter": "python",
   "pygments_lexer": "ipython3",
   "version": "3.6.7"
  },
  "toc": {
   "base_numbering": 1,
   "nav_menu": {},
   "number_sections": false,
   "sideBar": true,
   "skip_h1_title": false,
   "title_cell": "Table of Contents",
   "title_sidebar": "Contents",
   "toc_cell": false,
   "toc_position": {},
   "toc_section_display": true,
   "toc_window_display": true
  }
 },
 "nbformat": 4,
 "nbformat_minor": 2
}
