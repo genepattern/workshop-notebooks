{
 "cells": [
  {
   "cell_type": "markdown",
   "metadata": {},
   "source": [
    "# Download an Expression Matrix Using the HCA's Matrix Service\n",
    "\n",
    "The HCA Matrix Service consumes data from the [HCA](https://prod.data.humancellatlas.org/)\n",
    "[Data Store](https://github.com/HumanCellAtlas/data-store) to dynamically generate cell by gene expression matrices.\n",
    "\n",
    "This notebook will allow you to search for and retrieve data from the DCP, then send that data to the HCA's matrix service. This will produce a file in one of a variety of matrix formats."
   ]
  },
  {
   "cell_type": "markdown",
   "metadata": {},
   "source": [
    "## 1. Retrieve data from the DCP\n",
    "\n",
    "<div class=\"alert alert-info\">\n",
    "<h3 style=\"margin-top: 0;\"> Instructions <i class=\"fa fa-info-circle\"></i></h3>\n",
    "    <p>Use the widget below to search for <i>Homo sapiens</i> and <i>immune system</i>. Note the name of the matching project. Then scroll down to the second step below.</p>\n",
    "    <ul><li><strong>Note:</strong> As of this notebook's publication, the Matrix Service has yet to implement expression matrix support for all data types. Projects lacking matrix file support will note this in their descriptions.</li></ul>\n",
    "</div>"
   ]
  },
  {
   "cell_type": "code",
   "execution_count": 11,
   "metadata": {
    "nbtools": {
     "description": "",
     "name": "Search the DCP for Data",
     "origin": "Notebook",
     "param_values": {
      "file_format": "h5",
      "file_name": "",
      "organ": "pancreas",
      "output_var": "",
      "species": "Homo sapiens"
     },
     "show_code": false,
     "type": "uibuilder"
    },
    "scrolled": false
   },
   "outputs": [
    {
     "data": {
      "application/vnd.jupyter.widget-view+json": {
       "model_id": "43c32b33a4ca4086bcf6589633d66ca7",
       "version_major": 2,
       "version_minor": 0
      },
      "text/plain": [
       "UIBuilder(function_import='nbtools.tool(id=\"Search the DCP for Data\", origin=\"Notebook\").function_or_method', …"
      ]
     },
     "metadata": {},
     "output_type": "display_data"
    },
    {
     "data": {
      "application/javascript": [
       "\n",
       "            NBToolManager.instance().register(new NBToolManager.NBTool({\n",
       "                origin: \"Notebook\",\n",
       "                id: \"Search the DCP for Data\",\n",
       "                name: \"Search the DCP for Data\",\n",
       "                description: \"\",\n",
       "                version: \"null\",\n",
       "                tags: null,\n",
       "                attributes: null,\n",
       "                load: function() { return true; },\n",
       "                render: function() { let code = \"nbtools.tool(id='Search the DCP for Data', origin='Notebook')\";\n",
       "                let cell = Jupyter.notebook.get_selected_cell();\n",
       "                const is_empty = cell.get_text().trim() === \"\";\n",
       "\n",
       "                // If this cell is not empty, insert a new cell and use that\n",
       "                // Otherwise just use this cell\n",
       "                if (!is_empty) {\n",
       "                    cell = Jupyter.notebook.insert_cell_below();\n",
       "                    Jupyter.notebook.select_next();\n",
       "                }\n",
       "\n",
       "                cell.set_text(code);\n",
       "                cell.execute();\n",
       "\n",
       "                return cell; },\n",
       "            }));"
      ]
     },
     "metadata": {},
     "output_type": "display_data"
    }
   ],
   "source": [
    "from IPython.display import display, HTML\n",
    "\n",
    "import hca.dss\n",
    "import json\n",
    "import requests\n",
    "import nbtools\n",
    "import IPython.display\n",
    "import time\n",
    "import datetime\n",
    "import urllib\n",
    "\n",
    "project_map = {}\n",
    "\n",
    "@nbtools.build_ui(name=\"Search the DCP for Data\", parameters={\n",
    "    \"species\": {\n",
    "        \"type\": \"choice\",\n",
    "        \"default\": \"\",\n",
    "        \"choices\": {\n",
    "            \"\": \"\",\n",
    "            \"Homo sapiens\": \"Homo sapiens\",\n",
    "            \"Mus musculus\": \"Mus musculus\",\n",
    "        }\n",
    "    },\n",
    "    \"organ\": {\n",
    "        \"type\": \"choice\",\n",
    "        \"default\": \"\",\n",
    "        \"choices\": {\n",
    "            \"\": \"\",\n",
    "            \"blood\": \"blood\",\n",
    "            \"bone\": \"bone\",\n",
    "            \"brain\": \"brain\",\n",
    "            \"decidua\": \"decidua\",\n",
    "            \"embryo\": \"embryo\",\n",
    "            \"esophagus\": \"esophagus\",\n",
    "            \"hemopoietic organ\": \"hemopoietic organ\",\n",
    "            \"immune system\": \"immune system\",\n",
    "            \"kidney\": \"kidney\",\n",
    "            \"lymph node\": \"lymph node\",\n",
    "            \"pancreas\": \"pancreas\",\n",
    "            \"placenta\": \"placenta\",\n",
    "            \"skin of body\": \"skin of body\",\n",
    "            \"spleen\": \"spleen\",\n",
    "            \"tumor\": \"tumor\",\n",
    "        }\n",
    "    },\n",
    "    \"output_var\": {\n",
    "        \"hide\": True\n",
    "    }\n",
    "})\n",
    "def search_data(species=\"\", organ=\"\"):\n",
    "    global response_json, project_map\n",
    "    \n",
    "    # Create the search filter\n",
    "    search_filter = {}\n",
    "    if species:\n",
    "        search_filter[\"genusSpecies\"] = {\"is\":[species]}\n",
    "    if organ:\n",
    "        search_filter[\"organ\"] = {\"is\":[organ]}\n",
    "        \n",
    "    # Dump the search filter to an encoded string\n",
    "    search_filter = json.dumps(search_filter)\n",
    "\n",
    "    # Query the server\n",
    "    response = requests.get(\"https://service.explore.data.humancellatlas.org/repository/projects?filters=\" + search_filter + \"&size=15&order=desc\")\n",
    "    response_json = response.json()\n",
    "    # print(json.dumps(response_json['hits'][0], indent=4, sort_keys=True))\n",
    "    \n",
    "    # Handle the empty result case\n",
    "    if not len(response_json['hits']):\n",
    "        display(HTML('<div class=\"alert alert-danger\">No search results found</div>'))\n",
    "    \n",
    "    # Produce the output\n",
    "    for hit in response_json['hits']:\n",
    "        # Does it have matrix files?\n",
    "        matrix_found = matrix_available(hit)\n",
    "        \n",
    "        # Add to the project map\n",
    "        project_map[hit['projects'][0]['projectTitle']] = hit['entryId']\n",
    "        \n",
    "        # Create the display block\n",
    "        block = \"<div class='well'>\"\n",
    "        if not matrix_found: \n",
    "            block += '<h3>' + hit['projects'][0]['projectTitle'] + '</h3>'\n",
    "            block += '<ul><li>Matrix Not Available</li></ul>'\n",
    "        else:\n",
    "            block += '<h3 class=\"nbtools-text-option\">' + hit['projects'][0]['projectTitle'] + '</h3><ul>'\n",
    "            block += '<li><strong>Short Name:</strong> ' + hit['projects'][0]['projectShortname'] + '</li>'\n",
    "            block += '<li><strong>Lab:</strong> ' + ', '.join(hit['projects'][0]['laboratory']) + '</li>'\n",
    "            block += '<li><strong>Species:</strong> ' + ', '.join(hit['donorOrganisms'][0]['genusSpecies']) + '</li>'\n",
    "            block += '<li><strong>Organ:</strong> ' + ', '.join(hit['specimens'][0]['organ']) + '</li>'\n",
    "            block += '<li><strong>Donar Count:</strong> ' + str(len(hit['donorOrganisms'][0]['id'])) + '</li>'\n",
    "            block += '<li><strong>Cell Count:</strong> ' + str(sum([cs['totalCells'] for cs in hit['cellSuspensions']])) + '</li>'\n",
    "            block += '<li><strong>Data:</strong> ' + ', '.join(hit['protocols'][0]['libraryConstructionApproach']) + '</li>'\n",
    "            block += '</ul></div>'\n",
    "        display(HTML(block))\n",
    "        # print(json.dumps(hit, indent=4))  # This line is used for debugging\n",
    "        \n",
    "def matrix_available(project):\n",
    "    if 'fileTypeSummaries' in project:\n",
    "        types = project['fileTypeSummaries']\n",
    "        for t in types:\n",
    "            if t['fileType'] == 'matrix':\n",
    "                return True\n",
    "        return False  # No matrix found\n",
    "    else: return False"
   ]
  },
  {
   "cell_type": "markdown",
   "metadata": {},
   "source": [
    "## 2. Launch the Matrix Service job\n",
    "\n",
    "<div class=\"alert alert-info\">\n",
    "<h3 style=\"margin-top: 0;\"> Instructions <i class=\"fa fa-info-circle\"></i></h3>\n",
    "    <ul><li>Click the <i>project</i> parameter below to see a list of all available projects (produced from the search in Step 1). Select <i>Census of Immune Cells</i>.</li>\n",
    "    <li>For the <i>matrix format</i> parameter, select <i>mtx</i>. You can <a href=\"https://broadinstitute.github.io/wot/file_formats/#mtx\" target=\"_blank\">read more about the mtx format here</a>.</li>\n",
    "        <li>Click <i>Run</i>. This will launch a Matrix Service job which will dynamically generate the mtx file. Wait a few moments for the job to finish.</li></ul>\n",
    "</div>"
   ]
  },
  {
   "cell_type": "code",
   "execution_count": 12,
   "metadata": {
    "nbtools": {
     "description": "Launch an HCA Matrix Service job, which will produce the data in the desired format",
     "name": "Launch the Matrix Service",
     "origin": "Notebook",
     "param_values": {
      "bundle_url": "https://service.explore.data.humancellatlas.org/manifest/files?filters=%7B%22file%22%3A%7B%22project%22%3A%7B%22is%22%3A%5B%22Single-cell+RNA-seq+analysis+of+human+pancreas+from+healthy+individuals+and+type+2+diabetes+patients%22%5D%7D%2C%22fileFormat%22%3A%7B%22is%22%3A%5B%22matrix%22%5D%7D%7D%7D&format=tarball",
      "fqid": "https://service.explore.data.humancellatlas.org/manifest/files?filters=%7B%22file%22%3A%7B%22project%22%3A%7B%22is%22%3A%5B%22Single+cell+transcriptome+analysis+of+human+pancreas%22%5D%7D%2C%22fileFormat%22%3A%7B%22is%22%3A%5B%22matrix%22%5D%7D%7D%7D&format=tarball",
      "output_format": "loom",
      "output_var": "",
      "project": "Single cell transcriptome analysis of human pancreas reveals transcriptional signatures of aging and somatic mutation patterns.",
      "project_name": "An in vitro model of human inhibitory interneuron differentiation produced over time"
     },
     "show_code": false,
     "type": "uibuilder"
    }
   },
   "outputs": [
    {
     "data": {
      "text/html": [
       "<style type=\"text/css\">.nbtools-widget-job-output-file {\n",
       "    overflow: hidden;\n",
       "    white-space: nowrap;\n",
       "    display: block;\n",
       "}</style>"
      ],
      "text/plain": [
       "<IPython.core.display.HTML object>"
      ]
     },
     "metadata": {},
     "output_type": "display_data"
    },
    {
     "data": {
      "application/vnd.jupyter.widget-view+json": {
       "model_id": "32b8a2e47fd04ee98ef653147b6d8e84",
       "version_major": 2,
       "version_minor": 0
      },
      "text/plain": [
       "UIBuilder(description='Launch an HCA Matrix Service job, which will produce the data in the desired format', f…"
      ]
     },
     "metadata": {},
     "output_type": "display_data"
    },
    {
     "data": {
      "application/javascript": [
       "\n",
       "            NBToolManager.instance().register(new NBToolManager.NBTool({\n",
       "                origin: \"Notebook\",\n",
       "                id: \"Launch the Matrix Service\",\n",
       "                name: \"Launch the Matrix Service\",\n",
       "                description: \"Launch an HCA Matrix Service job, which will produce the data in the desired format\",\n",
       "                version: \"null\",\n",
       "                tags: null,\n",
       "                attributes: null,\n",
       "                load: function() { return true; },\n",
       "                render: function() { let code = \"nbtools.tool(id='Launch the Matrix Service', origin='Notebook')\";\n",
       "                let cell = Jupyter.notebook.get_selected_cell();\n",
       "                const is_empty = cell.get_text().trim() === \"\";\n",
       "\n",
       "                // If this cell is not empty, insert a new cell and use that\n",
       "                // Otherwise just use this cell\n",
       "                if (!is_empty) {\n",
       "                    cell = Jupyter.notebook.insert_cell_below();\n",
       "                    Jupyter.notebook.select_next();\n",
       "                }\n",
       "\n",
       "                cell.set_text(code);\n",
       "                cell.execute();\n",
       "\n",
       "                return cell; },\n",
       "            }));"
      ]
     },
     "metadata": {},
     "output_type": "display_data"
    }
   ],
   "source": [
    "#######################################\n",
    "# CSS Hack for long file names        #\n",
    "#######################################\n",
    "\n",
    "style = \"\"\".nbtools-widget-job-output-file {\n",
    "    overflow: hidden;\n",
    "    white-space: nowrap;\n",
    "    display: block;\n",
    "}\"\"\"\n",
    "display(HTML(f'<style type=\"text/css\">{style}</style>'))\n",
    "\n",
    "#######################################\n",
    "# Specify the Matrix Service server   #\n",
    "#######################################\n",
    "\n",
    "# matrix_host = \"https://matrix.staging.data.humancellatlas.org/v0/\"\n",
    "matrix_host = \"https://matrix.data.humancellatlas.org/v0/\"\n",
    "\n",
    "#######################################\n",
    "# UI Builder spec                     #\n",
    "#######################################\n",
    "\n",
    "spec = { 'name':        \"Launch the Matrix Service\", \n",
    "         'description': \"Launch an HCA Matrix Service job, which will produce the data in the desired format\",\n",
    "         'parameters':  {\n",
    "             \"project\": {\n",
    "                 \"name\": \"project\",\n",
    "                 \"type\": \"text\",\n",
    "                 \"description\": \"Select a project from the results above, either choosing it from the dropdown menu or pasting in a URL.\"\n",
    "             },\n",
    "             \"output_format\": {\n",
    "                 \"name\": \"matrix format\",\n",
    "                 \"type\": \"choice\",\n",
    "                 \"default\": \"loom\",\n",
    "                 \"choices\": {\n",
    "                     \"csv\": \"csv\",\n",
    "                     \"loom\": \"loom\",\n",
    "                     \"mtx\": \"mtx\",\n",
    "                     \"zarr\": \"zarr\"\n",
    "                 }\n",
    "             },\n",
    "             \"output_var\": {\n",
    "                 \"hide\": True\n",
    "             }\n",
    "         }\n",
    "     }\n",
    "\n",
    "#######################################\n",
    "# Display widget and launch job       #\n",
    "#######################################\n",
    "\n",
    "@nbtools.build_ui(**spec)\n",
    "def launch_matrix_job(project, output_format=\"loom\"):\n",
    "    # Get the endpoint for creating a new job\n",
    "    submit_endpoint = matrix_host + \"matrix/\"\n",
    "    \n",
    "    # Handle project URLs\n",
    "    if is_url(project):\n",
    "        project_id = project[47:98] + '...'\n",
    "        manifest_url = project\n",
    "        \n",
    "    # Get URL from project name by looking up the project ID\n",
    "    else:\n",
    "        # Create a bundle URL from the project name\n",
    "        project_id = urllib.parse.quote_plus(project_map[project])\n",
    "        manifest_url = f'https://service.explore.data.humancellatlas.org/fetch/manifest/files?filters=%7B%22projectId%22%3A%7B%22is%22%3A%5B%22{project_id}%22%5D%7D%2C%22fileFormat%22%3A%7B%22is%22%3A%5B%22matrix%22%5D%7D%7D&format=tsv'\n",
    "    \n",
    "    # Get the start time\n",
    "    start_time = time.time()\n",
    "    \n",
    "    # Create the UIOutput widget\n",
    "    job_widget = nbtools.UIOutput(name=\"Matrix Service Job: \" + project_id, \n",
    "                                  description=\"Your HCA Matrix Service job has been launched. It may take a few minutes before your results are ready.\",\n",
    "                                  status=\"Pending\",\n",
    "                                  files=[project_id])\n",
    "        \n",
    "    # Display the output widget\n",
    "    display(job_widget)\n",
    "    \n",
    "    # Wait for the results\n",
    "    wait_and_get_results(widget=job_widget, start_time=start_time, manifest_url=manifest_url, wait_max=30)\n",
    "    \n",
    "#######################################\n",
    "# Poll for the Matrix Service results #\n",
    "#######################################\n",
    "\n",
    "url_to_download = None\n",
    "\n",
    "def wait_and_get_results(widget, start_time, manifest_url, wait_max=30):\n",
    "    global url_to_download\n",
    "    \n",
    "    # Make the request for the matrix file  \n",
    "    try:\n",
    "        manifest_request = requests.get(manifest_url).json()\n",
    "    except:\n",
    "        widget.status = 'Error'\n",
    "        display(HTML('<div class=\"alert alert-danger\">Encountered an error parsing the Matrix Service response</div>'))  \n",
    "\n",
    "    # If Status == 301 the service wants us to wait\n",
    "    if manifest_request['Status'] == 301:\n",
    "        elapsed_time = round(time.time() - start_time)                              # Get time elapsed\n",
    "        widget.status = \"Running \" + str(datetime.timedelta(seconds=elapsed_time))  # Set status\n",
    "        manifest_url = manifest_request['Location']                                 # Set the new URL to query\n",
    "        time.sleep(min(manifest_request['Retry-After'] * 5, 30))                    # Sleep\n",
    "        \n",
    "        # Recursively call wait_and_get_results() again\n",
    "        wait_and_get_results(widget=widget, start_time=start_time, manifest_url=manifest_url, wait_max=wait_max)\n",
    "        \n",
    "    # If Status == 302 the matrix file is ready\n",
    "    elif manifest_request['Status'] == 302:\n",
    "        widget.status = 'Success'\n",
    "        url_to_download = manifest_request['Location']\n",
    "        display(nbtools.UIOutput(name='Matrix Service Results', files=[manifest_request['Location']]))\n",
    "    \n",
    "    # An unknown status is probably an error\n",
    "    else:\n",
    "        widget.status = 'Error ' + response_json['status']\n",
    "        display(HTML('<div class=\"alert alert-danger\">An error was encountered when generating the matrix file</div>'))  \n",
    "        \n",
    "#######################################\n",
    "# Is the given string a URL?          #\n",
    "#######################################\n",
    "        \n",
    "def is_url(project):\n",
    "    parsed = urllib.parse.urlparse(project)\n",
    "    return (parsed.scheme and parsed.netloc)"
   ]
  },
  {
   "cell_type": "markdown",
   "metadata": {},
   "source": [
    "## 3. Save matrix to workspace\n",
    "\n",
    "<div class=\"alert alert-info\">\n",
    "<h3 style=\"margin-top: 0;\"> Instructions <i class=\"fa fa-info-circle\"></i></h3>\n",
    "    <p>Click the <i>Save to Workspace</i> button below to save a copy of the matrix to your notebook workspace.</p>\n",
    "</div>"
   ]
  },
  {
   "cell_type": "code",
   "execution_count": 13,
   "metadata": {
    "nbtools": {
     "show_code": false,
     "type": "uibuilder"
    }
   },
   "outputs": [
    {
     "data": {
      "application/vnd.jupyter.widget-view+json": {
       "model_id": "c24f2128485b45cab84d422cb29e8e4e",
       "version_major": 2,
       "version_minor": 0
      },
      "text/plain": [
       "Button(description='Save to Workspace', style=ButtonStyle(), _dom_classes=('btn-primary',))"
      ]
     },
     "metadata": {},
     "output_type": "display_data"
    },
    {
     "data": {
      "text/html": [
       "\n",
       "    <script type=\"text/javascript\">$('.cell > .input').hide();</script>\n"
      ],
      "text/plain": [
       "<IPython.core.display.HTML object>"
      ]
     },
     "metadata": {},
     "output_type": "display_data"
    }
   ],
   "source": [
    "import ipywidgets\n",
    "import urllib.request \n",
    "\n",
    "def download(event):\n",
    "    global url_to_download\n",
    "    \n",
    "    print('Saving the matrix to the notebook workspace... Please wait...')\n",
    "    urllib.request.urlretrieve(url_to_download, 'expression_matrix.mtx')\n",
    "    print('Complete')\n",
    "\n",
    "save_to_workspace = ipywidgets.Button(description=\"Save to Workspace\", _dom_classes=['btn-primary'])\n",
    "save_to_workspace.on_click(download)\n",
    "display(save_to_workspace)\n",
    "\n",
    "# Hide code hack\n",
    "display(HTML(\"\"\"\n",
    "    <script type=\"text/javascript\">$('.cell > .input').hide();</script>\n",
    "\"\"\"))"
   ]
  },
  {
   "cell_type": "markdown",
   "metadata": {},
   "source": [
    "https://data.humancellatlas.org/project-assets/project-matrices/cddab57b-6868-4be4-806f-395ed9dd635a.homo_sapiens.loom"
   ]
  },
  {
   "cell_type": "code",
   "execution_count": 8,
   "metadata": {
    "genepattern": {
     "name": "Login",
     "server": "https://cloud.genepattern.org/gp",
     "type": "auth"
    }
   },
   "outputs": [
    {
     "data": {
      "application/vnd.jupyter.widget-view+json": {
       "model_id": "3a3a96392f3c4293a15809083f3cc392",
       "version_major": 2,
       "version_minor": 0
      },
      "text/plain": [
       "GPAuthWidget()"
      ]
     },
     "metadata": {},
     "output_type": "display_data"
    }
   ],
   "source": [
    "# Requires GenePattern Notebook: pip install genepattern-notebook\n",
    "import gp\n",
    "import genepattern\n",
    "\n",
    "# Username and password removed for security reasons.\n",
    "genepattern.display(genepattern.session.register(\"https://cloud.genepattern.org/gp\", \"\", \"\"))"
   ]
  },
  {
   "cell_type": "markdown",
   "metadata": {},
   "source": [
    "%load_ext rpy2.ipython\n",
    "%load_ext nbtools.r_support"
   ]
  },
  {
   "cell_type": "code",
   "execution_count": null,
   "metadata": {},
   "outputs": [],
   "source": [
    "%%R\n",
    "library(Seurat)"
   ]
  },
  {
   "cell_type": "markdown",
   "metadata": {},
   "source": [
    "%%R\n",
    "library(Seurat)\n",
    "data_dir <- 'sampled_data'\n",
    "list.files(data_dir)\n",
    "expression_matrix <- Read10X(data.dir = data_dir)\n",
    "seurat_object = CreateSeuratObject(counts = expression_matrix)\n",
    "head(seurat_object)"
   ]
  },
  {
   "cell_type": "code",
   "execution_count": null,
   "metadata": {},
   "outputs": [],
   "source": [
    "%load_ext rpy2.ipython\n",
    "%load_ext nbtools.r_support\n",
    "import genepattern"
   ]
  },
  {
   "cell_type": "code",
   "execution_count": null,
   "metadata": {},
   "outputs": [],
   "source": [
    "%load_ext rpy2.ipython\n",
    "%load_ext nbtools.r_support\n",
    "import genepattern"
   ]
  },
  {
   "cell_type": "code",
   "execution_count": null,
   "metadata": {},
   "outputs": [],
   "source": [
    "%%R\n",
    "library(CONOS)"
   ]
  },
  {
   "cell_type": "code",
   "execution_count": null,
   "metadata": {},
   "outputs": [],
   "source": [
    "%%R\n",
    "library(Seurat)"
   ]
  },
  {
   "cell_type": "markdown",
   "metadata": {},
   "source": []
  },
  {
   "cell_type": "markdown",
   "metadata": {},
   "source": [
    "%load_ext rpy2.ipython\n",
    "%load_ext nbtools.r_support\n",
    "import genepattern"
   ]
  },
  {
   "cell_type": "markdown",
   "metadata": {},
   "source": [
    "%%R\n",
    "library(Seurat)"
   ]
  },
  {
   "cell_type": "code",
   "execution_count": 7,
   "metadata": {},
   "outputs": [
    {
     "name": "stderr",
     "output_type": "stream",
     "text": [
      "R[write to console]: Warning:\n",
      "R[write to console]:  Non-unique cell names (colnames) present in the input matrix, making unique\n",
      "\n",
      "R[write to console]: Warning:\n",
      "R[write to console]:  Feature names cannot have underscores ('_'), replacing with dashes ('-')\n",
      "\n"
     ]
    },
    {
     "name": "stdout",
     "output_type": "stream",
     "text": [
      "An object of class Seurat \n",
      "1 features across 2544 samples within 1 assay \n",
      "Active assay: RNA (1 features)\n"
     ]
    }
   ],
   "source": [
    "%%R\n",
    "library(Seurat)\n",
    "data_dir <- 'sampled_data'\n",
    "list.files(data_dir)\n",
    "expression_matrix <- Read10X(data.dir = data_dir)\n",
    "seurat_object = CreateSeuratObject(counts = expression_matrix)\n",
    "head(seurat_object)"
   ]
  },
  {
   "cell_type": "markdown",
   "metadata": {},
   "source": [
    "%%R\n",
    "pbmc<-seurat_object"
   ]
  },
  {
   "cell_type": "markdown",
   "metadata": {
    "nbtools": {
     "description": "",
     "name": "Add Mitochondrial QC Metrics",
     "origin": "nbtools.r_support",
     "param_values": {
      "column_name": "percent.mt",
      "output_var": "",
      "pattern": "MT-"
     },
     "show_code": false,
     "type": "uibuilder"
    }
   },
   "source": [
    "%%r_build_ui { \"name\": \"Add Mitochondrial QC Metrics\", \"parameters\": { \"column_name\": { \"type\": \"string\", \"default\":\"percent.mt\" },\"pattern\": { \"type\": \"string\", \"default\":\"MT-\" }, \"output_var\": { \"hide\": \"True\" } } }\n",
    "\n",
    "set_mito_qc <- function(colName, pat) {\n",
    "    \n",
    "    pattern <- paste(\"^\", trimws(pat, which = \"both\"), sep=\"\")\n",
    "    \n",
    "    # The [[ operator can add columns to object metadata. This is a great place to stash QC stats\n",
    "    pbmc[[colName]] <- PercentageFeatureSet(pbmc, pattern = pattern)\n",
    "    print(\"done!\")\n",
    "    return(pbmc)\n",
    "}\n",
    "\n",
    "\n",
    "pbmc <- set_mito_qc(column_name, pattern)"
   ]
  },
  {
   "cell_type": "markdown",
   "metadata": {
    "nbtools": {
     "description": "",
     "name": "Triple Violin Plot",
     "origin": "nbtools.r_support",
     "param_values": {
      "first_feature": "nFeature_RNA",
      "output_var": "",
      "second_feature": "nCount_RNA",
      "third_feature": "percent.mt"
     },
     "show_code": false,
     "type": "uibuilder"
    }
   },
   "source": [
    "%%r_build_ui { \"width\": 10, \"height\": 300, \"name\": \"Triple Violin Plot\", \"parameters\": { \"first_feature\": { \"type\": \"string\", \"default\":\"nFeature_RNA\" }, \"second_feature\":{ \"type\": \"string\", \"default\":\"nCount_RNA\"}, \"third_feature\": { \"type\": \"string\", \"default\":\"percent.mt\" }, \"output_var\":{\"hide\":\"True\"} } }\n",
    "# Visualize QC metrics as a violin plot\n",
    "#VlnPlot(pbmc, features = c(first_feature, second_feature, third_feature), ncol = 3)\n",
    "tripleViolin <- function(first, second, third){\n",
    "     \n",
    "    feats <- c(first, second, third)\n",
    "    plot(VlnPlot(pbmc, features = feats, ncol = 3, combine=TRUE), fig.height=5, fig.width=15)\n",
    "    return(\"\")\n",
    "}\n",
    "\n",
    "tripleViolin(first_feature, second_feature, third_feature)"
   ]
  },
  {
   "cell_type": "markdown",
   "metadata": {
    "nbtools": {
     "description": "",
     "name": "Subset Data",
     "origin": "nbtools.r_support",
     "param_values": {
      "max_n_features": "10000",
      "max_percent_mitochondrial": "50",
      "min_n_features": "200",
      "output_var": ""
     },
     "show_code": false,
     "type": "uibuilder"
    }
   },
   "source": [
    "%%r_build_ui { \"name\": \"Subset Data\", \"parameters\": { \"min_n_features\": { \"type\": \"number\", \"default\":\"200\" },\"max_n_features\": { \"type\": \"number\", \"default\":\"2500\" },\"max_percent_mitochondrial\": { \"type\": \"number\", \"default\":\"5\" }, \"output_var\": { \"hide\": \"True\" } } }\n",
    "\n",
    "my_subset <- function(min_n_features, max_n_features, max_percent_mitochondrial){\n",
    "#     print(pbmc)\n",
    "    pbmc <- subset(pbmc, subset = nFeature_RNA > min_n_features & nFeature_RNA < max_n_features & percent.mt < max_percent_mitochondrial)\n",
    "#     print(pbmc)\n",
    "    print('filtering done!')\n",
    "    return(pbmc)\n",
    "}\n",
    "\n",
    "pbmc <- my_subset(min_n_features, max_n_features, max_percent_mitochonrial)"
   ]
  },
  {
   "cell_type": "markdown",
   "metadata": {
    "nbtools": {
     "description": "",
     "name": "Normalize",
     "origin": "nbtools.r_support",
     "param_values": {
      "method": "LogNormalize",
      "output_var": "",
      "scale_factor": "10000"
     },
     "show_code": false,
     "type": "uibuilder"
    }
   },
   "source": [
    "%%r_build_ui { \"name\": \"Normalize\", \"parameters\": { \"method\": { \"type\": \"string\", \"default\":\"LogNormalize\" },\"scale_factor\": { \"type\": \"number\", \"default\":\"10000\" }, \"output_var\": { \"hide\": \"True\" } } }\n",
    "\n",
    "norm_pbmc <- function(meth, scale){\n",
    "    pbmc <- NormalizeData(pbmc, normalization.method = meth, scale.factor = scale)\n",
    "    print('Normalization done!')\n",
    "    return(pbmc)\n",
    "}\n",
    "\n",
    "pbmc <- norm_pbmc(method, scale_factor)"
   ]
  },
  {
   "cell_type": "markdown",
   "metadata": {
    "nbtools": {
     "description": "",
     "name": "Feature Selection",
     "origin": "nbtools.r_support",
     "param_values": {
      "method": "vst",
      "num_features": "2000",
      "num_to_label": "10",
      "output_var": ""
     },
     "show_code": false,
     "type": "uibuilder"
    }
   },
   "source": [
    "%%r_build_ui { \"name\": \"Feature Selection\", \"parameters\": { \"method\": { \"type\": \"string\", \"default\":\"vst\",\"hide\":\"True\" },\"num_features\": { \"type\": \"number\", \"default\":\"2000\" }, \"num_to_label\":{\"type\": \"number\", \"default\": \"10\", \"description\": \"label the top N features in the plot.\"}, \"output_var\": { \"hide\": \"True\" } } }\n",
    "#%%R -w 800 -h 450\n",
    "\n",
    "feat_sel_plot <- function(meth, nFeat, nLabel){\n",
    "    pbmc <- FindVariableFeatures(pbmc, selection.method = meth, nfeatures = nFeat)\n",
    "\n",
    "    # Identify the 10 most highly variable genes\n",
    "    top10 <- head(VariableFeatures(pbmc), nLabel)\n",
    "\n",
    "    # plot variable features with and without labels\n",
    "    plot1 <- VariableFeaturePlot(pbmc)\n",
    "    plot2 <- LabelPoints(plot = plot1, points = top10, repel = TRUE)\n",
    "    print(plot2)\n",
    "    #plot(CombinePlots(plots = list(plot1, plot2)))\n",
    "    return(pbmc)\n",
    "}\n",
    "\n",
    "pbmc <- feat_sel_plot(method, num_features, num_to_label)"
   ]
  },
  {
   "cell_type": "markdown",
   "metadata": {
    "nbtools": {
     "description": "",
     "name": "Scale Data",
     "origin": "nbtools.r_support",
     "param_values": {
      "output_var": ""
     },
     "show_code": false,
     "type": "uibuilder"
    },
    "scrolled": true
   },
   "source": [
    "%%r_build_ui {\"name\": \"Scale Data\", \"parameters\": {\"output_var\":{\"hide\": \"True\"}}}\n",
    "myscale <- function(pbmc){\n",
    "    all.genes <- rownames(pbmc)\n",
    "    pbmc <- ScaleData(pbmc, features = all.genes)\n",
    "    print('done!')\n",
    "    return(pbmc)\n",
    "}\n",
    "pbmc <- myscale(pbmc)"
   ]
  },
  {
   "cell_type": "markdown",
   "metadata": {
    "nbtools": {
     "description": "",
     "name": "Perform PCA",
     "origin": "nbtools.r_support",
     "param_values": {
      "output_var": ""
     },
     "show_code": false,
     "type": "uibuilder"
    }
   },
   "source": [
    "%%r_build_ui {\"name\":\"Perform PCA\", \"parameters\":{\"output_var\":{\"hide\":\"True\"}}}\n",
    "\n",
    "mypca <-function(pbmc){ \n",
    "    feats <- VariableFeatures(object = pbmc)\n",
    "    pbmc <-RunPCA(pbmc, features = feats, nfeatures.print=5)\n",
    "   \n",
    "    return(pbmc)\n",
    "}\n",
    "pbmc <- mypca(pbmc)"
   ]
  },
  {
   "cell_type": "markdown",
   "metadata": {
    "nbtools": {
     "description": "",
     "name": "Elbow Plot",
     "origin": "nbtools.r_support",
     "param_values": {
      "output_var": ""
     },
     "show_code": false,
     "type": "uibuilder"
    }
   },
   "source": [
    "%%r_build_ui {\"name\":\"Elbow Plot\", \"parameters\": {  \"output_var\": {\"hide\": \"True\"} }}\n",
    "ebp <- function(){\n",
    "    plot(ElbowPlot(pbmc))\n",
    "    return(pbmc)\n",
    "}\n",
    "ebp()"
   ]
  },
  {
   "cell_type": "markdown",
   "metadata": {
    "nbtools": {
     "description": "",
     "name": "Save preprocessed dataset",
     "origin": "nbtools.r_support",
     "param_values": {
      "file_name": "pbmc_preprocessed.rds",
      "output_var": ""
     },
     "show_code": true,
     "type": "uibuilder"
    }
   },
   "source": [
    "%%r_build_ui {\"name\":\"Save preprocessed dataset\", \"parameters\": {  \"file_name\": {\"default\":\"pbmc_preprocessed.rds\"}, \"output_var\": {\"hide\": \"True\"} }}\n",
    "save_it <- function(fileName){\n",
    "    saveRDS(pbmc, file = fileName)\n",
    "    print(\"Saved file!\")\n",
    "    print(fileName)\n",
    "    return(pbmc)\n",
    "}\n",
    "save_it(file_name)"
   ]
  },
  {
   "cell_type": "markdown",
   "metadata": {
    "nbtools": {
     "description": "",
     "name": "Python Results",
     "origin": "Notebook",
     "param_values": {
      "file": "pbmc_preprocessed.rds",
      "output_var": "quantification_source"
     },
     "show_code": false,
     "type": "uibuilder"
    }
   },
   "source": [
    "import os\n",
    "@nbtools.build_ui(name=\"Upload file to GenePattern Server\", parameters={\n",
    "    \"file\": {\n",
    "        \"name\": \"File to upload:\",\n",
    "        \"default\":\"pbmc_preprocessed.rds\"\n",
    "    },\n",
    "    \"output_var\": {\n",
    "    \"name\": \"results\",\n",
    "    \"description\": \"\",\n",
    "    \"default\": \"quantification_source\",\n",
    "    \"hide\": True\n",
    "    }\n",
    "})\n",
    "def load_file(file):\n",
    "    import genepattern\n",
    "    uio = nbtools.UIOutput()\n",
    "    display(uio)\n",
    "    uio.status = \"Uploading...\"\n",
    "    uploaded_file = genepattern.session.get(0).upload_file(file_name=os.path.basename(file),file_path=file)\n",
    "    uio.status = \"Uploaded!\"\n",
    "    display(nbtools.UIOutput(files=[uploaded_file.get_url()]))\n",
    "    return()\n",
    "#     uio.files = [uploaded_file.get_url()]"
   ]
  },
  {
   "cell_type": "markdown",
   "metadata": {
    "genepattern": {
     "name": "Login",
     "server": "https://cloud.genepattern.org/gp",
     "type": "auth"
    }
   },
   "source": [
    "# Requires GenePattern Notebook: pip install genepattern-notebook\n",
    "import gp\n",
    "import genepattern\n",
    "\n",
    "# Username and password removed for security reasons.\n",
    "genepattern.display(genepattern.session.register(\"https://cloud.genepattern.org/gp\", \"\", \"\"))"
   ]
  },
  {
   "cell_type": "code",
   "execution_count": 10,
   "metadata": {
    "genepattern": {
     "description": "Companion module for the <a href=\"\">Seurat notebook</a>. Performs clustering and marker identification on single cell data.",
     "name": "SeuratClustering",
     "param_values": {
      "input.seurat.rds.file": [
       "https://cloud.genepattern.org/gp/users/edjuaro/tmp/run6091471600723303417.tmp/pbmc_preprocessed.rds"
      ],
      "job.cpuCount": null,
      "job.memory": null,
      "job.queue": null,
      "job.walltime": null,
      "maximum_dimension": null,
      "output.filename": null,
      "reduction": null,
      "resolution": null
     },
     "type": "task"
    }
   },
   "outputs": [
    {
     "data": {
      "application/vnd.jupyter.widget-view+json": {
       "model_id": "8cf7e0390a5b4efe949e6d0369149103",
       "version_major": 2,
       "version_minor": 0
      },
      "text/plain": [
       "GPTaskWidget(lsid='urn:lsid:broad.mit.edu:cancer.software.genepattern.module.analysis:00408')"
      ]
     },
     "metadata": {},
     "output_type": "display_data"
    },
    {
     "data": {
      "application/vnd.jupyter.widget-view+json": {
       "model_id": "edd1b71f42bf4329987e10502a8be9a7",
       "version_major": 2,
       "version_minor": 0
      },
      "text/plain": [
       "GPJobWidget(job_number=198605)"
      ]
     },
     "metadata": {},
     "output_type": "display_data"
    }
   ],
   "source": [
    "seuratclustering_task = gp.GPTask(genepattern.session.get(0), 'urn:lsid:broad.mit.edu:cancer.software.genepattern.module.analysis:00408')\n",
    "seuratclustering_job_spec = seuratclustering_task.make_job_spec()\n",
    "seuratclustering_job_spec.set_parameter(\"input.seurat.rds.file\", \"https://cloud.genepattern.org/gp/users/edjuaro/tmp/run6091471600723303417.tmp/pbmc_preprocessed.rds\")\n",
    "seuratclustering_job_spec.set_parameter(\"output.filename\", \"<input.seurat.rds.file_basename>.clustered\")\n",
    "seuratclustering_job_spec.set_parameter(\"maximum_dimension\", \"10\")\n",
    "seuratclustering_job_spec.set_parameter(\"resolution\", \"0.5\")\n",
    "seuratclustering_job_spec.set_parameter(\"reduction\", \"umap\")\n",
    "seuratclustering_job_spec.set_parameter(\"job.memory\", \"2 Gb\")\n",
    "seuratclustering_job_spec.set_parameter(\"job.queue\", \"gp-cloud-default\")\n",
    "seuratclustering_job_spec.set_parameter(\"job.cpuCount\", \"1\")\n",
    "seuratclustering_job_spec.set_parameter(\"job.walltime\", \"02:00:00\")\n",
    "genepattern.display(seuratclustering_task)\n",
    "\n",
    "\n",
    "job198605 = gp.GPJob(genepattern.session.get(0), 198605)\n",
    "genepattern.display(job198605)"
   ]
  },
  {
   "cell_type": "markdown",
   "metadata": {},
   "source": []
  }
 ],
 "metadata": {
  "kernelspec": {
   "display_name": "Python 3.7",
   "language": "python",
   "name": "python3.7"
  },
  "language_info": {
   "codemirror_mode": {
    "name": "ipython",
    "version": 3
   },
   "file_extension": ".py",
   "mimetype": "text/x-python",
   "name": "python",
   "nbconvert_exporter": "python",
   "pygments_lexer": "ipython3",
   "version": "3.7.6"
  },
  "toc": {
   "base_numbering": 1,
   "nav_menu": {},
   "number_sections": false,
   "sideBar": true,
   "skip_h1_title": false,
   "title_cell": "Table of Contents",
   "title_sidebar": "Contents",
   "toc_cell": false,
   "toc_position": {},
   "toc_section_display": true,
   "toc_window_display": false
  }
 },
 "nbformat": 4,
 "nbformat_minor": 2
}
