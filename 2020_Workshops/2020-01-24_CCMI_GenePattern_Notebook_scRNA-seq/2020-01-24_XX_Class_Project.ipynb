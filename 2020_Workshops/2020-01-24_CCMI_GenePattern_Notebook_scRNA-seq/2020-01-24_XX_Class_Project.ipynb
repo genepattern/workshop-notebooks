{
 "cells": [
  {
   "cell_type": "markdown",
   "metadata": {},
   "source": [
    "# Class Project\n",
    "## GenePattern Single Cell Analyses Workshop "
   ]
  },
  {
   "cell_type": "markdown",
   "metadata": {},
   "source": [
    "<div class=\"alert alert-info\">\n",
    "<p class=\"lead\"> Instructions <i class=\"fa fa-info-circle\"></i></p>\n",
    "Log in to GenePettern with your credentials.\n",
    "</div>"
   ]
  },
  {
   "cell_type": "code",
   "execution_count": 17,
   "metadata": {
    "genepattern": {
     "name": "Login",
     "server": "https://cloud.genepattern.org/gp",
     "type": "auth"
    },
    "scrolled": false
   },
   "outputs": [
    {
     "data": {
      "application/vnd.jupyter.widget-view+json": {
       "model_id": "625fb63243c740ffb2258647d142ef9f",
       "version_major": 2,
       "version_minor": 0
      },
      "text/plain": [
       "GPAuthWidget()"
      ]
     },
     "metadata": {},
     "output_type": "display_data"
    }
   ],
   "source": [
    "# Requires GenePattern Notebook: pip install genepattern-notebook\n",
    "import gp\n",
    "import genepattern\n",
    "\n",
    "# Username and password removed for security reasons.\n",
    "genepattern.display(genepattern.session.register(\"https://cloud.genepattern.org/gp\", \"\", \"\"))"
   ]
  },
  {
   "cell_type": "markdown",
   "metadata": {},
   "source": [
    "<div class=\"alert alert-danger\">\n",
    "Clean up this section\n",
    "</div>"
   ]
  },
  {
   "cell_type": "markdown",
   "metadata": {},
   "source": [
    "In the Human Cell Atlas we can navigate thi this page:\n",
    "\n",
    "from https://data.humancellatlas.org/explore/projects/cddab57b-6868-4be4-806f-395ed9dd635a/m/expression-matrices\n",
    "\n",
    "Which can be accessed from: https://data.humancellatlas.org/explore/projects?filter=%5B%7B%22facetName%22%3A%22genusSpecies%22%2C%22terms%22%3A%5B%22Homo+sapiens%22%5D%7D%2C%7B%22facetName%22%3A%22organ%22%2C%22terms%22%3A%5B%22pancreas%22%5D%7D%5D\n",
    "\n",
    "There, we will copy the link to the file which contains the data in the MTX format:\n",
    "https://data.humancellatlas.org/project-assets/project-matrices/cddab57b-6868-4be4-806f-395ed9dd635a.homo_sapiens.mtx.zip"
   ]
  },
  {
   "cell_type": "markdown",
   "metadata": {},
   "source": [
    "<div class=\"alert alert-info\">\n",
    "<p class=\"lead\"> Instructions <i class=\"fa fa-info-circle\"></i></p>\n",
    "    \n",
    "Paste the link to the `mtx.zip` file in the `url*` parameter below\n",
    "</div>"
   ]
  },
  {
   "cell_type": "code",
   "execution_count": 71,
   "metadata": {
    "nbtools": {
     "description": "Setup the R and Python environments for the rest of this notebook. Downloads the example dataset to the notebook server.",
     "name": "download_MTX_zip",
     "origin": "Notebook",
     "param_values": {
      "output_var": "folder",
      "url": "https://data.humancellatlas.org/project-assets/project-matrices/cddab57b-6868-4be4-806f-395ed9dd635a.homo_sapiens.mtx.zip"
     },
     "show_code": false,
     "type": "uibuilder"
    }
   },
   "outputs": [
    {
     "name": "stdout",
     "output_type": "stream",
     "text": [
      "The nbtools.r_support extension is already loaded. To reload it, use:\n",
      "  %reload_ext nbtools.r_support\n"
     ]
    },
    {
     "data": {
      "application/vnd.jupyter.widget-view+json": {
       "model_id": "d435e0b2a3d04426870871d6619ae4a3",
       "version_major": 2,
       "version_minor": 0
      },
      "text/plain": [
       "UIBuilder(description='Setup the R and Python environments for the rest of this notebook. Downloads the exampl…"
      ]
     },
     "metadata": {},
     "output_type": "display_data"
    },
    {
     "data": {
      "application/javascript": [
       "\n",
       "            NBToolManager.instance().register(new NBToolManager.NBTool({\n",
       "                origin: \"Notebook\",\n",
       "                id: \"download_MTX_zip\",\n",
       "                name: \"download_MTX_zip\",\n",
       "                description: \"Setup the R and Python environments for the rest of this notebook. Downloads the example dataset to the notebook server.\",\n",
       "                version: \"null\",\n",
       "                tags: null,\n",
       "                attributes: null,\n",
       "                load: function() { return true; },\n",
       "                render: function() { let code = \"nbtools.tool(id='download_MTX_zip', origin='Notebook')\";\n",
       "                let cell = Jupyter.notebook.get_selected_cell();\n",
       "                const is_empty = cell.get_text().trim() === \"\";\n",
       "\n",
       "                // If this cell is not empty, insert a new cell and use that\n",
       "                // Otherwise just use this cell\n",
       "                if (!is_empty) {\n",
       "                    cell = Jupyter.notebook.insert_cell_below();\n",
       "                    Jupyter.notebook.select_next();\n",
       "                }\n",
       "\n",
       "                cell.set_text(code);\n",
       "                cell.execute();\n",
       "\n",
       "                return cell; },\n",
       "            }));"
      ]
     },
     "metadata": {},
     "output_type": "display_data"
    }
   ],
   "source": [
    "import os \n",
    "import shutil\n",
    "import urllib.request\n",
    "import subprocess\n",
    "import rpy2\n",
    "%load_ext nbtools.r_support\n",
    "\n",
    "@genepattern.build_ui(description=\"Setup the R and Python environments for the rest of this notebook. Downloads the example dataset to the notebook server.\", \n",
    "                      parameters={\"url\":{\"name\":\"url\",\"default\":\"https://data.humancellatlas.org/project-assets/project-matrices/cddab57b-6868-4be4-806f-395ed9dd635a.homo_sapiens.mtx.zip\"},\n",
    "                                  \"output_var\": {\"name\":\"folder\",\"default\":\"folder\",\"hide\":\"true\"}\n",
    "                                 })\n",
    "def download_MTX_zip(url):\n",
    "    %load_ext rpy2.ipython\n",
    "    print(\"Retrieving input data...\") \n",
    "    base_name = 'temp_data.mtx.zip'\n",
    "    os.makedirs('data/input_data/unzipped_data', exist_ok=True)\n",
    "    urllib.request.urlretrieve(url, f'data/input_data/{base_name}')\n",
    "    subprocess.run([\"unzip\", f\"data/input_data/\"+f\"{base_name}\",\"-d\",f\"data/input_data/unzipped_data/\"])\n",
    "    folder = os.listdir(\"data/input_data/unzipped_data/\")[0]\n",
    "    folder = os.path.join(\"data/input_data/unzipped_data\",folder)\n",
    "    \n",
    "    # cache the last downloaded copy if its a repeat (just in case)\n",
    "    unzipPath = \"data/input_data/unzipped_data/downloaded_MTX_folder\"\n",
    "    if os.path.exists(unzipPath):\n",
    "        if os.path.exists(unzipPath + \"_PREVIOUS\"):\n",
    "            shutil.rmtree(unzipPath + \"_PREVIOUS\")\n",
    "        print(\"Saving old copy of the data as \"+unzipPath + \"_PREVIOUS\")\n",
    "        os.rename(unzipPath, unzipPath + \"_PREVIOUS\");  \n",
    "        \n",
    "    os.rename(folder,\"data/input_data/unzipped_data/downloaded_MTX_folder\")\n",
    "    folder = 'data/input_data/unzipped_data/downloaded_MTX_folder'\n",
    "    print(f'Data unzipped to: {folder}')\n",
    "    print(\"Done.\")\n",
    "    return folder"
   ]
  },
  {
   "cell_type": "markdown",
   "metadata": {},
   "source": [
    "<div class=\"alert alert-info\">\n",
    "<p class=\"lead\"> Instructions <i class=\"fa fa-info-circle\"></i></p>\n",
    "    \n",
    "Input here the directory where your data resides. If you used default parameters, it should be in `data/input_data/unzipped_data/downloaded_MTX_folder`\n",
    "</div>"
   ]
  },
  {
   "cell_type": "code",
   "execution_count": 70,
   "metadata": {
    "nbtools": {
     "description": "",
     "name": "Setup Seurat Objects",
     "origin": "nbtools.r_support",
     "param_values": {
      "data_dir": "data/input_data/unzipped_data/downloaded_MTX_folder",
      "output_var": ""
     },
     "show_code": false,
     "type": "uibuilder"
    }
   },
   "outputs": [
    {
     "data": {
      "application/vnd.jupyter.widget-view+json": {
       "model_id": "ac22f7b326ec4b4bbc4714b4c307df8b",
       "version_major": 2,
       "version_minor": 0
      },
      "text/plain": [
       "UIBuilder(function_import='nbtools._r_wrappers[\"9C75C8590599CCF9A0352DB8AB5C2F39\"]', name='Setup Seurat Object…"
      ]
     },
     "metadata": {},
     "output_type": "display_data"
    }
   ],
   "source": [
    "%%r_build_ui { \"name\": \"Setup Seurat Objects\", \"parameters\": { \"data_dir\":{\"name\":\"data_dir\",},\"output_var\": { \"hide\": \"True\" } } }\n",
    "\n",
    "setupR <- function(data_dir){\n",
    "    \n",
    "    write(\"Loading libraries...\", stdout())\n",
    "    suppressMessages(library(Seurat))\n",
    "    suppressMessages(library(scater))\n",
    "    # Load the dataset\n",
    "    write(c(\"Reading data from\",data_dir), stdout())\n",
    "    suppressMessages(pbmc.data <- Read10X(data.dir = data_dir))\n",
    "    \n",
    "    # Initialize the Seurat object with the raw (non-normalized data).\n",
    "    write(\"Loadig data into Seurat...\", stdout())\n",
    "    pbmc <- CreateSeuratObject(counts = pbmc.data, project = \"pbmc3k\", min.cells = 3, min.features = 200)\n",
    "    write(\"Done with this step.\", stdout())\n",
    "    return(pbmc)\n",
    "}\n",
    "suppressMessages(pbmc <- setupR(data_dir))"
   ]
  },
  {
   "cell_type": "markdown",
   "metadata": {},
   "source": [
    "<div class=\"alert alert-info\">\n",
    "<p class=\"lead\"> Instructions <i class=\"fa fa-info-circle\"></i></p>\n",
    "    \n",
    "Click `Run` to add mitochondiral QC metrics.\n",
    "</div>"
   ]
  },
  {
   "cell_type": "code",
   "execution_count": 69,
   "metadata": {
    "nbtools": {
     "description": "",
     "name": "Add Mitochondrial QC Metrics",
     "origin": "nbtools.r_support",
     "param_values": {
      "column_name": "percent.mt",
      "output_var": "",
      "pattern": "MT-"
     },
     "show_code": false,
     "type": "uibuilder"
    }
   },
   "outputs": [
    {
     "data": {
      "application/vnd.jupyter.widget-view+json": {
       "model_id": "4938d8cf36ea4db79c99c1905ae7fb66",
       "version_major": 2,
       "version_minor": 0
      },
      "text/plain": [
       "UIBuilder(function_import='nbtools._r_wrappers[\"5394781EB1FB7234C0D376B63D60B74D\"]', name='Add Mitochondrial Q…"
      ]
     },
     "metadata": {},
     "output_type": "display_data"
    }
   ],
   "source": [
    "%%r_build_ui { \"name\": \"Add Mitochondrial QC Metrics\", \"parameters\": { \"column_name\": { \"type\": \"string\", \"default\":\"percent.mt\" },\"pattern\": { \"type\": \"string\", \"default\":\"MT-\" }, \"output_var\": { \"hide\": \"True\" } } }\n",
    "\n",
    "set_mito_qc <- function(colName, pat) {\n",
    "    write(\"Calculating the frequency of mitochondrial genes...\", stdout())\n",
    "    pattern <- paste(\"^\", trimws(pat, which = \"both\"), sep=\"\")\n",
    "    \n",
    "    # The [[ operator can add columns to object metadata. This is a great place to stash QC stats\n",
    "    pbmc[[colName]] <- PercentageFeatureSet(pbmc, pattern = pattern)\n",
    "    write(\"Done!\", stdout())\n",
    "    return(pbmc)\n",
    "}\n",
    "\n",
    "\n",
    "suppressMessages(pbmc <- set_mito_qc(column_name, pattern))"
   ]
  },
  {
   "cell_type": "markdown",
   "metadata": {},
   "source": [
    "<div class=\"alert alert-info\">\n",
    "<p class=\"lead\"> Instructions <i class=\"fa fa-info-circle\"></i></p>\n",
    "\n",
    "Plot the three features (nFeature_RNA, nCount_RNA, and percent.mt) to decide which filters to use in the next step.\n",
    "</div>"
   ]
  },
  {
   "cell_type": "code",
   "execution_count": 68,
   "metadata": {
    "nbtools": {
     "description": "",
     "name": "Triple Violin Plot",
     "origin": "nbtools.r_support",
     "param_values": {
      "first_feature": "nFeature_RNA",
      "output_var": "",
      "second_feature": "nCount_RNA",
      "third_feature": "percent.mt"
     },
     "show_code": false,
     "type": "uibuilder"
    },
    "scrolled": true
   },
   "outputs": [
    {
     "data": {
      "application/vnd.jupyter.widget-view+json": {
       "model_id": "c75a5aa7aa43498c8210d522f1c9a623",
       "version_major": 2,
       "version_minor": 0
      },
      "text/plain": [
       "UIBuilder(function_import='nbtools._r_wrappers[\"2CE493410E1D9F5C44B7299CCA1B94F9\"]', name='Triple Violin Plot'…"
      ]
     },
     "metadata": {},
     "output_type": "display_data"
    }
   ],
   "source": [
    "%%r_build_ui -w 800 { \"width\": 10, \"height\": 300, \"name\": \"Triple Violin Plot\", \"parameters\": { \"first_feature\": { \"type\": \"string\", \"default\":\"nFeature_RNA\" }, \"second_feature\":{ \"type\": \"string\", \"default\":\"nCount_RNA\"}, \"third_feature\": { \"type\": \"string\", \"default\":\"percent.mt\" }, \"output_var\":{\"hide\":\"True\"} } }\n",
    "# Visualize QC metrics as a violin plot\n",
    "#VlnPlot(pbmc, features = c(first_feature, second_feature, third_feature), ncol = 3)\n",
    "tripleViolin <- function(first, second, third){\n",
    "     \n",
    "    feats <- c(first, second, third)\n",
    "    plot(VlnPlot(pbmc, features = feats, ncol = 3, combine=TRUE), fig.height=5, fig.width=15)\n",
    "    return(\"\")\n",
    "}\n",
    "\n",
    "tripleViolin(first_feature, second_feature, third_feature)"
   ]
  },
  {
   "cell_type": "markdown",
   "metadata": {},
   "source": [
    "<div class=\"alert alert-info\">\n",
    "<p class=\"lead\"> Instructions <i class=\"fa fa-info-circle\"></i></p>\n",
    "\n",
    "Based on the three violin plots above, input which filters to apply to the data.\n",
    "</div>"
   ]
  },
  {
   "cell_type": "code",
   "execution_count": 67,
   "metadata": {
    "nbtools": {
     "description": "",
     "name": "Subset Data",
     "origin": "nbtools.r_support",
     "param_values": {
      "max_n_features": "9000",
      "max_percent_mitochondrial": "50",
      "min_n_features": "200",
      "output_var": ""
     },
     "show_code": false,
     "type": "uibuilder"
    },
    "scrolled": true
   },
   "outputs": [
    {
     "data": {
      "application/vnd.jupyter.widget-view+json": {
       "model_id": "9db010796d5e4cc5b9cd3eaf443072c6",
       "version_major": 2,
       "version_minor": 0
      },
      "text/plain": [
       "UIBuilder(function_import='nbtools._r_wrappers[\"BEAF6867F4DD88D1D90E645F090AD1EB\"]', name='Subset Data', origi…"
      ]
     },
     "metadata": {},
     "output_type": "display_data"
    }
   ],
   "source": [
    "%%r_build_ui { \"name\": \"Subset Data\", \"parameters\": { \"min_n_features\": { \"type\": \"number\", \"default\":\"200\" },\"max_n_features\": { \"type\": \"number\", \"default\":\"9000\" },\"max_percent_mitochondrial\": { \"type\": \"number\", \"default\":\"50\" }, \"output_var\": { \"hide\": \"True\" } } }\n",
    "\n",
    "my_subset <- function(min_n_features, max_n_features, max_percent_mitochondrial){\n",
    "#     print(pbmc)\n",
    "    pbmc <- subset(pbmc, subset = nFeature_RNA > min_n_features & nFeature_RNA < max_n_features & percent.mt < max_percent_mitochondrial)\n",
    "#     print(pbmc)\n",
    "    write('filtering done!', stdout())\n",
    "    return(pbmc)\n",
    "}\n",
    "\n",
    "pbmc <- my_subset(min_n_features, max_n_features, max_percent_mitochonrial)"
   ]
  },
  {
   "cell_type": "markdown",
   "metadata": {},
   "source": [
    "<div class=\"alert alert-info\">\n",
    "<p class=\"lead\"> Instructions <i class=\"fa fa-info-circle\"></i></p>\n",
    "Click run to apply a log-normalization and scaling of the data.\n",
    "</div>"
   ]
  },
  {
   "cell_type": "code",
   "execution_count": 66,
   "metadata": {
    "nbtools": {
     "description": "",
     "name": "Normalize",
     "origin": "nbtools.r_support",
     "param_values": {
      "method": "LogNormalize",
      "output_var": "",
      "scale_factor": "10000"
     },
     "show_code": false,
     "type": "uibuilder"
    }
   },
   "outputs": [
    {
     "data": {
      "application/vnd.jupyter.widget-view+json": {
       "model_id": "c7f59a4db09b447480dceaf593306ffb",
       "version_major": 2,
       "version_minor": 0
      },
      "text/plain": [
       "UIBuilder(function_import='nbtools._r_wrappers[\"17C521EFD8671C919BEAB09B1E9844CA\"]', name='Normalize', origin=…"
      ]
     },
     "metadata": {},
     "output_type": "display_data"
    }
   ],
   "source": [
    "\n",
    "%%r_build_ui { \"name\": \"Normalize\", \"parameters\": { \"method\": { \"type\": \"string\", \"default\":\"LogNormalize\" },\"scale_factor\": { \"type\": \"number\", \"default\":\"10000\" }, \"output_var\": { \"hide\": \"True\" } } }\n",
    "\n",
    "norm_pbmc <- function(meth, scale){\n",
    "    write(\"Normalizing data...\", stdout())\n",
    "    invisible(pbmc <- NormalizeData(pbmc, normalization.method = meth, scale.factor = scale, verbose = F))\n",
    "    write('Normalization done!', stdout())\n",
    "    return(pbmc)\n",
    "}\n",
    "\n",
    "pbmc <- norm_pbmc(method, scale_factor)"
   ]
  },
  {
   "cell_type": "markdown",
   "metadata": {},
   "source": [
    "<div class=\"alert alert-info\">\n",
    "<p class=\"lead\"> Instructions <i class=\"fa fa-info-circle\"></i></p>\n",
    "Click run to show genes which are highly variable in this experiment. Take note of these genes as they may be helpful in downstream analyses.\n",
    "</div>"
   ]
  },
  {
   "cell_type": "code",
   "execution_count": 65,
   "metadata": {
    "nbtools": {
     "description": "",
     "name": "Feature Selection",
     "origin": "nbtools.r_support",
     "param_values": {
      "method": "vst",
      "num_features": "2000",
      "num_to_label": "10",
      "output_var": ""
     },
     "show_code": false,
     "type": "uibuilder"
    }
   },
   "outputs": [
    {
     "data": {
      "application/vnd.jupyter.widget-view+json": {
       "model_id": "4586f5477d1a4e45bae01735aabd4772",
       "version_major": 2,
       "version_minor": 0
      },
      "text/plain": [
       "UIBuilder(function_import='nbtools._r_wrappers[\"F39D5C14DE7405F2A246EDCD0A7343A5\"]', name='Feature Selection',…"
      ]
     },
     "metadata": {},
     "output_type": "display_data"
    }
   ],
   "source": [
    "%%r_build_ui { \"name\": \"Feature Selection\", \"parameters\": { \"method\": { \"type\": \"string\", \"default\":\"vst\",\"hide\":\"True\" },\"num_features\": { \"type\": \"number\", \"default\":\"2000\" }, \"num_to_label\":{\"type\": \"number\", \"default\": \"10\", \"description\": \"label the top N features in the plot.\"}, \"output_var\": { \"hide\": \"True\" } } }\n",
    "#%%R -w 800 -h 450\n",
    "\n",
    "feat_sel_plot <- function(meth, nFeat, nLabel){\n",
    "    write(\"Identifying variable features...\", stdout())\n",
    "    invisible(capture.output(pbmc <- FindVariableFeatures(pbmc, selection.method = meth, nfeatures = nFeat, \n",
    "                                                         verbose=F)))\n",
    "    write(\"Done!\", stdout())\n",
    "\n",
    "    # Identify the 10 most highly variable genes\n",
    "    top10 <- head(VariableFeatures(pbmc), nLabel)\n",
    "\n",
    "    # plot variable features with and without labels\n",
    "    invisible(capture.output(plot1 <- VariableFeaturePlot(pbmc)))\n",
    "    invisible(capture.output(plot2 <- LabelPoints(plot = plot1, points = top10, repel = TRUE)))\n",
    "    print(plot2)\n",
    "    #plot(CombinePlots(plots = list(plot1, plot2)))\n",
    "    return(pbmc)\n",
    "}\n",
    "\n",
    "pbmc <- feat_sel_plot(method, num_features, num_to_label)"
   ]
  },
  {
   "cell_type": "markdown",
   "metadata": {},
   "source": [
    "<div class=\"alert alert-info\">\n",
    "<p class=\"lead\"> Instructions <i class=\"fa fa-info-circle\"></i></p>\n",
    "Click run to compute PCA.\n",
    "</div>"
   ]
  },
  {
   "cell_type": "code",
   "execution_count": 64,
   "metadata": {
    "nbtools": {
     "description": "",
     "name": "Compute PCA",
     "origin": "nbtools.r_support",
     "param_values": {
      "output_var": ""
     },
     "show_code": false,
     "type": "uibuilder"
    }
   },
   "outputs": [
    {
     "data": {
      "application/vnd.jupyter.widget-view+json": {
       "model_id": "c45f4867ba9e4d288c4431a98892ad1b",
       "version_major": 2,
       "version_minor": 0
      },
      "text/plain": [
       "UIBuilder(function_import='nbtools._r_wrappers[\"B4FD6D5F6DDD139951633655E86DAFD1\"]', name='Compute PCA', origi…"
      ]
     },
     "metadata": {},
     "output_type": "display_data"
    }
   ],
   "source": [
    "%%r_build_ui {\"name\": \"Compute PCA\", \"parameters\": {\"output_var\":{\"hide\": \"True\"}}}\n",
    "myscale <- function(pbmc){\n",
    "    write(\"Scaling data...\", stdout())\n",
    "    all.genes <- rownames(pbmc)\n",
    "    invisible(capture.output(pbmc <- ScaleData(pbmc, features = all.genes, verbose = F)))\n",
    "    write('Done scaling data!', stdout())\n",
    "    \n",
    "    feats <- VariableFeatures(object = pbmc, verbose = F)\n",
    "    pbmc <- RunPCA(pbmc, features = feats, nfeatures.print=5, verbose=F)\n",
    "    write('Done computing PCA. Elbow plot below.', stdout())\n",
    "    \n",
    "    plot(ElbowPlot(pbmc))\n",
    "    \n",
    "    return(pbmc)\n",
    "}\n",
    "pbmc <- myscale(pbmc)"
   ]
  },
  {
   "cell_type": "code",
   "execution_count": 63,
   "metadata": {
    "nbtools": {
     "description": "",
     "name": "Save preprocessed dataset",
     "origin": "nbtools.r_support",
     "param_values": {
      "file_name": "Seurat_preprocessed.rds",
      "output_var": ""
     },
     "show_code": false,
     "type": "uibuilder"
    }
   },
   "outputs": [
    {
     "data": {
      "application/vnd.jupyter.widget-view+json": {
       "model_id": "19d8d609a5aa40419a52ae011c576109",
       "version_major": 2,
       "version_minor": 0
      },
      "text/plain": [
       "UIBuilder(function_import='nbtools._r_wrappers[\"5FAEA968D1109686A4AC3270ED1C93C0\"]', name='Save preprocessed d…"
      ]
     },
     "metadata": {},
     "output_type": "display_data"
    }
   ],
   "source": [
    "%%r_build_ui {\"name\":\"Save preprocessed dataset\", \"parameters\": {  \"file_name\": {\"default\":\"Seurat_preprocessed.rds\"}, \"output_var\": {\"hide\": \"True\"} }}\n",
    "save_it <- function(fileName){\n",
    "    write('Saving file to the notebook workspace. This may take a while (this file may be aboyt 1 GB in size)...', stdout())\n",
    "    saveRDS(pbmc, file = fileName)\n",
    "    print(\"Saved file!\")\n",
    "    return(pbmc)\n",
    "}\n",
    "save_it(file_name)"
   ]
  },
  {
   "cell_type": "code",
   "execution_count": 62,
   "metadata": {
    "nbtools": {
     "description": "",
     "name": "Upload file to GenePattern Server",
     "origin": "Notebook",
     "param_values": {
      "file": "Seurat_preprocessed.rds",
      "output_var": "quantification_source"
     },
     "show_code": false,
     "type": "uibuilder"
    }
   },
   "outputs": [
    {
     "data": {
      "application/vnd.jupyter.widget-view+json": {
       "model_id": "f3017fba1e0e496bbca9eb8b7d20fa4f",
       "version_major": 2,
       "version_minor": 0
      },
      "text/plain": [
       "UIBuilder(function_import='nbtools.tool(id=\"Upload file to GenePattern Server\", origin=\"Notebook\").function_or…"
      ]
     },
     "metadata": {},
     "output_type": "display_data"
    },
    {
     "data": {
      "application/javascript": [
       "\n",
       "            NBToolManager.instance().register(new NBToolManager.NBTool({\n",
       "                origin: \"Notebook\",\n",
       "                id: \"Upload file to GenePattern Server\",\n",
       "                name: \"Upload file to GenePattern Server\",\n",
       "                description: \"\",\n",
       "                version: \"null\",\n",
       "                tags: null,\n",
       "                attributes: null,\n",
       "                load: function() { return true; },\n",
       "                render: function() { let code = \"nbtools.tool(id='Upload file to GenePattern Server', origin='Notebook')\";\n",
       "                let cell = Jupyter.notebook.get_selected_cell();\n",
       "                const is_empty = cell.get_text().trim() === \"\";\n",
       "\n",
       "                // If this cell is not empty, insert a new cell and use that\n",
       "                // Otherwise just use this cell\n",
       "                if (!is_empty) {\n",
       "                    cell = Jupyter.notebook.insert_cell_below();\n",
       "                    Jupyter.notebook.select_next();\n",
       "                }\n",
       "\n",
       "                cell.set_text(code);\n",
       "                cell.execute();\n",
       "\n",
       "                return cell; },\n",
       "            }));"
      ]
     },
     "metadata": {},
     "output_type": "display_data"
    }
   ],
   "source": [
    "@nbtools.build_ui(name=\"Upload file to GenePattern Server\", parameters={\n",
    "    \"file\": {\n",
    "        \"name\": \"File to upload:\",\n",
    "        \"default\":\"Seurat_preprocessed.rds\"\n",
    "    },\n",
    "    \"output_var\": {\n",
    "    \"name\": \"results\",\n",
    "    \"description\": \"\",\n",
    "    \"default\": \"quantification_source\",\n",
    "    \"hide\": True\n",
    "    }\n",
    "})\n",
    "def load_file(file):\n",
    "    import genepattern\n",
    "    uio = nbtools.UIOutput()\n",
    "    display(uio)\n",
    "    size = os.path.getsize(file)\n",
    "    print(f'This file size is {round(size/1e6)} MB, it may take a while to upload.')\n",
    "    uio.status = \"Uploading...\"\n",
    "    uploaded_file = genepattern.session.get(0).upload_file(file_name=os.path.basename(file),file_path=file)\n",
    "    uio.status = \"Uploaded!\"\n",
    "    display(nbtools.UIOutput(files=[uploaded_file.get_url()]))\n",
    "    return()"
   ]
  },
  {
   "cell_type": "markdown",
   "metadata": {
    "heading_collapsed": true
   },
   "source": [
    "### Hide this"
   ]
  },
  {
   "cell_type": "markdown",
   "metadata": {
    "hidden": true
   },
   "source": [
    "<div class=\"alert alert-info\">\n",
    "<p class=\"lead\"> Instructions <i class=\"fa fa-info-circle\"></i></p>\n",
    "If the above steps are taking too long (save+upload), feel free to use this.\n",
    "</div>"
   ]
  },
  {
   "cell_type": "code",
   "execution_count": 2,
   "metadata": {
    "hidden": true,
    "nbtools": {
     "description": "",
     "name": "Python Results",
     "show_code": false,
     "type": "uioutput"
    }
   },
   "outputs": [
    {
     "data": {
      "application/vnd.jupyter.widget-view+json": {
       "model_id": "70d2295dd0e249dd841221e6b1702f36",
       "version_major": 2,
       "version_minor": 0
      },
      "text/plain": [
       "UIOutput(files=['https://datasets.genepattern.org/data/module_support_files/SeuratClustering/Seurat_preprocess…"
      ]
     },
     "metadata": {},
     "output_type": "display_data"
    }
   ],
   "source": [
    "display(nbtools.UIOutput(text='If the above steps are taking too long (save+upload), feel free to use this.',\n",
    "                         files=['https://datasets.genepattern.org/data/module_support_files/SeuratClustering/Seurat_preprocessed_prebaked.rds']))"
   ]
  },
  {
   "cell_type": "markdown",
   "metadata": {},
   "source": [
    "## Seurat Clustering"
   ]
  },
  {
   "cell_type": "code",
   "execution_count": 18,
   "metadata": {
    "genepattern": {
     "description": "Companion module for the <a href=\"\">Seurat notebook</a>. Performs clustering and marker identification on single cell data.",
     "name": "SeuratClustering",
     "param_values": {
      "input.seurat.rds.file": [
       "https://cloud.genepattern.org/gp/users/ted/tmp/run662634363058379919.tmp/Seurat_preprocessed.rds"
      ],
      "job.cpuCount": null,
      "job.memory": null,
      "job.queue": null,
      "job.walltime": null,
      "maximum_dimension": null,
      "output.filename": null,
      "reduction": null,
      "resolution": null
     },
     "show_code": true,
     "type": "task"
    }
   },
   "outputs": [
    {
     "data": {
      "application/vnd.jupyter.widget-view+json": {
       "model_id": "36d7d9aea3144aa6a164495f4eb8973f",
       "version_major": 2,
       "version_minor": 0
      },
      "text/plain": [
       "GPTaskWidget(lsid='urn:lsid:broad.mit.edu:cancer.software.genepattern.module.analysis:00408')"
      ]
     },
     "metadata": {},
     "output_type": "display_data"
    }
   ],
   "source": [
    "seuratclustering_task = gp.GPTask(genepattern.session.get(0), 'urn:lsid:broad.mit.edu:cancer.software.genepattern.module.analysis:00408')\n",
    "seuratclustering_job_spec = seuratclustering_task.make_job_spec()\n",
    "seuratclustering_job_spec.set_parameter(\"input.seurat.rds.file\", \"https://cloud.genepattern.org/gp/users/ted/tmp/run662634363058379919.tmp/Seurat_preprocessed.rds\")\n",
    "seuratclustering_job_spec.set_parameter(\"output.filename\", \"<input.seurat.rds.file_basename>.clustered\")\n",
    "seuratclustering_job_spec.set_parameter(\"maximum_dimension\", \"10\")\n",
    "seuratclustering_job_spec.set_parameter(\"resolution\", \"0.5\")\n",
    "seuratclustering_job_spec.set_parameter(\"reduction\", \"umap\")\n",
    "seuratclustering_job_spec.set_parameter(\"job.memory\", \"2 Gb\")\n",
    "seuratclustering_job_spec.set_parameter(\"job.queue\", \"gp-cloud-default\")\n",
    "seuratclustering_job_spec.set_parameter(\"job.cpuCount\", \"1\")\n",
    "seuratclustering_job_spec.set_parameter(\"job.walltime\", \"02:00:00\")\n",
    "genepattern.display(seuratclustering_task)"
   ]
  },
  {
   "cell_type": "markdown",
   "metadata": {},
   "source": [
    "# Visualize Seurat results"
   ]
  },
  {
   "cell_type": "markdown",
   "metadata": {},
   "source": [
    "## Download files from GPServer"
   ]
  },
  {
   "cell_type": "markdown",
   "metadata": {
    "heading_collapsed": true
   },
   "source": [
    "#### pre-baked"
   ]
  },
  {
   "cell_type": "markdown",
   "metadata": {
    "hidden": true
   },
   "source": [
    "<div class=\"alert alert-info\">\n",
    "<p class=\"lead\"> Instructions <i class=\"fa fa-info-circle\"></i></p>\n",
    "If the above is not working, run the cell below to access the pre-ran results.\n",
    "</div>"
   ]
  },
  {
   "cell_type": "code",
   "execution_count": 61,
   "metadata": {
    "genepattern": {
     "name": "Job #199267",
     "type": "job"
    },
    "hidden": true
   },
   "outputs": [
    {
     "data": {
      "application/vnd.jupyter.widget-view+json": {
       "model_id": "f7d4d208358d4bf79f37fc7067635d3f",
       "version_major": 2,
       "version_minor": 0
      },
      "text/plain": [
       "GPJobWidget(job_number=199267)"
      ]
     },
     "metadata": {},
     "output_type": "display_data"
    }
   ],
   "source": [
    "job199267 = gp.GPJob(genepattern.session.get(0), 199267)\n",
    "genepattern.display(job199267)"
   ]
  },
  {
   "cell_type": "markdown",
   "metadata": {
    "hidden": true
   },
   "source": [
    "<div class=\"alert alert-info\">\n",
    "<p class=\"lead\"> Instructions <i class=\"fa fa-info-circle\"></i></p>\n",
    "Download the CSV file.\n",
    "</div>"
   ]
  },
  {
   "cell_type": "code",
   "execution_count": 14,
   "metadata": {
    "hidden": true,
    "nbtools": {
     "description": "",
     "name": "Python Results",
     "origin": "Notebook",
     "param_values": {
      "File_Name": "",
      "Job_File_Url": null,
      "file": [
       "https://cloud.genepattern.org/gp/jobResults/199956/Seurat_preprocessed.clustered.rds.csv"
      ],
      "output_var": ""
     },
     "show_code": false,
     "type": "uibuilder"
    }
   },
   "outputs": [
    {
     "data": {
      "application/vnd.jupyter.widget-view+json": {
       "model_id": "f2b766bae37c4ac7b20c4d2f48f60a20",
       "version_major": 2,
       "version_minor": 0
      },
      "text/plain": [
       "UIBuilder(collapse=False, description='Download file from a GenePattern module job result.', function_import='…"
      ]
     },
     "metadata": {},
     "output_type": "display_data"
    }
   ],
   "source": [
    "import os\n",
    "\n",
    "DownloadJobResultFile_description = \"Download file from a GenePattern module job result.\"\n",
    "DownloadJobResultFile_parameters = {\"file\": {\"type\": \"file\", \"kinds\": [\"csv\", \"rds\"]}, \"output_var\": {\"hide\": True}}   \n",
    "        \n",
    "def DownloadJobResultFile(file):\n",
    "    # extract job number and file name from url\n",
    "    job_num = file.split(\"/\")[-2]\n",
    "    remote_file_name = file.split(\"/\")[-1]\n",
    "    \n",
    "    # get the job based on the job number passed as the second argument\n",
    "    job = gp.GPJob(genepattern.get_session(0), job_num)\n",
    "\n",
    "    # fetch a specific file from the job\n",
    "    remote_file = job.get_file(remote_file_name)\n",
    "    \n",
    "    uio = nbtools.UIOutput(text=file)\n",
    "    display(uio)\n",
    "    uio.status = \"Downloading...\"\n",
    "    \n",
    "    File_Name = os.path.basename(file)\n",
    "\n",
    "    response = remote_file.open()\n",
    "    CHUNK = 16 * 1024\n",
    "    with open(File_Name, 'wb') as f:\n",
    "        while True:\n",
    "            chunk = response.read(CHUNK)\n",
    "            if not chunk:\n",
    "                break\n",
    "            f.write(chunk)\n",
    "    uio.status = \"Downloaded!\"\n",
    "    print(File_Name)\n",
    "    display(nbtools.UIOutput(files=[File_Name]))\n",
    "    \n",
    "genepattern.GPUIBuilder(DownloadJobResultFile, collapse=False,\n",
    "                    name='Download File From GenePattern Server',\n",
    "                    description=DownloadJobResultFile_description,\n",
    "                    parameters=DownloadJobResultFile_parameters)"
   ]
  },
  {
   "cell_type": "markdown",
   "metadata": {
    "hidden": true
   },
   "source": [
    "<div class=\"alert alert-info\">\n",
    "<p class=\"lead\"> Instructions <i class=\"fa fa-info-circle\"></i></p>\n",
    "Download the RDS file.\n",
    "</div>\n",
    "<div class=\"well well-sm\">\n",
    "<b>Note:</b> This takes about 30 seconds on a <i>high speed</i> connnection, please be patient.\n",
    "</div>"
   ]
  },
  {
   "cell_type": "code",
   "execution_count": 15,
   "metadata": {
    "hidden": true,
    "nbtools": {
     "description": "",
     "name": "Python Results",
     "origin": "Notebook",
     "param_values": {
      "file": [
       "https://cloud.genepattern.org/gp/jobResults/199956/Seurat_preprocessed.clustered.rds.rds"
      ],
      "output_var": ""
     },
     "show_code": false,
     "type": "uibuilder"
    }
   },
   "outputs": [
    {
     "data": {
      "application/vnd.jupyter.widget-view+json": {
       "model_id": "dc4eb9bc01eb40c2b00c437ec888573f",
       "version_major": 2,
       "version_minor": 0
      },
      "text/plain": [
       "UIBuilder(collapse=False, description='Download file from a GenePattern module job result.', function_import='…"
      ]
     },
     "metadata": {},
     "output_type": "display_data"
    }
   ],
   "source": [
    "genepattern.GPUIBuilder(DownloadJobResultFile, collapse=False,\n",
    "                    name='Download File From GenePattern Server',\n",
    "                    description=DownloadJobResultFile_description,\n",
    "                    parameters=DownloadJobResultFile_parameters)"
   ]
  },
  {
   "cell_type": "markdown",
   "metadata": {},
   "source": [
    "## Load data into notebook"
   ]
  },
  {
   "cell_type": "code",
   "execution_count": 60,
   "metadata": {
    "nbtools": {
     "description": "",
     "name": "Load dataset with clustering",
     "origin": "nbtools.r_support",
     "param_values": {
      "CSV_file": null,
      "CSV_filename": "Seurat_preprocessed.clustered.rds.csv",
      "CSV_url": [
       "Seurat_preprocessed.clustered.rds.csv"
      ],
      "RDS_url": [
       "Seurat_preprocessed.clustered.rds.rds"
      ],
      "output_var": ""
     },
     "show_code": false,
     "type": "uibuilder"
    }
   },
   "outputs": [
    {
     "data": {
      "application/vnd.jupyter.widget-view+json": {
       "model_id": "9bed0e63ab874bae98ff9c2911e31821",
       "version_major": 2,
       "version_minor": 0
      },
      "text/plain": [
       "UIBuilder(function_import='nbtools._r_wrappers[\"5F73CA99F5EEB32D1CF47636D624B986\"]', name='Load dataset with c…"
      ]
     },
     "metadata": {},
     "output_type": "display_data"
    }
   ],
   "source": [
    "%%r_build_ui {\"name\":\"Load dataset with clustering\", \"parameters\": {\"RDS_url\":{\"name\":\"RDS file\",\"default\":\"Seurat_preprocessed.clustered.rds.rds\",'type':\"file\"}, \"CSV_url\":{\"name\":\"CSV_file\",\"type\":\"file\",\"default\":\"Seurat_preprocessed.clustered.rds.csv\"}, \"output_var\": {\"hide\": \"True\"} }}\n",
    "\n",
    "load_markers <- function(CSV_url) {\n",
    "    write(\"Loading cluster markers into notebook...\", stdout())\n",
    "    markers <- read.csv(CSV_url)\n",
    "    write(\"Done!\", stdout())\n",
    "    return(markers)\n",
    "}\n",
    "load_it <- function(RDS_url){\n",
    "    write(\"Loading clustering results into notebook...\", stdout())\n",
    "    pbmc <- readRDS(file = RDS_url)\n",
    "    write(\"Loaded file!\", stdout())\n",
    "    return(pbmc)\n",
    "}\n",
    "suppressWarnings(markers <- load_markers(CSV_url))\n",
    "pbmc <- load_it(RDS_url)"
   ]
  },
  {
   "cell_type": "code",
   "execution_count": 58,
   "metadata": {
    "nbtools": {
     "description": "",
     "name": "Visualize clusters",
     "origin": "nbtools.r_support",
     "param_values": {
      "output_var": ""
     },
     "show_code": false,
     "type": "uibuilder"
    },
    "scrolled": true
   },
   "outputs": [
    {
     "data": {
      "application/vnd.jupyter.widget-view+json": {
       "model_id": "31f96810cc9a49e296788566c598e476",
       "version_major": 2,
       "version_minor": 0
      },
      "text/plain": [
       "UIBuilder(function_import='nbtools._r_wrappers[\"8159EC018310FB1FF49E98A5A61016DD\"]', name='Visualize clusters'…"
      ]
     },
     "metadata": {},
     "output_type": "display_data"
    }
   ],
   "source": [
    "%%r_build_ui {\"name\": \"Visualize clusters\", \"parameters\": {\"output_var\": {\"hide\": \"True\"}}}\n",
    "library(Seurat)\n",
    "do_dim_plot <- function() {\n",
    "    plot(DimPlot(pbmc, reduction = \"umap\"))\n",
    "    return(\"\")\n",
    "}\n",
    "do_dim_plot()"
   ]
  },
  {
   "cell_type": "code",
   "execution_count": 59,
   "metadata": {
    "nbtools": {
     "description": "",
     "name": "Print top cluster markers",
     "origin": "nbtools.r_support",
     "param_values": {
      "cluster_number": "3",
      "output_var": ""
     },
     "show_code": false,
     "type": "uibuilder"
    }
   },
   "outputs": [
    {
     "data": {
      "application/vnd.jupyter.widget-view+json": {
       "model_id": "dc3f1b0b1a874417abfbbc506b3cc5d4",
       "version_major": 2,
       "version_minor": 0
      },
      "text/plain": [
       "UIBuilder(function_import='nbtools._r_wrappers[\"B14173BB5E052FC7CA9D6C352178E7C4\"]', name='Print top cluster m…"
      ]
     },
     "metadata": {},
     "output_type": "display_data"
    }
   ],
   "source": [
    "%%r_build_ui {\"name\": \"Print top cluster markers\", \"parameters\": {\"cluster_number\": {}, \"output_var\": {\"hide\": \"True\"}}}\n",
    "print_top_markers <- function(cluster_number) {\n",
    "    return(head(markers[markers$cluster==cluster_number,], n = 5))\n",
    "}\n",
    "print_top_markers(cluster_number)"
   ]
  },
  {
   "cell_type": "code",
   "execution_count": 57,
   "metadata": {
    "nbtools": {
     "description": "",
     "name": "Violin plot of gene expression",
     "origin": "nbtools.r_support",
     "param_values": {
      "gene": "CLPS",
      "output_var": ""
     },
     "show_code": false,
     "type": "uibuilder"
    }
   },
   "outputs": [
    {
     "data": {
      "application/vnd.jupyter.widget-view+json": {
       "model_id": "938ec4663e8a43edb1935bc37a62d83a",
       "version_major": 2,
       "version_minor": 0
      },
      "text/plain": [
       "UIBuilder(function_import='nbtools._r_wrappers[\"538C97A2B8CC11DF57961C4D36D4BD21\"]', name='Violin plot of gene…"
      ]
     },
     "metadata": {},
     "output_type": "display_data"
    }
   ],
   "source": [
    "%%r_build_ui {\"name\": \"Violin plot of gene expression\", \"parameters\": {\"gene\": {}, \"output_var\": {\"hide\": \"True\"}}}\n",
    "do_violin <- function(gene) {\n",
    "    plot(VlnPlot(pbmc, features = c(gene), slot = \"counts\", log = TRUE))\n",
    "    return(\"\")\n",
    "}\n",
    "do_violin(gene)"
   ]
  },
  {
   "cell_type": "code",
   "execution_count": 56,
   "metadata": {
    "nbtools": {
     "description": "",
     "name": "Expression of gene across all clusters",
     "origin": "nbtools.r_support",
     "param_values": {
      "gene": "CLPS",
      "output_var": ""
     },
     "show_code": false,
     "type": "uibuilder"
    }
   },
   "outputs": [
    {
     "data": {
      "application/vnd.jupyter.widget-view+json": {
       "model_id": "a533f5c6be4b4855a0b76c9a6d806e50",
       "version_major": 2,
       "version_minor": 0
      },
      "text/plain": [
       "UIBuilder(function_import='nbtools._r_wrappers[\"D3CC74669A3F0C2F4AC3A95972B63152\"]', name='Expression of gene …"
      ]
     },
     "metadata": {},
     "output_type": "display_data"
    }
   ],
   "source": [
    "%%r_build_ui {\"name\": \"Expression of gene across all clusters\", \"parameters\": {\"gene\": {}, \"output_var\": {\"hide\": \"True\"}}}\n",
    "do_umap_gene <- function(gene) {\n",
    "    plot(FeaturePlot(pbmc, features = c(gene)))\n",
    "    return(\"\")\n",
    "}\n",
    "do_umap_gene(gene)"
   ]
  },
  {
   "cell_type": "code",
   "execution_count": null,
   "metadata": {},
   "outputs": [],
   "source": []
  }
 ],
 "metadata": {
  "kernelspec": {
   "display_name": "Python 3.7",
   "language": "python",
   "name": "python3.7"
  },
  "language_info": {
   "codemirror_mode": {
    "name": "ipython",
    "version": 3
   },
   "file_extension": ".py",
   "mimetype": "text/x-python",
   "name": "python",
   "nbconvert_exporter": "python",
   "pygments_lexer": "ipython3",
   "version": "3.7.6"
  },
  "toc": {
   "base_numbering": 1,
   "nav_menu": {},
   "number_sections": false,
   "sideBar": true,
   "skip_h1_title": false,
   "title_cell": "Table of Contents",
   "title_sidebar": "Contents",
   "toc_cell": false,
   "toc_position": {},
   "toc_section_display": true,
   "toc_window_display": false
  }
 },
 "nbformat": 4,
 "nbformat_minor": 2
}
