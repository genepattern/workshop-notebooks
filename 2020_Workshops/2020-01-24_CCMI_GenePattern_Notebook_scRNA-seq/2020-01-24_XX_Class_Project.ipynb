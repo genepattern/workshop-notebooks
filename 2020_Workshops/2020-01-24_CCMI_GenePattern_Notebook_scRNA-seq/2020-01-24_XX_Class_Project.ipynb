{
 "cells": [
  {
   "cell_type": "markdown",
   "metadata": {},
   "source": []
  },
  {
   "cell_type": "code",
   "execution_count": 23,
   "metadata": {
    "genepattern": {
     "name": "Login",
     "server": "https://cloud.genepattern.org/gp",
     "type": "auth"
    }
   },
   "outputs": [
    {
     "data": {
      "application/vnd.jupyter.widget-view+json": {
       "model_id": "507b630fb5c7441d85238416c1253662",
       "version_major": 2,
       "version_minor": 0
      },
      "text/plain": [
       "GPAuthWidget()"
      ]
     },
     "metadata": {},
     "output_type": "display_data"
    }
   ],
   "source": [
    "# Requires GenePattern Notebook: pip install genepattern-notebook\n",
    "import gp\n",
    "import genepattern\n",
    "\n",
    "# Username and password removed for security reasons.\n",
    "genepattern.display(genepattern.session.register(\"https://cloud.genepattern.org/gp\", \"\", \"\"))"
   ]
  },
  {
   "cell_type": "markdown",
   "metadata": {},
   "source": [
    "In the Human Cell Atlas we can navigate thi this page:\n",
    "\n",
    "from https://data.humancellatlas.org/explore/projects/cddab57b-6868-4be4-806f-395ed9dd635a/m/expression-matrices\n",
    "\n",
    "Which can be accessed from: https://data.humancellatlas.org/explore/projects?filter=%5B%7B%22facetName%22%3A%22genusSpecies%22%2C%22terms%22%3A%5B%22Homo+sapiens%22%5D%7D%2C%7B%22facetName%22%3A%22organ%22%2C%22terms%22%3A%5B%22pancreas%22%5D%7D%5D\n",
    "\n",
    "There, we will copy the link to the file which contains the data in the MTX format:\n",
    "https://data.humancellatlas.org/project-assets/project-matrices/cddab57b-6868-4be4-806f-395ed9dd635a.homo_sapiens.mtx.zip"
   ]
  },
  {
   "cell_type": "code",
   "execution_count": 5,
   "metadata": {
    "nbtools": {
     "description": "Setup the R and Python environments for the rest of this notebook. Downloads the example dataset to the notebook server.",
     "name": "download_MTX_zip",
     "origin": "Notebook",
     "param_values": {
      "output_var": "folder",
      "url": "https://data.humancellatlas.org/project-assets/project-matrices/cddab57b-6868-4be4-806f-395ed9dd635a.homo_sapiens.mtx.zip"
     },
     "show_code": false,
     "type": "uibuilder"
    }
   },
   "outputs": [
    {
     "data": {
      "application/vnd.jupyter.widget-view+json": {
       "model_id": "04ce05cff8ae4d49ae8c8ff5cca47a5e",
       "version_major": 2,
       "version_minor": 0
      },
      "text/plain": [
       "UIBuilder(description='Setup the R and Python environments for the rest of this notebook. Downloads the exampl…"
      ]
     },
     "metadata": {},
     "output_type": "display_data"
    },
    {
     "data": {
      "application/javascript": [
       "\n",
       "            NBToolManager.instance().register(new NBToolManager.NBTool({\n",
       "                origin: \"Notebook\",\n",
       "                id: \"download_MTX_zip\",\n",
       "                name: \"download_MTX_zip\",\n",
       "                description: \"Setup the R and Python environments for the rest of this notebook. Downloads the example dataset to the notebook server.\",\n",
       "                version: \"null\",\n",
       "                tags: null,\n",
       "                attributes: null,\n",
       "                load: function() { return true; },\n",
       "                render: function() { let code = \"nbtools.tool(id='download_MTX_zip', origin='Notebook')\";\n",
       "                let cell = Jupyter.notebook.get_selected_cell();\n",
       "                const is_empty = cell.get_text().trim() === \"\";\n",
       "\n",
       "                // If this cell is not empty, insert a new cell and use that\n",
       "                // Otherwise just use this cell\n",
       "                if (!is_empty) {\n",
       "                    cell = Jupyter.notebook.insert_cell_below();\n",
       "                    Jupyter.notebook.select_next();\n",
       "                }\n",
       "\n",
       "                cell.set_text(code);\n",
       "                cell.execute();\n",
       "\n",
       "                return cell; },\n",
       "            }));"
      ]
     },
     "metadata": {},
     "output_type": "display_data"
    }
   ],
   "source": [
    "import os \n",
    "import urllib.request\n",
    "import subprocess\n",
    "import rpy2\n",
    "%load_ext nbtools.r_support\n",
    "\n",
    "@genepattern.build_ui(description=\"Setup the R and Python environments for the rest of this notebook. Downloads the example dataset to the notebook server.\", \n",
    "                      parameters={\"url\":{\"name\":\"url\",\"default\":\"https://data.humancellatlas.org/project-assets/project-matrices/cddab57b-6868-4be4-806f-395ed9dd635a.homo_sapiens.mtx.zip\"},\n",
    "                                  \"output_var\": {\"name\":\"folder\",\"default\":\"folder\"}\n",
    "                                 })\n",
    "def download_MTX_zip(url):\n",
    "    %load_ext rpy2.ipython\n",
    "    print(\"Retrieving input data...\")\n",
    "    \n",
    "    base_name = 'temp_data.mtx.zip'\n",
    "    os.makedirs('data/input_data/', exist_ok=True)\n",
    "    urllib.request.urlretrieve(url, f'data/input_data/{base_name}')\n",
    "    \n",
    "\n",
    "    subprocess.run([\"unzip\", f\"data/input_data/\"+f\"{base_name}\"+\".mtx.zip\",\"-d\",f\"data/input_data/unzipped_data/\"])\n",
    "    folder = os.listdir(\"data/input_data/unzipped_data/\")[0]\n",
    "    folder = os.path.join(\"data/input_data/unzipped_data\",folder)\n",
    "    os.rename(folder,\"data/input_data/unzipped_data/downloaded_MTX_folder\")\n",
    "    folder = 'data/input_data/unzipped_data/downloaded_MTX_folder'\n",
    "    print(f'Data unzipped to: {folder}')\n",
    "    print(\"Done.\")\n",
    "    return folder"
   ]
  },
  {
   "cell_type": "code",
   "execution_count": null,
   "metadata": {},
   "outputs": [],
   "source": []
  },
  {
   "cell_type": "code",
   "execution_count": 6,
   "metadata": {
    "nbtools": {
     "description": "",
     "name": "Setup Seurat Objects",
     "origin": "nbtools.r_support",
     "param_values": {
      "data_dir": "data/input_data/unzipped_data/downloaded_MTX_folder",
      "output_var": ""
     },
     "show_code": false,
     "type": "uibuilder"
    }
   },
   "outputs": [
    {
     "data": {
      "application/vnd.jupyter.widget-view+json": {
       "model_id": "f83df97c5a9241b5824d4f613abb5be9",
       "version_major": 2,
       "version_minor": 0
      },
      "text/plain": [
       "UIBuilder(function_import='nbtools._r_wrappers[\"C68CA0B59F7B1F0C9F99F0368363CE35\"]', name='Setup Seurat Object…"
      ]
     },
     "metadata": {},
     "output_type": "display_data"
    }
   ],
   "source": [
    "%%r_build_ui { \"name\": \"Setup Seurat Objects\", \"parameters\": { \"data_dir\":{\"name\":\"data_dir\",},\"output_var\": { \"hide\": \"True\" } } }\n",
    "\n",
    "setupR <- function(data_dir){\n",
    "    \n",
    "    write(\"Loading libraries...\", stdout())\n",
    "    suppressMessages(library(Seurat))\n",
    "    suppressMessages(library(scater))\n",
    "    # Load the dataset\n",
    "    write(c(\"Reading data from\",data_dir), stdout())\n",
    "    suppressMessages(pbmc.data <- Read10X(data.dir = data_dir))\n",
    "    \n",
    "    # Initialize the Seurat object with the raw (non-normalized data).\n",
    "    write(\"Loadig data into Seurat...\", stdout())\n",
    "    pbmc <- CreateSeuratObject(counts = pbmc.data, project = \"pbmc3k\", min.cells = 3, min.features = 200)\n",
    "    write(\"Done with this step.\", stdout())\n",
    "    return(pbmc)\n",
    "}\n",
    "suppressMessages(pbmc <- setupR(data_dir))"
   ]
  },
  {
   "cell_type": "code",
   "execution_count": 7,
   "metadata": {
    "nbtools": {
     "description": "",
     "name": "Add Mitochondrial QC Metrics",
     "origin": "nbtools.r_support",
     "param_values": {
      "column_name": "percent.mt",
      "output_var": "",
      "pattern": "MT-"
     },
     "show_code": false,
     "type": "uibuilder"
    }
   },
   "outputs": [
    {
     "data": {
      "application/vnd.jupyter.widget-view+json": {
       "model_id": "ea849b9f89c545bd966f425953d63a11",
       "version_major": 2,
       "version_minor": 0
      },
      "text/plain": [
       "UIBuilder(function_import='nbtools._r_wrappers[\"517E8D8799A0B18FBFA0C7883A31EDD2\"]', name='Add Mitochondrial Q…"
      ]
     },
     "metadata": {},
     "output_type": "display_data"
    }
   ],
   "source": [
    "%%r_build_ui { \"name\": \"Add Mitochondrial QC Metrics\", \"parameters\": { \"column_name\": { \"type\": \"string\", \"default\":\"percent.mt\" },\"pattern\": { \"type\": \"string\", \"default\":\"MT-\" }, \"output_var\": { \"hide\": \"True\" } } }\n",
    "\n",
    "set_mito_qc <- function(colName, pat) {\n",
    "    write(\"Calculating the frequency of mitochondrial genes...\", stdout())\n",
    "    pattern <- paste(\"^\", trimws(pat, which = \"both\"), sep=\"\")\n",
    "    \n",
    "    # The [[ operator can add columns to object metadata. This is a great place to stash QC stats\n",
    "    pbmc[[colName]] <- PercentageFeatureSet(pbmc, pattern = pattern)\n",
    "    write(\"Done!\", stdout())\n",
    "    return(pbmc)\n",
    "}\n",
    "\n",
    "\n",
    "suppressMessages(pbmc <- set_mito_qc(column_name, pattern))"
   ]
  },
  {
   "cell_type": "code",
   "execution_count": 8,
   "metadata": {
    "nbtools": {
     "description": "",
     "name": "Triple Violin Plot",
     "origin": "nbtools.r_support",
     "param_values": {
      "first_feature": "nFeature_RNA",
      "output_var": "",
      "second_feature": "nCount_RNA",
      "third_feature": "percent.mt"
     },
     "show_code": false,
     "type": "uibuilder"
    }
   },
   "outputs": [
    {
     "data": {
      "application/vnd.jupyter.widget-view+json": {
       "model_id": "0a8eaa508f504046a490ffe1f784d698",
       "version_major": 2,
       "version_minor": 0
      },
      "text/plain": [
       "UIBuilder(function_import='nbtools._r_wrappers[\"D4CB1185118539C5D9EDA8516BAFE078\"]', name='Triple Violin Plot'…"
      ]
     },
     "metadata": {},
     "output_type": "display_data"
    }
   ],
   "source": [
    "%%r_build_ui { \"width\": 10, \"height\": 300, \"name\": \"Triple Violin Plot\", \"parameters\": { \"first_feature\": { \"type\": \"string\", \"default\":\"nFeature_RNA\" }, \"second_feature\":{ \"type\": \"string\", \"default\":\"nCount_RNA\"}, \"third_feature\": { \"type\": \"string\", \"default\":\"percent.mt\" }, \"output_var\":{\"hide\":\"True\"} } }\n",
    "# Visualize QC metrics as a violin plot\n",
    "#VlnPlot(pbmc, features = c(first_feature, second_feature, third_feature), ncol = 3)\n",
    "tripleViolin <- function(first, second, third){\n",
    "     \n",
    "    feats <- c(first, second, third)\n",
    "    plot(VlnPlot(pbmc, features = feats, ncol = 3, combine=TRUE), fig.height=5, fig.width=15)\n",
    "    return(\"\")\n",
    "}\n",
    "\n",
    "tripleViolin(first_feature, second_feature, third_feature)"
   ]
  },
  {
   "cell_type": "code",
   "execution_count": 9,
   "metadata": {
    "nbtools": {
     "description": "",
     "name": "Subset Data",
     "origin": "nbtools.r_support",
     "param_values": {
      "max_n_features": "9000",
      "max_percent_mitochondrial": "50",
      "min_n_features": "200",
      "output_var": ""
     },
     "show_code": false,
     "type": "uibuilder"
    }
   },
   "outputs": [
    {
     "data": {
      "application/vnd.jupyter.widget-view+json": {
       "model_id": "9834050376a04139af121c37cb3469a7",
       "version_major": 2,
       "version_minor": 0
      },
      "text/plain": [
       "UIBuilder(function_import='nbtools._r_wrappers[\"73A73A5FCD84800E16ACB60A2B6DF87D\"]', name='Subset Data', origi…"
      ]
     },
     "metadata": {},
     "output_type": "display_data"
    }
   ],
   "source": [
    "%%r_build_ui { \"name\": \"Subset Data\", \"parameters\": { \"min_n_features\": { \"type\": \"number\", \"default\":\"200\" },\"max_n_features\": { \"type\": \"number\", \"default\":\"9000\" },\"max_percent_mitochondrial\": { \"type\": \"number\", \"default\":\"50\" }, \"output_var\": { \"hide\": \"True\" } } }\n",
    "\n",
    "my_subset <- function(min_n_features, max_n_features, max_percent_mitochondrial){\n",
    "#     print(pbmc)\n",
    "    pbmc <- subset(pbmc, subset = nFeature_RNA > min_n_features & nFeature_RNA < max_n_features & percent.mt < max_percent_mitochondrial)\n",
    "#     print(pbmc)\n",
    "    write('filtering done!', stdout())\n",
    "    return(pbmc)\n",
    "}\n",
    "\n",
    "pbmc <- my_subset(min_n_features, max_n_features, max_percent_mitochonrial)"
   ]
  },
  {
   "cell_type": "code",
   "execution_count": 10,
   "metadata": {
    "nbtools": {
     "description": "",
     "name": "Normalize",
     "origin": "nbtools.r_support",
     "param_values": {
      "method": "LogNormalize",
      "output_var": "",
      "scale_factor": "10000"
     },
     "show_code": false,
     "type": "uibuilder"
    }
   },
   "outputs": [
    {
     "data": {
      "application/vnd.jupyter.widget-view+json": {
       "model_id": "724174f655eb4241a2b0d7b083965ca4",
       "version_major": 2,
       "version_minor": 0
      },
      "text/plain": [
       "UIBuilder(function_import='nbtools._r_wrappers[\"80549E15604A1C40F29DC178F4918335\"]', name='Normalize', origin=…"
      ]
     },
     "metadata": {},
     "output_type": "display_data"
    }
   ],
   "source": [
    "\n",
    "%%r_build_ui { \"name\": \"Normalize\", \"parameters\": { \"method\": { \"type\": \"string\", \"default\":\"LogNormalize\" },\"scale_factor\": { \"type\": \"number\", \"default\":\"10000\" }, \"output_var\": { \"hide\": \"True\" } } }\n",
    "\n",
    "norm_pbmc <- function(meth, scale){\n",
    "    write(\"Normalizing data...\", stdout())\n",
    "    invisible(pbmc <- NormalizeData(pbmc, normalization.method = meth, scale.factor = scale, verbose = F))\n",
    "    write('Normalization done!', stdout())\n",
    "    return(pbmc)\n",
    "}\n",
    "\n",
    "pbmc <- norm_pbmc(method, scale_factor)"
   ]
  },
  {
   "cell_type": "code",
   "execution_count": 11,
   "metadata": {
    "nbtools": {
     "description": "",
     "name": "Feature Selection",
     "origin": "nbtools.r_support",
     "param_values": {
      "method": "vst",
      "num_features": "2000",
      "num_to_label": "10",
      "output_var": ""
     },
     "show_code": false,
     "type": "uibuilder"
    }
   },
   "outputs": [
    {
     "data": {
      "application/vnd.jupyter.widget-view+json": {
       "model_id": "f224ba35c5d0416497b1c56a04d4a273",
       "version_major": 2,
       "version_minor": 0
      },
      "text/plain": [
       "UIBuilder(function_import='nbtools._r_wrappers[\"9C384F7DD495C61B85F767983AF6C8F9\"]', name='Feature Selection',…"
      ]
     },
     "metadata": {},
     "output_type": "display_data"
    }
   ],
   "source": [
    "%%r_build_ui { \"name\": \"Feature Selection\", \"parameters\": { \"method\": { \"type\": \"string\", \"default\":\"vst\",\"hide\":\"True\" },\"num_features\": { \"type\": \"number\", \"default\":\"2000\" }, \"num_to_label\":{\"type\": \"number\", \"default\": \"10\", \"description\": \"label the top N features in the plot.\"}, \"output_var\": { \"hide\": \"True\" } } }\n",
    "#%%R -w 800 -h 450\n",
    "\n",
    "feat_sel_plot <- function(meth, nFeat, nLabel){\n",
    "    write(\"Identifying variable features...\", stdout())\n",
    "    invisible(capture.output(pbmc <- FindVariableFeatures(pbmc, selection.method = meth, nfeatures = nFeat, \n",
    "                                                         verbose=F)))\n",
    "    write(\"Done!\", stdout())\n",
    "\n",
    "    # Identify the 10 most highly variable genes\n",
    "    top10 <- head(VariableFeatures(pbmc), nLabel)\n",
    "\n",
    "    # plot variable features with and without labels\n",
    "    invisible(capture.output(plot1 <- VariableFeaturePlot(pbmc)))\n",
    "    invisible(capture.output(plot2 <- LabelPoints(plot = plot1, points = top10, repel = TRUE)))\n",
    "    print(plot2)\n",
    "    #plot(CombinePlots(plots = list(plot1, plot2)))\n",
    "    return(pbmc)\n",
    "}\n",
    "\n",
    "pbmc <- feat_sel_plot(method, num_features, num_to_label)"
   ]
  },
  {
   "cell_type": "code",
   "execution_count": 12,
   "metadata": {
    "nbtools": {
     "description": "",
     "name": "Scale Data",
     "origin": "nbtools.r_support",
     "param_values": {
      "output_var": ""
     },
     "show_code": false,
     "type": "uibuilder"
    }
   },
   "outputs": [
    {
     "data": {
      "application/vnd.jupyter.widget-view+json": {
       "model_id": "f82a3364a43a47b0b578acae4e7d8f24",
       "version_major": 2,
       "version_minor": 0
      },
      "text/plain": [
       "UIBuilder(function_import='nbtools._r_wrappers[\"8A361C27D121C063CD354D8B67B388C7\"]', name='Scale Data', origin…"
      ]
     },
     "metadata": {},
     "output_type": "display_data"
    }
   ],
   "source": [
    "%%r_build_ui {\"name\": \"Scale Data\", \"parameters\": {\"output_var\":{\"hide\": \"True\"}}}\n",
    "myscale <- function(pbmc){\n",
    "    write(\"Scaling data...\", stdout())\n",
    "    all.genes <- rownames(pbmc)\n",
    "    invisible(capture.output(pbmc <- ScaleData(pbmc, features = all.genes, verbose = F)))\n",
    "    write('done!', stdout())\n",
    "    return(pbmc)\n",
    "}\n",
    "pbmc <- myscale(pbmc)"
   ]
  },
  {
   "cell_type": "code",
   "execution_count": 13,
   "metadata": {
    "nbtools": {
     "description": "",
     "name": "Perform PCA",
     "origin": "nbtools.r_support",
     "param_values": {
      "output_var": ""
     },
     "show_code": false,
     "type": "uibuilder"
    }
   },
   "outputs": [
    {
     "data": {
      "application/vnd.jupyter.widget-view+json": {
       "model_id": "f9e8cbe6da964fbba247dda713d57d09",
       "version_major": 2,
       "version_minor": 0
      },
      "text/plain": [
       "UIBuilder(function_import='nbtools._r_wrappers[\"6177FFAEDBEDB46C150E8DA50EE026D6\"]', name='Perform PCA', origi…"
      ]
     },
     "metadata": {},
     "output_type": "display_data"
    }
   ],
   "source": [
    "%%r_build_ui {\"name\":\"Perform PCA\", \"parameters\":{\"output_var\":{\"hide\":\"True\"}}}\n",
    "\n",
    "mypca <-function(pbmc){ \n",
    "    feats <- VariableFeatures(object = pbmc, verbose = F)\n",
    "    pbmc <-RunPCA(pbmc, features = feats, nfeatures.print=5, verbose=F)\n",
    "    write('Done computing PCA.', stdout())\n",
    "   \n",
    "    return(pbmc)\n",
    "}\n",
    "suppressMessages(pbmc <- mypca(pbmc))"
   ]
  },
  {
   "cell_type": "code",
   "execution_count": 14,
   "metadata": {
    "nbtools": {
     "description": "",
     "name": "Elbow Plot",
     "origin": "nbtools.r_support",
     "param_values": {
      "output_var": ""
     },
     "show_code": false,
     "type": "uibuilder"
    }
   },
   "outputs": [
    {
     "data": {
      "application/vnd.jupyter.widget-view+json": {
       "model_id": "f815866580ea41d19743d188f006e833",
       "version_major": 2,
       "version_minor": 0
      },
      "text/plain": [
       "UIBuilder(function_import='nbtools._r_wrappers[\"3367FB5D75C7F40F63FFCA3F2EE460DE\"]', name='Elbow Plot', origin…"
      ]
     },
     "metadata": {},
     "output_type": "display_data"
    }
   ],
   "source": [
    "%%r_build_ui {\"name\":\"Elbow Plot\", \"parameters\": {  \"output_var\": {\"hide\": \"True\"} }}\n",
    "ebp <- function(){\n",
    "    plot(ElbowPlot(pbmc))\n",
    "    return(pbmc)\n",
    "}\n",
    "ebp()"
   ]
  },
  {
   "cell_type": "code",
   "execution_count": 15,
   "metadata": {
    "nbtools": {
     "description": "",
     "name": "Save preprocessed dataset",
     "origin": "nbtools.r_support",
     "param_values": {
      "file_name": "Seurat_preprocessed.rds",
      "output_var": ""
     },
     "show_code": false,
     "type": "uibuilder"
    }
   },
   "outputs": [
    {
     "data": {
      "application/vnd.jupyter.widget-view+json": {
       "model_id": "65b00c8d6603487a88721ea28bbca37e",
       "version_major": 2,
       "version_minor": 0
      },
      "text/plain": [
       "UIBuilder(function_import='nbtools._r_wrappers[\"FF17430E7598714EA943B6325037A482\"]', name='Save preprocessed d…"
      ]
     },
     "metadata": {},
     "output_type": "display_data"
    }
   ],
   "source": [
    "%%r_build_ui {\"name\":\"Save preprocessed dataset\", \"parameters\": {  \"file_name\": {\"default\":\"Seurat_preprocessed.rds\"}, \"output_var\": {\"hide\": \"True\"} }}\n",
    "save_it <- function(fileName){\n",
    "    write('Saving file to the notebook workspace. This may take a while (this file may be aboyt 1 GB in size)...', stdout())\n",
    "    saveRDS(pbmc, file = fileName)\n",
    "    print(\"Saved file!\")\n",
    "    return(pbmc)\n",
    "}\n",
    "save_it(file_name)"
   ]
  },
  {
   "cell_type": "code",
   "execution_count": 16,
   "metadata": {
    "nbtools": {
     "description": "",
     "name": "Upload file to GenePattern Server",
     "origin": "Notebook",
     "param_values": {
      "file": "Seurat_preprocessed.rds",
      "output_var": "quantification_source"
     },
     "show_code": false,
     "type": "uibuilder"
    }
   },
   "outputs": [
    {
     "data": {
      "application/vnd.jupyter.widget-view+json": {
       "model_id": "d676e05389764552bf56950c780cbbcf",
       "version_major": 2,
       "version_minor": 0
      },
      "text/plain": [
       "UIBuilder(function_import='nbtools.tool(id=\"Upload file to GenePattern Server\", origin=\"Notebook\").function_or…"
      ]
     },
     "metadata": {},
     "output_type": "display_data"
    },
    {
     "data": {
      "application/javascript": [
       "\n",
       "            NBToolManager.instance().register(new NBToolManager.NBTool({\n",
       "                origin: \"Notebook\",\n",
       "                id: \"Upload file to GenePattern Server\",\n",
       "                name: \"Upload file to GenePattern Server\",\n",
       "                description: \"\",\n",
       "                version: \"null\",\n",
       "                tags: null,\n",
       "                attributes: null,\n",
       "                load: function() { return true; },\n",
       "                render: function() { let code = \"nbtools.tool(id='Upload file to GenePattern Server', origin='Notebook')\";\n",
       "                let cell = Jupyter.notebook.get_selected_cell();\n",
       "                const is_empty = cell.get_text().trim() === \"\";\n",
       "\n",
       "                // If this cell is not empty, insert a new cell and use that\n",
       "                // Otherwise just use this cell\n",
       "                if (!is_empty) {\n",
       "                    cell = Jupyter.notebook.insert_cell_below();\n",
       "                    Jupyter.notebook.select_next();\n",
       "                }\n",
       "\n",
       "                cell.set_text(code);\n",
       "                cell.execute();\n",
       "\n",
       "                return cell; },\n",
       "            }));"
      ]
     },
     "metadata": {},
     "output_type": "display_data"
    }
   ],
   "source": [
    "@nbtools.build_ui(name=\"Upload file to GenePattern Server\", parameters={\n",
    "    \"file\": {\n",
    "        \"name\": \"File to upload:\",\n",
    "        \"default\":\"Seurat_preprocessed.rds\"\n",
    "    },\n",
    "    \"output_var\": {\n",
    "    \"name\": \"results\",\n",
    "    \"description\": \"\",\n",
    "    \"default\": \"quantification_source\",\n",
    "    \"hide\": True\n",
    "    }\n",
    "})\n",
    "def load_file(file):\n",
    "    import genepattern\n",
    "    uio = nbtools.UIOutput()\n",
    "    display(uio)\n",
    "    size = os.path.getsize('pbmc_preprocessed.rds')\n",
    "    print(f'This file size is {round(size/1e6)} MB, it may take a while to upload.')\n",
    "    uio.status = \"Uploading...\"\n",
    "    uploaded_file = genepattern.session.get(0).upload_file(file_name=os.path.basename(file),file_path=file)\n",
    "    uio.status = \"Uploaded!\"\n",
    "    display(nbtools.UIOutput(files=[uploaded_file.get_url()]))\n",
    "    return()"
   ]
  },
  {
   "cell_type": "markdown",
   "metadata": {},
   "source": [
    "### Hide this"
   ]
  },
  {
   "cell_type": "code",
   "execution_count": 3,
   "metadata": {
    "nbtools": {
     "description": "",
     "name": "Python Results",
     "show_code": true,
     "type": "uioutput"
    }
   },
   "outputs": [
    {
     "data": {
      "application/vnd.jupyter.widget-view+json": {
       "model_id": "b7901c2639d349dca2c5dd7f5e6a4ffa",
       "version_major": 2,
       "version_minor": 0
      },
      "text/plain": [
       "UIOutput(files=['https://datasets.genepattern.org/data/module_support_files/SeuratClustering/Seurat_preprocess…"
      ]
     },
     "metadata": {},
     "output_type": "display_data"
    }
   ],
   "source": [
    "display(nbtools.UIOutput(text='If the above steps are taking too long (save+upload), feel free to use this.',\n",
    "                         files=['https://datasets.genepattern.org/data/module_support_files/SeuratClustering/Seurat_preprocessed_prebaked.rds']))"
   ]
  },
  {
   "cell_type": "markdown",
   "metadata": {},
   "source": [
    "## Seurat Clustering"
   ]
  },
  {
   "cell_type": "code",
   "execution_count": 24,
   "metadata": {
    "genepattern": {
     "description": "Companion module for the <a href=\"\">Seurat notebook</a>. Performs clustering and marker identification on single cell data.",
     "name": "SeuratClustering",
     "param_values": {
      "input.seurat.rds.file": null,
      "job.cpuCount": null,
      "job.memory": null,
      "job.queue": null,
      "job.walltime": null,
      "maximum_dimension": null,
      "output.filename": null,
      "reduction": null,
      "resolution": null
     },
     "show_code": true,
     "type": "task"
    }
   },
   "outputs": [
    {
     "data": {
      "application/vnd.jupyter.widget-view+json": {
       "model_id": "69246021869b4e19af160bf19a2c2476",
       "version_major": 2,
       "version_minor": 0
      },
      "text/plain": [
       "GPTaskWidget(lsid='urn:lsid:broad.mit.edu:cancer.software.genepattern.module.analysis:00408')"
      ]
     },
     "metadata": {},
     "output_type": "display_data"
    },
    {
     "data": {
      "application/vnd.jupyter.widget-view+json": {
       "model_id": "90423936a8614ff38a78023f72d675f0",
       "version_major": 2,
       "version_minor": 0
      },
      "text/plain": [
       "GPJobWidget(job_number=199267)"
      ]
     },
     "metadata": {},
     "output_type": "display_data"
    }
   ],
   "source": [
    "seuratclustering_task = gp.GPTask(genepattern.session.get(0), 'urn:lsid:broad.mit.edu:cancer.software.genepattern.module.analysis:00408')\n",
    "seuratclustering_job_spec = seuratclustering_task.make_job_spec()\n",
    "seuratclustering_job_spec.set_parameter(\"input.seurat.rds.file\", \"https://cloud.genepattern.org/gp/users/edjuaro/tmp/run3555855951809118024.tmp/Seurat_preprocessed.rds\")\n",
    "seuratclustering_job_spec.set_parameter(\"output.filename\", \"<input.seurat.rds.file_basename>.clustered\")\n",
    "seuratclustering_job_spec.set_parameter(\"maximum_dimension\", \"10\")\n",
    "seuratclustering_job_spec.set_parameter(\"resolution\", \"0.5\")\n",
    "seuratclustering_job_spec.set_parameter(\"reduction\", \"umap\")\n",
    "seuratclustering_job_spec.set_parameter(\"job.memory\", \"2 Gb\")\n",
    "seuratclustering_job_spec.set_parameter(\"job.queue\", \"gp-cloud-default\")\n",
    "seuratclustering_job_spec.set_parameter(\"job.cpuCount\", \"1\")\n",
    "seuratclustering_job_spec.set_parameter(\"job.walltime\", \"02:00:00\")\n",
    "genepattern.display(seuratclustering_task)\n",
    "\n",
    "job199267 = gp.GPJob(genepattern.session.get(0), 199267)\n",
    "genepattern.display(job199267)"
   ]
  },
  {
   "cell_type": "code",
   "execution_count": null,
   "metadata": {},
   "outputs": [],
   "source": []
  },
  {
   "cell_type": "markdown",
   "metadata": {},
   "source": [
    "### download now working!"
   ]
  },
  {
   "cell_type": "markdown",
   "metadata": {},
   "source": [
    "<div class=\"alert alert-info\">\n",
    "<p class=\"lead\"> Instructions <i class=\"fa fa-info-circle\"></i></p>\n",
    "Download the CSV file.\n",
    "</div>"
   ]
  },
  {
   "cell_type": "code",
   "execution_count": 71,
   "metadata": {
    "nbtools": {
     "description": "",
     "name": "Python Results",
     "origin": "Notebook",
     "param_values": {
      "File_Name": "",
      "Job_File_Url": null,
      "file": [
       "https://cloud.genepattern.org/gp/jobResults/199267/Seurat_preprocessed_prebaked.clustered.rds.csv"
      ],
      "output_var": ""
     },
     "show_code": false,
     "type": "uibuilder"
    }
   },
   "outputs": [
    {
     "data": {
      "application/vnd.jupyter.widget-view+json": {
       "model_id": "1de1f290557748faa2f65d03ee9a6b0f",
       "version_major": 2,
       "version_minor": 0
      },
      "text/plain": [
       "UIBuilder(collapse=False, description='Download file from a GenePattern module job result.', function_import='…"
      ]
     },
     "metadata": {},
     "output_type": "display_data"
    }
   ],
   "source": [
    "import os\n",
    "\n",
    "DownloadJobResultFile_description = \"Download file from a GenePattern module job result.\"\n",
    "DownloadJobResultFile_parameters = {\"file\": {\"type\": \"file\", \"kinds\": [\"csv\", \"rds\"]}, \"output_var\": {\"hide\": True}}   \n",
    "        \n",
    "def DownloadJobResultFile(file):\n",
    "    # extract job number and file name from url\n",
    "    job_num = file.split(\"/\")[-2]\n",
    "    remote_file_name = file.split(\"/\")[-1]\n",
    "    \n",
    "    # get the job based on the job number passed as the second argument\n",
    "    job = gp.GPJob(genepattern.get_session(0), job_num)\n",
    "\n",
    "    # fetch a specific file from the job\n",
    "    remote_file = job.get_file(remote_file_name)\n",
    "    \n",
    "    uio = nbtools.UIOutput(text=file)\n",
    "    display(uio)\n",
    "    uio.status = \"Downloading...\"\n",
    "    \n",
    "    File_Name = os.path.basename(file)\n",
    "\n",
    "    response = remote_file.open()\n",
    "    CHUNK = 16 * 1024\n",
    "    with open(File_Name, 'wb') as f:\n",
    "        while True:\n",
    "            chunk = response.read(CHUNK)\n",
    "            if not chunk:\n",
    "                break\n",
    "            f.write(chunk)\n",
    "    uio.status = \"Downloaded!\"\n",
    "    display(nbtools.UIOutput(files=[File_Name]))\n",
    "    \n",
    "genepattern.GPUIBuilder(DownloadJobResultFile, collapse=False,\n",
    "                    name='Download File From GenePattern Server',\n",
    "                    description=DownloadJobResultFile_description,\n",
    "                    parameters=DownloadJobResultFile_parameters)"
   ]
  },
  {
   "cell_type": "markdown",
   "metadata": {},
   "source": [
    "<div class=\"alert alert-info\">\n",
    "<p class=\"lead\"> Instructions <i class=\"fa fa-info-circle\"></i></p>\n",
    "Download the RDS file.\n",
    "</div>\n",
    "<div class=\"well well-sm\">\n",
    "<b>Note:</b> This takes about 30 seconds on a <i>high speed</i> connnection, please be patient.\n",
    "</div>"
   ]
  },
  {
   "cell_type": "code",
   "execution_count": 73,
   "metadata": {
    "nbtools": {
     "description": "",
     "name": "Python Results",
     "origin": "Notebook",
     "param_values": {
      "file": [
       "https://cloud.genepattern.org/gp/jobResults/199267/Seurat_preprocessed_prebaked.clustered.rds.rds"
      ],
      "output_var": ""
     },
     "show_code": false,
     "type": "uibuilder"
    }
   },
   "outputs": [
    {
     "data": {
      "application/vnd.jupyter.widget-view+json": {
       "model_id": "e3a92fb805af457692e69e115fafa184",
       "version_major": 2,
       "version_minor": 0
      },
      "text/plain": [
       "UIBuilder(collapse=False, description='Download file from a GenePattern module job result.', function_import='…"
      ]
     },
     "metadata": {},
     "output_type": "display_data"
    }
   ],
   "source": [
    "genepattern.GPUIBuilder(DownloadJobResultFile, collapse=False,\n",
    "                    name='Download File From GenePattern Server',\n",
    "                    description=DownloadJobResultFile_description,\n",
    "                    parameters=DownloadJobResultFile_parameters)"
   ]
  },
  {
   "cell_type": "markdown",
   "metadata": {},
   "source": [
    "#### pre-baked"
   ]
  },
  {
   "cell_type": "markdown",
   "metadata": {},
   "source": [
    "<div class=\"alert alert-info\">\n",
    "<p class=\"lead\"> Instructions <i class=\"fa fa-info-circle\"></i></p>\n",
    "If the above is not working, run the cell below to access the pre-ran results.\n",
    "</div>"
   ]
  },
  {
   "cell_type": "code",
   "execution_count": null,
   "metadata": {},
   "outputs": [],
   "source": [
    "job199267 = gp.GPJob(genepattern.session.get(0), 199267)\n",
    "genepattern.display(job199267)"
   ]
  },
  {
   "cell_type": "code",
   "execution_count": null,
   "metadata": {},
   "outputs": [],
   "source": []
  },
  {
   "cell_type": "code",
   "execution_count": 41,
   "metadata": {
    "nbtools": {
     "description": "",
     "name": "Python Results",
     "origin": "Notebook",
     "param_values": {
      "file": [
       "https://cloud.genepattern.org/gp/jobResults/199267/Seurat_preprocessed_prebaked.clustered.rds.rds"
      ],
      "output_var": "quantification_source"
     },
     "show_code": true,
     "type": "uibuilder"
    }
   },
   "outputs": [
    {
     "data": {
      "application/vnd.jupyter.widget-view+json": {
       "model_id": "c9170a73521b4af89d3f17477e0472cb",
       "version_major": 2,
       "version_minor": 0
      },
      "text/plain": [
       "UIBuilder(function_import='nbtools.tool(id=\"Download file from GenePattern Server\", origin=\"Notebook\").functio…"
      ]
     },
     "metadata": {},
     "output_type": "display_data"
    },
    {
     "data": {
      "application/javascript": [
       "\n",
       "            NBToolManager.instance().register(new NBToolManager.NBTool({\n",
       "                origin: \"Notebook\",\n",
       "                id: \"Download file from GenePattern Server\",\n",
       "                name: \"Download file from GenePattern Server\",\n",
       "                description: \"\",\n",
       "                version: \"null\",\n",
       "                tags: null,\n",
       "                attributes: null,\n",
       "                load: function() { return true; },\n",
       "                render: function() { let code = \"nbtools.tool(id='Download file from GenePattern Server', origin='Notebook')\";\n",
       "                let cell = Jupyter.notebook.get_selected_cell();\n",
       "                const is_empty = cell.get_text().trim() === \"\";\n",
       "\n",
       "                // If this cell is not empty, insert a new cell and use that\n",
       "                // Otherwise just use this cell\n",
       "                if (!is_empty) {\n",
       "                    cell = Jupyter.notebook.insert_cell_below();\n",
       "                    Jupyter.notebook.select_next();\n",
       "                }\n",
       "\n",
       "                cell.set_text(code);\n",
       "                cell.execute();\n",
       "\n",
       "                return cell; },\n",
       "            }));"
      ]
     },
     "metadata": {},
     "output_type": "display_data"
    }
   ],
   "source": [
    "import urllib\n",
    "\n",
    "@nbtools.build_ui(name=\"Download file from GenePattern Server\", parameters={\n",
    "    \"file\": {\n",
    "        \"name\": \"File to download:\",\n",
    "        \"type\":\"file\",\n",
    "        \"kinds\":['rds']\n",
    "    },\n",
    "    \"output_var\": {\n",
    "    \"name\": \"results\",\n",
    "    \"description\": \"\",\n",
    "    \"default\": \"quantification_source\",\n",
    "    \"hide\": True\n",
    "    }\n",
    "})\n",
    "def download_files_from_GenePattern_server(file):\n",
    "    uio = nbtools.UIOutput(text=file)\n",
    "    display(uio)\n",
    "    uio.status = \"Downloading...\"\n",
    "\n",
    "    username = genepattern.session.get(0).username\n",
    "    password = genepattern.session.get(0).password\n",
    "\n",
    "    #This should be the base url you wanted to access.\n",
    "    baseurl = file\n",
    "\n",
    "    #Create a password manager\n",
    "    manager = urllib.HTTPPasswordMgrWithDefaultRealm()\n",
    "    manager.add_password(None, baseurl, username, password)\n",
    "\n",
    "    #Create an authentication handler using the password manager\n",
    "    auth = urllib.HTTPBasicAuthHandler(manager)\n",
    "\n",
    "    #Create an opener that will replace the default urlopen method on further calls\n",
    "    opener = urllib.build_opener(auth)\n",
    "    urllib.install_opener(opener)\n",
    "\n",
    "    #Here you should access the full url you wanted to open\n",
    "    response = urllib.urlopen(baseurl + \"/file\")\n",
    "    print(response)\n",
    "    \n",
    "    uio.status = \"Downloaded!\"\n",
    "    display(nbtools.UIOutput(files=[os.path.basename(file)]))\n",
    "    return"
   ]
  },
  {
   "cell_type": "code",
   "execution_count": null,
   "metadata": {},
   "outputs": [],
   "source": []
  },
  {
   "cell_type": "code",
   "execution_count": null,
   "metadata": {},
   "outputs": [],
   "source": []
  },
  {
   "cell_type": "code",
   "execution_count": null,
   "metadata": {},
   "outputs": [],
   "source": []
  },
  {
   "cell_type": "code",
   "execution_count": 17,
   "metadata": {
    "nbtools": {
     "description": "",
     "name": "Python Results",
     "origin": "Notebook",
     "param_values": {
      "file": [
       "https://cloud.genepattern.org/gp/jobResults/199267/Seurat_preprocessed_prebaked.clustered.rds.csv"
      ],
      "output_var": "quantification_source"
     },
     "show_code": true,
     "type": "uibuilder"
    }
   },
   "outputs": [
    {
     "data": {
      "application/vnd.jupyter.widget-view+json": {
       "model_id": "b03b8d9ec9ec4cd5aa38c3a17125467d",
       "version_major": 2,
       "version_minor": 0
      },
      "text/plain": [
       "UIBuilder(function_import='nbtools.tool(id=\"Download file from GenePattern Server\", origin=\"Notebook\").functio…"
      ]
     },
     "metadata": {},
     "output_type": "display_data"
    },
    {
     "data": {
      "application/javascript": [
       "\n",
       "            NBToolManager.instance().register(new NBToolManager.NBTool({\n",
       "                origin: \"Notebook\",\n",
       "                id: \"Download file from GenePattern Server\",\n",
       "                name: \"Download file from GenePattern Server\",\n",
       "                description: \"\",\n",
       "                version: \"null\",\n",
       "                tags: null,\n",
       "                attributes: null,\n",
       "                load: function() { return true; },\n",
       "                render: function() { let code = \"nbtools.tool(id='Download file from GenePattern Server', origin='Notebook')\";\n",
       "                let cell = Jupyter.notebook.get_selected_cell();\n",
       "                const is_empty = cell.get_text().trim() === \"\";\n",
       "\n",
       "                // If this cell is not empty, insert a new cell and use that\n",
       "                // Otherwise just use this cell\n",
       "                if (!is_empty) {\n",
       "                    cell = Jupyter.notebook.insert_cell_below();\n",
       "                    Jupyter.notebook.select_next();\n",
       "                }\n",
       "\n",
       "                cell.set_text(code);\n",
       "                cell.execute();\n",
       "\n",
       "                return cell; },\n",
       "            }));"
      ]
     },
     "metadata": {},
     "output_type": "display_data"
    }
   ],
   "source": [
    "@nbtools.build_ui(name=\"Download file from GenePattern Server\", parameters={\n",
    "    \"file\": {\n",
    "        \"name\": \"File to download:\",\n",
    "        \"type\":\"file\",\n",
    "        \"kinds\":['csv']\n",
    "    },\n",
    "    \"output_var\": {\n",
    "    \"name\": \"results\",\n",
    "    \"description\": \"\",\n",
    "    \"default\": \"quantification_source\",\n",
    "    \"hide\": True\n",
    "    }\n",
    "})\n",
    "def download_files_from_GenePattern_server(file):\n",
    "    uio = nbtools.UIOutput(text=file)\n",
    "    display(uio)\n",
    "    uio.status = \"Downloading...\"\n",
    "    file_io = gp.GPFile(genepattern.session.get(0),file)\n",
    "    open(os.path.basename(file), 'w').write(file_io.read())\n",
    "    \n",
    "    uio.status = \"Downloaded!\"\n",
    "    display(nbtools.UIOutput(files=[os.path.basename(file)]))\n",
    "    return"
   ]
  },
  {
   "cell_type": "markdown",
   "metadata": {},
   "source": [
    "### continue here"
   ]
  },
  {
   "cell_type": "code",
   "execution_count": 18,
   "metadata": {
    "nbtools": {
     "description": "",
     "name": "Load dataset with clustering",
     "origin": "nbtools.r_support",
     "param_values": {
      "CSV_url": "https://datasets.genepattern.org/data/module_support_files/SeuratClustering/Seurat_preprocessed_prebaked.clustered.rds.csv",
      "RDS_url": "https://datasets.genepattern.org/data/module_support_files/SeuratClustering/Seurat_preprocessed_prebaked.clustered.rds.rds",
      "output_var": ""
     },
     "show_code": false,
     "type": "uibuilder"
    }
   },
   "outputs": [
    {
     "data": {
      "application/vnd.jupyter.widget-view+json": {
       "model_id": "0e86da52b0fb4e0597190b144f6e31e7",
       "version_major": 2,
       "version_minor": 0
      },
      "text/plain": [
       "UIBuilder(function_import='nbtools._r_wrappers[\"83DE3EA73859D11F51CEB39729790CB5\"]', name='Load dataset with c…"
      ]
     },
     "metadata": {},
     "output_type": "display_data"
    }
   ],
   "source": [
    "%%r_build_ui {\"name\":\"Load dataset with clustering\", \"parameters\": {\"RDS_url\":{\"name\":\"RDS_url\",\"default\":\"https://datasets.genepattern.org/data/module_support_files/SeuratClustering/Seurat_preprocessed_prebaked.clustered.rds.rds\",'type':\"file\",\"kinds\":[\"rds\"]}, \"CSV_url\":{\"name\":\"CSV_url\",\"type\":\"file\",\"kinds\":['csv'],\"default\":\"https://datasets.genepattern.org/data/module_support_files/SeuratClustering/Seurat_preprocessed_prebaked.clustered.rds.csv\"}, \"output_var\": {\"hide\": \"True\"} }}\n",
    "\n",
    "load_markers <- function(CSV_url) {\n",
    "    write(\"Downloading cluster markers file...\", stdout())\n",
    "    download.file(CSV_url, \"postmarker.csv\", quiet=T)\n",
    "    write(\"Loading cluster markers into notebook...\", stdout())\n",
    "    markers <- read.csv(CSV_url)\n",
    "    write(\"Done!\", stdout())\n",
    "    return(markers)\n",
    "}\n",
    "load_it <- function(RDS_url){\n",
    "    write(\"Downloading results file with clustering...\", stdout())\n",
    "    download.file(RDS_url, \"postmarker.rds\", mode='wb', quiet=T)\n",
    "    write(\"Loading clustering results into notebook...\", stdout())\n",
    "    pbmc <- readRDS(file = \"postmarker.rds\")\n",
    "    #write(\"Loaded file!\", stdout())\n",
    "    return(pbmc)\n",
    "}\n",
    "suppressWarnings(markers <- load_markers(CSV_url))\n",
    "pbmc <- load_it(RDS_url)"
   ]
  },
  {
   "cell_type": "code",
   "execution_count": 19,
   "metadata": {
    "nbtools": {
     "description": "",
     "name": "Visualize clusters",
     "origin": "nbtools.r_support",
     "param_values": {
      "output_var": ""
     },
     "show_code": false,
     "type": "uibuilder"
    }
   },
   "outputs": [
    {
     "data": {
      "application/vnd.jupyter.widget-view+json": {
       "model_id": "246d20a2a4ee4ef08f26febcb05195ed",
       "version_major": 2,
       "version_minor": 0
      },
      "text/plain": [
       "UIBuilder(function_import='nbtools._r_wrappers[\"C36FA64F5E2288A2795BEC9B2466BDE8\"]', name='Visualize clusters'…"
      ]
     },
     "metadata": {},
     "output_type": "display_data"
    }
   ],
   "source": [
    "%%r_build_ui {\"name\": \"Visualize clusters\", \"parameters\": {\"output_var\": {\"hide\": \"True\"}}}\n",
    "do_dim_plot <- function() {\n",
    "    plot(DimPlot(pbmc, reduction = \"umap\"))\n",
    "    return(\"\")\n",
    "}\n",
    "do_dim_plot()"
   ]
  },
  {
   "cell_type": "code",
   "execution_count": 20,
   "metadata": {
    "nbtools": {
     "description": "",
     "name": "Print top cluster markers",
     "origin": "nbtools.r_support",
     "param_values": {
      "cluster_number": "",
      "output_var": ""
     },
     "show_code": false,
     "type": "uibuilder"
    }
   },
   "outputs": [
    {
     "data": {
      "application/vnd.jupyter.widget-view+json": {
       "model_id": "53e288062dae4604be0eecf9dbb16848",
       "version_major": 2,
       "version_minor": 0
      },
      "text/plain": [
       "UIBuilder(function_import='nbtools._r_wrappers[\"C24B1C1273185AFEEDA8820C128B22CE\"]', name='Print top cluster m…"
      ]
     },
     "metadata": {},
     "output_type": "display_data"
    }
   ],
   "source": [
    "%%r_build_ui {\"name\": \"Print top cluster markers\", \"parameters\": {\"cluster_number\": {}, \"output_var\": {\"hide\": \"True\"}}}\n",
    "print_top_markers <- function(cluster_number) {\n",
    "    return(head(markers[markers$cluster==cluster_number,], n = 5))\n",
    "}\n",
    "print_top_markers(cluster_number)"
   ]
  },
  {
   "cell_type": "code",
   "execution_count": 21,
   "metadata": {
    "nbtools": {
     "description": "",
     "name": "Violin plot of gene expression",
     "origin": "nbtools.r_support",
     "param_values": {
      "gene": "",
      "output_var": ""
     },
     "show_code": false,
     "type": "uibuilder"
    }
   },
   "outputs": [
    {
     "data": {
      "application/vnd.jupyter.widget-view+json": {
       "model_id": "4f803df41dbf44baa6cb2b8141a8e4b1",
       "version_major": 2,
       "version_minor": 0
      },
      "text/plain": [
       "UIBuilder(function_import='nbtools._r_wrappers[\"31829DBA14F3D6ACC7693B9A26C2065F\"]', name='Violin plot of gene…"
      ]
     },
     "metadata": {},
     "output_type": "display_data"
    }
   ],
   "source": [
    "%%r_build_ui {\"name\": \"Violin plot of gene expression\", \"parameters\": {\"gene\": {}, \"output_var\": {\"hide\": \"True\"}}}\n",
    "do_violin <- function(gene) {\n",
    "    plot(VlnPlot(pbmc, features = c(gene), slot = \"counts\", log = TRUE))\n",
    "    return(\"\")\n",
    "}\n",
    "do_violin(gene)"
   ]
  },
  {
   "cell_type": "code",
   "execution_count": 22,
   "metadata": {
    "nbtools": {
     "description": "",
     "name": "Violin plot of gene expression",
     "origin": "nbtools.r_support",
     "param_values": {
      "gene": "",
      "output_var": ""
     },
     "show_code": false,
     "type": "uibuilder"
    }
   },
   "outputs": [
    {
     "data": {
      "application/vnd.jupyter.widget-view+json": {
       "model_id": "b1645104fd454183ba3623f11124d5be",
       "version_major": 2,
       "version_minor": 0
      },
      "text/plain": [
       "UIBuilder(function_import='nbtools._r_wrappers[\"9BECFA4431145B11451BDC1BDFAB5223\"]', name='Violin plot of gene…"
      ]
     },
     "metadata": {},
     "output_type": "display_data"
    }
   ],
   "source": [
    "%%r_build_ui {\"name\": \"Violin plot of gene expression\", \"parameters\": {\"gene\": {}, \"output_var\": {\"hide\": \"True\"}}}\n",
    "do_umap_gene <- function(gene) {\n",
    "    plot(FeaturePlot(pbmc, features = c(gene)))\n",
    "    return(\"\")\n",
    "}\n",
    "do_umap_gene(gene)"
   ]
  },
  {
   "cell_type": "code",
   "execution_count": null,
   "metadata": {},
   "outputs": [],
   "source": []
  }
 ],
 "metadata": {
  "kernelspec": {
   "display_name": "Python 3.7",
   "language": "python",
   "name": "python3.7"
  },
  "language_info": {
   "codemirror_mode": {
    "name": "ipython",
    "version": 3
   },
   "file_extension": ".py",
   "mimetype": "text/x-python",
   "name": "python",
   "nbconvert_exporter": "python",
   "pygments_lexer": "ipython3",
   "version": "3.7.6"
  },
  "toc": {
   "base_numbering": 1,
   "nav_menu": {},
   "number_sections": false,
   "sideBar": true,
   "skip_h1_title": false,
   "title_cell": "Table of Contents",
   "title_sidebar": "Contents",
   "toc_cell": false,
   "toc_position": {},
   "toc_section_display": true,
   "toc_window_display": false
  }
 },
 "nbformat": 4,
 "nbformat_minor": 2
}
