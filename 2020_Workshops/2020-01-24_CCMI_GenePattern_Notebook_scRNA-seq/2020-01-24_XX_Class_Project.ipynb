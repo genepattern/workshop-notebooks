{
 "cells": [
  {
   "cell_type": "markdown",
   "metadata": {},
   "source": [
    "# Class Project\n",
    "## GenePattern Single Cell Analyses Workshop "
   ]
  },
  {
   "cell_type": "markdown",
   "metadata": {},
   "source": [
    "<div class=\"alert alert-info\">\n",
    "<p class=\"lead\"> Instructions <i class=\"fa fa-info-circle\"></i></p>\n",
    "Log in to GenePettern with your credentials.\n",
    "</div>"
   ]
  },
  {
   "cell_type": "code",
   "execution_count": 65,
   "metadata": {
    "genepattern": {
     "name": "Login",
     "server": "https://cloud.genepattern.org/gp",
     "type": "auth"
    },
    "scrolled": false
   },
   "outputs": [
    {
     "data": {
      "application/vnd.jupyter.widget-view+json": {
       "model_id": "572c4c744ec24f5f8b6d29a9946f1343",
       "version_major": 2,
       "version_minor": 0
      },
      "text/plain": [
       "GPAuthWidget()"
      ]
     },
     "metadata": {},
     "output_type": "display_data"
    }
   ],
   "source": [
    "# Requires GenePattern Notebook: pip install genepattern-notebook\n",
    "import gp\n",
    "import genepattern\n",
    "\n",
    "# Username and password removed for security reasons.\n",
    "genepattern.display(genepattern.session.register(\"https://cloud.genepattern.org/gp\", \"\", \"\"))"
   ]
  },
  {
   "cell_type": "markdown",
   "metadata": {},
   "source": [
    "<div class=\"alert alert-danger\">\n",
    "Clean up this section\n",
    "</div>"
   ]
  },
  {
   "cell_type": "markdown",
   "metadata": {},
   "source": [
    "In the Human Cell Atlas we can navigate thi this page:\n",
    "\n",
    "from https://data.humancellatlas.org/explore/projects/cddab57b-6868-4be4-806f-395ed9dd635a/m/expression-matrices\n",
    "\n",
    "Which can be accessed from: https://data.humancellatlas.org/explore/projects?filter=%5B%7B%22facetName%22%3A%22genusSpecies%22%2C%22terms%22%3A%5B%22Homo+sapiens%22%5D%7D%2C%7B%22facetName%22%3A%22organ%22%2C%22terms%22%3A%5B%22pancreas%22%5D%7D%5D\n",
    "\n",
    "There, we will copy the link to the file which contains the data in the MTX format:\n",
    "https://data.humancellatlas.org/project-assets/project-matrices/cddab57b-6868-4be4-806f-395ed9dd635a.homo_sapiens.mtx.zip"
   ]
  },
  {
   "cell_type": "markdown",
   "metadata": {},
   "source": [
    "<div class=\"alert alert-info\">\n",
    "<p class=\"lead\"> Instructions <i class=\"fa fa-info-circle\"></i></p>\n",
    "    \n",
    "Paste the link to the `mtx.zip` file in the `url*` parameter below\n",
    "</div>"
   ]
  },
  {
   "cell_type": "code",
   "execution_count": 69,
   "metadata": {
    "nbtools": {
     "description": "Setup the R and Python environments for the rest of this notebook. Downloads the example dataset to the notebook server.",
     "name": "download_MTX_zip",
     "origin": "Notebook",
     "param_values": {
      "output_var": "folder",
      "url": "https://data.humancellatlas.org/project-assets/project-matrices/cddab57b-6868-4be4-806f-395ed9dd635a.homo_sapiens.mtx.zip"
     },
     "show_code": false,
     "type": "uibuilder"
    }
   },
   "outputs": [
    {
     "name": "stdout",
     "output_type": "stream",
     "text": [
      "The nbtools.r_support extension is already loaded. To reload it, use:\n",
      "  %reload_ext nbtools.r_support\n"
     ]
    },
    {
     "data": {
      "application/vnd.jupyter.widget-view+json": {
       "model_id": "c873ca3666354c818d84ae63b9156b1d",
       "version_major": 2,
       "version_minor": 0
      },
      "text/plain": [
       "UIBuilder(description='Setup the R and Python environments for the rest of this notebook. Downloads the exampl…"
      ]
     },
     "metadata": {},
     "output_type": "display_data"
    },
    {
     "data": {
      "application/javascript": [
       "\n",
       "            NBToolManager.instance().register(new NBToolManager.NBTool({\n",
       "                origin: \"Notebook\",\n",
       "                id: \"download_MTX_zip\",\n",
       "                name: \"download_MTX_zip\",\n",
       "                description: \"Setup the R and Python environments for the rest of this notebook. Downloads the example dataset to the notebook server.\",\n",
       "                version: \"null\",\n",
       "                tags: null,\n",
       "                attributes: null,\n",
       "                load: function() { return true; },\n",
       "                render: function() { let code = \"nbtools.tool(id='download_MTX_zip', origin='Notebook')\";\n",
       "                let cell = Jupyter.notebook.get_selected_cell();\n",
       "                const is_empty = cell.get_text().trim() === \"\";\n",
       "\n",
       "                // If this cell is not empty, insert a new cell and use that\n",
       "                // Otherwise just use this cell\n",
       "                if (!is_empty) {\n",
       "                    cell = Jupyter.notebook.insert_cell_below();\n",
       "                    Jupyter.notebook.select_next();\n",
       "                }\n",
       "\n",
       "                cell.set_text(code);\n",
       "                cell.execute();\n",
       "\n",
       "                return cell; },\n",
       "            }));"
      ]
     },
     "metadata": {},
     "output_type": "display_data"
    }
   ],
   "source": [
    "import os \n",
    "import urllib.request\n",
    "import subprocess\n",
    "import rpy2\n",
    "%load_ext nbtools.r_support\n",
    "\n",
    "@genepattern.build_ui(description=\"Setup the R and Python environments for the rest of this notebook. Downloads the example dataset to the notebook server.\", \n",
    "                      parameters={\"url\":{\"name\":\"url\",\"default\":\"https://data.humancellatlas.org/project-assets/project-matrices/cddab57b-6868-4be4-806f-395ed9dd635a.homo_sapiens.mtx.zip\"},\n",
    "                                  \"output_var\": {\"name\":\"folder\",\"default\":\"folder\",\"hide\":\"true\"}\n",
    "                                 })\n",
    "def download_MTX_zip(url):\n",
    "    %load_ext rpy2.ipython\n",
    "    print(\"Retrieving input data...\")\n",
    "    \n",
    "    base_name = 'temp_data.mtx.zip'\n",
    "    os.makedirs('data/input_data/', exist_ok=True)\n",
    "    urllib.request.urlretrieve(url, f'data/input_data/{base_name}')\n",
    "    \n",
    "\n",
    "    subprocess.run([\"unzip\", f\"data/input_data/\"+f\"{base_name}\"+\".mtx.zip\",\"-d\",f\"data/input_data/unzipped_data/\"])\n",
    "    folder = os.listdir(\"data/input_data/unzipped_data/\")[0]\n",
    "    folder = os.path.join(\"data/input_data/unzipped_data\",folder)\n",
    "    os.rename(folder,\"data/input_data/unzipped_data/downloaded_MTX_folder\")\n",
    "    folder = 'data/input_data/unzipped_data/downloaded_MTX_folder'\n",
    "    print(f'Data unzipped to: {folder}')\n",
    "    print(\"Done.\")\n",
    "    return folder"
   ]
  },
  {
   "cell_type": "markdown",
   "metadata": {},
   "source": [
    "<div class=\"alert alert-info\">\n",
    "<p class=\"lead\"> Instructions <i class=\"fa fa-info-circle\"></i></p>\n",
    "    \n",
    "Input here the directory where your data resides. If you used default parameters, it should be in `data/input_data/unzipped_data/downloaded_MTX_folder`\n",
    "</div>"
   ]
  },
  {
   "cell_type": "code",
   "execution_count": 5,
   "metadata": {
    "nbtools": {
     "description": "",
     "name": "Setup Seurat Objects",
     "origin": "nbtools.r_support",
     "param_values": {
      "data_dir": "data/input_data/unzipped_data/downloaded_MTX_folder",
      "output_var": ""
     },
     "show_code": false,
     "type": "uibuilder"
    }
   },
   "outputs": [
    {
     "data": {
      "application/vnd.jupyter.widget-view+json": {
       "model_id": "e19a101d54f64b7ea6d53e1f98e96b73",
       "version_major": 2,
       "version_minor": 0
      },
      "text/plain": [
       "UIBuilder(function_import='nbtools._r_wrappers[\"44C0DC2A0FE762E67F4B507DDF3BA037\"]', name='Setup Seurat Object…"
      ]
     },
     "metadata": {},
     "output_type": "display_data"
    }
   ],
   "source": [
    "%%r_build_ui { \"name\": \"Setup Seurat Objects\", \"parameters\": { \"data_dir\":{\"name\":\"data_dir\",},\"output_var\": { \"hide\": \"True\" } } }\n",
    "\n",
    "setupR <- function(data_dir){\n",
    "    \n",
    "    write(\"Loading libraries...\", stdout())\n",
    "    suppressMessages(library(Seurat))\n",
    "    suppressMessages(library(scater))\n",
    "    # Load the dataset\n",
    "    write(c(\"Reading data from\",data_dir), stdout())\n",
    "    suppressMessages(pbmc.data <- Read10X(data.dir = data_dir))\n",
    "    \n",
    "    # Initialize the Seurat object with the raw (non-normalized data).\n",
    "    write(\"Loadig data into Seurat...\", stdout())\n",
    "    pbmc <- CreateSeuratObject(counts = pbmc.data, project = \"pbmc3k\", min.cells = 3, min.features = 200)\n",
    "    write(\"Done with this step.\", stdout())\n",
    "    return(pbmc)\n",
    "}\n",
    "suppressMessages(pbmc <- setupR(data_dir))"
   ]
  },
  {
   "cell_type": "markdown",
   "metadata": {},
   "source": [
    "<div class=\"alert alert-info\">\n",
    "<p class=\"lead\"> Instructions <i class=\"fa fa-info-circle\"></i></p>\n",
    "    \n",
    "Click `Run` to add mitochondiral QC metrics.\n",
    "</div>"
   ]
  },
  {
   "cell_type": "code",
   "execution_count": 6,
   "metadata": {
    "nbtools": {
     "description": "",
     "name": "Add Mitochondrial QC Metrics",
     "origin": "nbtools.r_support",
     "param_values": {
      "column_name": "percent.mt",
      "output_var": "",
      "pattern": "MT-"
     },
     "show_code": false,
     "type": "uibuilder"
    }
   },
   "outputs": [
    {
     "data": {
      "application/vnd.jupyter.widget-view+json": {
       "model_id": "0b9aa4c53dac40dfa714ae412010eadf",
       "version_major": 2,
       "version_minor": 0
      },
      "text/plain": [
       "UIBuilder(function_import='nbtools._r_wrappers[\"7C7C6773DBEA1CB62104B6E54FC74049\"]', name='Add Mitochondrial Q…"
      ]
     },
     "metadata": {},
     "output_type": "display_data"
    }
   ],
   "source": [
    "%%r_build_ui { \"name\": \"Add Mitochondrial QC Metrics\", \"parameters\": { \"column_name\": { \"type\": \"string\", \"default\":\"percent.mt\" },\"pattern\": { \"type\": \"string\", \"default\":\"MT-\" }, \"output_var\": { \"hide\": \"True\" } } }\n",
    "\n",
    "set_mito_qc <- function(colName, pat) {\n",
    "    write(\"Calculating the frequency of mitochondrial genes...\", stdout())\n",
    "    pattern <- paste(\"^\", trimws(pat, which = \"both\"), sep=\"\")\n",
    "    \n",
    "    # The [[ operator can add columns to object metadata. This is a great place to stash QC stats\n",
    "    pbmc[[colName]] <- PercentageFeatureSet(pbmc, pattern = pattern)\n",
    "    write(\"Done!\", stdout())\n",
    "    return(pbmc)\n",
    "}\n",
    "\n",
    "\n",
    "suppressMessages(pbmc <- set_mito_qc(column_name, pattern))"
   ]
  },
  {
   "cell_type": "markdown",
   "metadata": {},
   "source": [
    "<div class=\"alert alert-info\">\n",
    "<p class=\"lead\"> Instructions <i class=\"fa fa-info-circle\"></i></p>\n",
    "\n",
    "Plot the three features (nFeature_RNA, nCount_RNA, and percent.mt) to decide which filters to use in the next step.\n",
    "</div>"
   ]
  },
  {
   "cell_type": "code",
   "execution_count": 73,
   "metadata": {
    "nbtools": {
     "description": "",
     "name": "Triple Violin Plot",
     "origin": "nbtools.r_support",
     "param_values": {
      "first_feature": "nFeature_RNA",
      "output_var": "",
      "second_feature": "nCount_RNA",
      "third_feature": "percent.mt"
     },
     "show_code": false,
     "type": "uibuilder"
    },
    "scrolled": true
   },
   "outputs": [
    {
     "data": {
      "application/vnd.jupyter.widget-view+json": {
       "model_id": "e7929a6994e2401bb1d51bfb18dc1ae8",
       "version_major": 2,
       "version_minor": 0
      },
      "text/plain": [
       "UIBuilder(function_import='nbtools._r_wrappers[\"E7D70BC53307174E00B187151E845EB3\"]', name='Triple Violin Plot'…"
      ]
     },
     "metadata": {},
     "output_type": "display_data"
    }
   ],
   "source": [
    "%%r_build_ui -w 800 { \"width\": 10, \"height\": 300, \"name\": \"Triple Violin Plot\", \"parameters\": { \"first_feature\": { \"type\": \"string\", \"default\":\"nFeature_RNA\" }, \"second_feature\":{ \"type\": \"string\", \"default\":\"nCount_RNA\"}, \"third_feature\": { \"type\": \"string\", \"default\":\"percent.mt\" }, \"output_var\":{\"hide\":\"True\"} } }\n",
    "# Visualize QC metrics as a violin plot\n",
    "#VlnPlot(pbmc, features = c(first_feature, second_feature, third_feature), ncol = 3)\n",
    "tripleViolin <- function(first, second, third){\n",
    "     \n",
    "    feats <- c(first, second, third)\n",
    "    plot(VlnPlot(pbmc, features = feats, ncol = 3, combine=TRUE), fig.height=5, fig.width=15)\n",
    "    return(\"\")\n",
    "}\n",
    "\n",
    "tripleViolin(first_feature, second_feature, third_feature)"
   ]
  },
  {
   "cell_type": "markdown",
   "metadata": {},
   "source": [
    "<div class=\"alert alert-info\">\n",
    "<p class=\"lead\"> Instructions <i class=\"fa fa-info-circle\"></i></p>\n",
    "\n",
    "Based on the three violin plots above, input which filters to apply to the data.\n",
    "</div>"
   ]
  },
  {
   "cell_type": "code",
   "execution_count": 8,
   "metadata": {
    "nbtools": {
     "description": "",
     "name": "Subset Data",
     "origin": "nbtools.r_support",
     "param_values": {
      "max_n_features": "9000",
      "max_percent_mitochondrial": "50",
      "min_n_features": "200",
      "output_var": ""
     },
     "show_code": false,
     "type": "uibuilder"
    },
    "scrolled": true
   },
   "outputs": [
    {
     "data": {
      "application/vnd.jupyter.widget-view+json": {
       "model_id": "10ee456b3cbe46c5a6136c6996160550",
       "version_major": 2,
       "version_minor": 0
      },
      "text/plain": [
       "UIBuilder(function_import='nbtools._r_wrappers[\"8BB8520E90AEA6BAE20986C08F232BB1\"]', name='Subset Data', origi…"
      ]
     },
     "metadata": {},
     "output_type": "display_data"
    }
   ],
   "source": [
    "%%r_build_ui { \"name\": \"Subset Data\", \"parameters\": { \"min_n_features\": { \"type\": \"number\", \"default\":\"200\" },\"max_n_features\": { \"type\": \"number\", \"default\":\"9000\" },\"max_percent_mitochondrial\": { \"type\": \"number\", \"default\":\"50\" }, \"output_var\": { \"hide\": \"True\" } } }\n",
    "\n",
    "my_subset <- function(min_n_features, max_n_features, max_percent_mitochondrial){\n",
    "#     print(pbmc)\n",
    "    pbmc <- subset(pbmc, subset = nFeature_RNA > min_n_features & nFeature_RNA < max_n_features & percent.mt < max_percent_mitochondrial)\n",
    "#     print(pbmc)\n",
    "    write('filtering done!', stdout())\n",
    "    return(pbmc)\n",
    "}\n",
    "\n",
    "pbmc <- my_subset(min_n_features, max_n_features, max_percent_mitochonrial)"
   ]
  },
  {
   "cell_type": "markdown",
   "metadata": {},
   "source": [
    "<div class=\"alert alert-info\">\n",
    "<p class=\"lead\"> Instructions <i class=\"fa fa-info-circle\"></i></p>\n",
    "Click run to apply a log-normalization and scaling of the data.\n",
    "</div>"
   ]
  },
  {
   "cell_type": "code",
   "execution_count": 9,
   "metadata": {
    "nbtools": {
     "description": "",
     "name": "Normalize",
     "origin": "nbtools.r_support",
     "param_values": {
      "method": "LogNormalize",
      "output_var": "",
      "scale_factor": "10000"
     },
     "show_code": false,
     "type": "uibuilder"
    }
   },
   "outputs": [
    {
     "data": {
      "application/vnd.jupyter.widget-view+json": {
       "model_id": "6d83c28e00d4495fbee6c2a74286fdb6",
       "version_major": 2,
       "version_minor": 0
      },
      "text/plain": [
       "UIBuilder(function_import='nbtools._r_wrappers[\"8F059699B9E311910A3E10D29BB8BC92\"]', name='Normalize', origin=…"
      ]
     },
     "metadata": {},
     "output_type": "display_data"
    }
   ],
   "source": [
    "\n",
    "%%r_build_ui { \"name\": \"Normalize\", \"parameters\": { \"method\": { \"type\": \"string\", \"default\":\"LogNormalize\" },\"scale_factor\": { \"type\": \"number\", \"default\":\"10000\" }, \"output_var\": { \"hide\": \"True\" } } }\n",
    "\n",
    "norm_pbmc <- function(meth, scale){\n",
    "    write(\"Normalizing data...\", stdout())\n",
    "    invisible(pbmc <- NormalizeData(pbmc, normalization.method = meth, scale.factor = scale, verbose = F))\n",
    "    write('Normalization done!', stdout())\n",
    "    return(pbmc)\n",
    "}\n",
    "\n",
    "pbmc <- norm_pbmc(method, scale_factor)"
   ]
  },
  {
   "cell_type": "markdown",
   "metadata": {},
   "source": [
    "<div class=\"alert alert-info\">\n",
    "<p class=\"lead\"> Instructions <i class=\"fa fa-info-circle\"></i></p>\n",
    "Click run to show genes which are highly variable in this experiment. Take note of these genes as they may be helpful in downstream analyses.\n",
    "</div>"
   ]
  },
  {
   "cell_type": "code",
   "execution_count": 10,
   "metadata": {
    "nbtools": {
     "description": "",
     "name": "Feature Selection",
     "origin": "nbtools.r_support",
     "param_values": {
      "method": "vst",
      "num_features": "2000",
      "num_to_label": "10",
      "output_var": ""
     },
     "show_code": false,
     "type": "uibuilder"
    }
   },
   "outputs": [
    {
     "data": {
      "application/vnd.jupyter.widget-view+json": {
       "model_id": "c8a311631f824c67b7659c77d2e3c973",
       "version_major": 2,
       "version_minor": 0
      },
      "text/plain": [
       "UIBuilder(function_import='nbtools._r_wrappers[\"C005851912615E3576259391F615CE94\"]', name='Feature Selection',…"
      ]
     },
     "metadata": {},
     "output_type": "display_data"
    }
   ],
   "source": [
    "%%r_build_ui { \"name\": \"Feature Selection\", \"parameters\": { \"method\": { \"type\": \"string\", \"default\":\"vst\",\"hide\":\"True\" },\"num_features\": { \"type\": \"number\", \"default\":\"2000\" }, \"num_to_label\":{\"type\": \"number\", \"default\": \"10\", \"description\": \"label the top N features in the plot.\"}, \"output_var\": { \"hide\": \"True\" } } }\n",
    "#%%R -w 800 -h 450\n",
    "\n",
    "feat_sel_plot <- function(meth, nFeat, nLabel){\n",
    "    write(\"Identifying variable features...\", stdout())\n",
    "    invisible(capture.output(pbmc <- FindVariableFeatures(pbmc, selection.method = meth, nfeatures = nFeat, \n",
    "                                                         verbose=F)))\n",
    "    write(\"Done!\", stdout())\n",
    "\n",
    "    # Identify the 10 most highly variable genes\n",
    "    top10 <- head(VariableFeatures(pbmc), nLabel)\n",
    "\n",
    "    # plot variable features with and without labels\n",
    "    invisible(capture.output(plot1 <- VariableFeaturePlot(pbmc)))\n",
    "    invisible(capture.output(plot2 <- LabelPoints(plot = plot1, points = top10, repel = TRUE)))\n",
    "    print(plot2)\n",
    "    #plot(CombinePlots(plots = list(plot1, plot2)))\n",
    "    return(pbmc)\n",
    "}\n",
    "\n",
    "pbmc <- feat_sel_plot(method, num_features, num_to_label)"
   ]
  },
  {
   "cell_type": "markdown",
   "metadata": {},
   "source": [
    "<div class=\"alert alert-info\">\n",
    "<p class=\"lead\"> Instructions <i class=\"fa fa-info-circle\"></i></p>\n",
    "Click run to compute PCA.\n",
    "</div>"
   ]
  },
  {
   "cell_type": "code",
   "execution_count": 80,
   "metadata": {
    "nbtools": {
     "description": "",
     "name": "Compute PCA",
     "origin": "nbtools.r_support",
     "param_values": {
      "output_var": ""
     },
     "show_code": true,
     "type": "uibuilder"
    }
   },
   "outputs": [
    {
     "data": {
      "application/vnd.jupyter.widget-view+json": {
       "model_id": "dc270e3e00b441ea9015c17e4e6ce5e0",
       "version_major": 2,
       "version_minor": 0
      },
      "text/plain": [
       "UIBuilder(function_import='nbtools._r_wrappers[\"70D95C67ABBDA3BC85F544E78A526328\"]', name='Compute PCA', origi…"
      ]
     },
     "metadata": {},
     "output_type": "display_data"
    }
   ],
   "source": [
    "%%r_build_ui {\"name\": \"Compute PCA\", \"parameters\": {\"output_var\":{\"hide\": \"True\"}}}\n",
    "myscale <- function(pbmc){\n",
    "    write(\"Scaling data...\", stdout())\n",
    "    all.genes <- rownames(pbmc)\n",
    "    invisible(capture.output(pbmc <- ScaleData(pbmc, features = all.genes, verbose = F)))\n",
    "    write('Done scaling data!', stdout())\n",
    "    \n",
    "    feats <- VariableFeatures(object = pbmc, verbose = F)\n",
    "    pbmc <- RunPCA(pbmc, features = feats, nfeatures.print=5, verbose=F)\n",
    "    write('Done computing PCA. Elbow plot below.', stdout())\n",
    "    \n",
    "    plot(ElbowPlot(pbmc))\n",
    "    \n",
    "    return(pbmc)\n",
    "}\n",
    "pbmc <- myscale(pbmc)"
   ]
  },
  {
   "cell_type": "code",
   "execution_count": 14,
   "metadata": {
    "nbtools": {
     "description": "",
     "name": "Save preprocessed dataset",
     "origin": "nbtools.r_support",
     "param_values": {
      "file_name": "Seurat_preprocessed.rds",
      "output_var": ""
     },
     "show_code": false,
     "type": "uibuilder"
    }
   },
   "outputs": [
    {
     "data": {
      "application/vnd.jupyter.widget-view+json": {
       "model_id": "a4f4ed4d9f9a459db3b7c02d04cd3038",
       "version_major": 2,
       "version_minor": 0
      },
      "text/plain": [
       "UIBuilder(function_import='nbtools._r_wrappers[\"06471D6BBEE48F03FFB4C216B64A596E\"]', name='Save preprocessed d…"
      ]
     },
     "metadata": {},
     "output_type": "display_data"
    }
   ],
   "source": [
    "%%r_build_ui {\"name\":\"Save preprocessed dataset\", \"parameters\": {  \"file_name\": {\"default\":\"Seurat_preprocessed.rds\"}, \"output_var\": {\"hide\": \"True\"} }}\n",
    "save_it <- function(fileName){\n",
    "    write('Saving file to the notebook workspace. This may take a while (this file may be aboyt 1 GB in size)...', stdout())\n",
    "    saveRDS(pbmc, file = fileName)\n",
    "    print(\"Saved file!\")\n",
    "    return(pbmc)\n",
    "}\n",
    "save_it(file_name)"
   ]
  },
  {
   "cell_type": "code",
   "execution_count": 15,
   "metadata": {
    "nbtools": {
     "description": "",
     "name": "Upload file to GenePattern Server",
     "origin": "Notebook",
     "param_values": {
      "file": "Seurat_preprocessed.rds",
      "output_var": "quantification_source"
     },
     "show_code": false,
     "type": "uibuilder"
    }
   },
   "outputs": [
    {
     "data": {
      "application/vnd.jupyter.widget-view+json": {
       "model_id": "4b27ee4d7f7b4bc3898c44fa540a6350",
       "version_major": 2,
       "version_minor": 0
      },
      "text/plain": [
       "UIBuilder(function_import='nbtools.tool(id=\"Upload file to GenePattern Server\", origin=\"Notebook\").function_or…"
      ]
     },
     "metadata": {},
     "output_type": "display_data"
    },
    {
     "data": {
      "application/javascript": [
       "\n",
       "            NBToolManager.instance().register(new NBToolManager.NBTool({\n",
       "                origin: \"Notebook\",\n",
       "                id: \"Upload file to GenePattern Server\",\n",
       "                name: \"Upload file to GenePattern Server\",\n",
       "                description: \"\",\n",
       "                version: \"null\",\n",
       "                tags: null,\n",
       "                attributes: null,\n",
       "                load: function() { return true; },\n",
       "                render: function() { let code = \"nbtools.tool(id='Upload file to GenePattern Server', origin='Notebook')\";\n",
       "                let cell = Jupyter.notebook.get_selected_cell();\n",
       "                const is_empty = cell.get_text().trim() === \"\";\n",
       "\n",
       "                // If this cell is not empty, insert a new cell and use that\n",
       "                // Otherwise just use this cell\n",
       "                if (!is_empty) {\n",
       "                    cell = Jupyter.notebook.insert_cell_below();\n",
       "                    Jupyter.notebook.select_next();\n",
       "                }\n",
       "\n",
       "                cell.set_text(code);\n",
       "                cell.execute();\n",
       "\n",
       "                return cell; },\n",
       "            }));"
      ]
     },
     "metadata": {},
     "output_type": "display_data"
    }
   ],
   "source": [
    "@nbtools.build_ui(name=\"Upload file to GenePattern Server\", parameters={\n",
    "    \"file\": {\n",
    "        \"name\": \"File to upload:\",\n",
    "        \"default\":\"Seurat_preprocessed.rds\"\n",
    "    },\n",
    "    \"output_var\": {\n",
    "    \"name\": \"results\",\n",
    "    \"description\": \"\",\n",
    "    \"default\": \"quantification_source\",\n",
    "    \"hide\": True\n",
    "    }\n",
    "})\n",
    "def load_file(file):\n",
    "    import genepattern\n",
    "    uio = nbtools.UIOutput()\n",
    "    display(uio)\n",
    "    size = os.path.getsize('pbmc_preprocessed.rds')\n",
    "    print(f'This file size is {round(size/1e6)} MB, it may take a while to upload.')\n",
    "    uio.status = \"Uploading...\"\n",
    "    uploaded_file = genepattern.session.get(0).upload_file(file_name=os.path.basename(file),file_path=file)\n",
    "    uio.status = \"Uploaded!\"\n",
    "    display(nbtools.UIOutput(files=[uploaded_file.get_url()]))\n",
    "    return()"
   ]
  },
  {
   "cell_type": "markdown",
   "metadata": {
    "heading_collapsed": true
   },
   "source": [
    "### Hide this"
   ]
  },
  {
   "cell_type": "markdown",
   "metadata": {
    "hidden": true
   },
   "source": [
    "<div class=\"alert alert-info\">\n",
    "<p class=\"lead\"> Instructions <i class=\"fa fa-info-circle\"></i></p>\n",
    "If the above steps are taking too long (save+upload), feel free to use this.\n",
    "</div>"
   ]
  },
  {
   "cell_type": "code",
   "execution_count": 2,
   "metadata": {
    "hidden": true,
    "nbtools": {
     "description": "",
     "name": "Python Results",
     "show_code": false,
     "type": "uioutput"
    }
   },
   "outputs": [
    {
     "data": {
      "application/vnd.jupyter.widget-view+json": {
       "model_id": "31366cb7a444429d9ff09a1410a0123a",
       "version_major": 2,
       "version_minor": 0
      },
      "text/plain": [
       "UIOutput(files=['https://datasets.genepattern.org/data/module_support_files/SeuratClustering/Seurat_preprocess…"
      ]
     },
     "metadata": {},
     "output_type": "display_data"
    }
   ],
   "source": [
    "display(nbtools.UIOutput(text='If the above steps are taking too long (save+upload), feel free to use this.',\n",
    "                         files=['https://datasets.genepattern.org/data/module_support_files/SeuratClustering/Seurat_preprocessed_prebaked.rds']))"
   ]
  },
  {
   "cell_type": "markdown",
   "metadata": {},
   "source": [
    "## Seurat Clustering"
   ]
  },
  {
   "cell_type": "code",
   "execution_count": 66,
   "metadata": {
    "genepattern": {
     "description": "Companion module for the <a href=\"\">Seurat notebook</a>. Performs clustering and marker identification on single cell data.",
     "name": "SeuratClustering",
     "param_values": {
      "input.seurat.rds.file": null,
      "job.cpuCount": null,
      "job.memory": null,
      "job.queue": null,
      "job.walltime": null,
      "maximum_dimension": null,
      "output.filename": null,
      "reduction": null,
      "resolution": null
     },
     "show_code": true,
     "type": "task"
    }
   },
   "outputs": [
    {
     "data": {
      "application/vnd.jupyter.widget-view+json": {
       "model_id": "54849358459b43cd99d5196b47c05279",
       "version_major": 2,
       "version_minor": 0
      },
      "text/plain": [
       "GPTaskWidget(lsid='urn:lsid:broad.mit.edu:cancer.software.genepattern.module.analysis:00408')"
      ]
     },
     "metadata": {},
     "output_type": "display_data"
    },
    {
     "data": {
      "application/vnd.jupyter.widget-view+json": {
       "model_id": "f2570688b26c47229aef8d24c56aa0a9",
       "version_major": 2,
       "version_minor": 0
      },
      "text/plain": [
       "GPJobWidget(job_number=199267)"
      ]
     },
     "metadata": {},
     "output_type": "display_data"
    }
   ],
   "source": [
    "seuratclustering_task = gp.GPTask(genepattern.session.get(0), 'urn:lsid:broad.mit.edu:cancer.software.genepattern.module.analysis:00408')\n",
    "seuratclustering_job_spec = seuratclustering_task.make_job_spec()\n",
    "seuratclustering_job_spec.set_parameter(\"input.seurat.rds.file\", \"https://cloud.genepattern.org/gp/users/edjuaro/tmp/run3555855951809118024.tmp/Seurat_preprocessed.rds\")\n",
    "seuratclustering_job_spec.set_parameter(\"output.filename\", \"<input.seurat.rds.file_basename>.clustered\")\n",
    "seuratclustering_job_spec.set_parameter(\"maximum_dimension\", \"10\")\n",
    "seuratclustering_job_spec.set_parameter(\"resolution\", \"0.5\")\n",
    "seuratclustering_job_spec.set_parameter(\"reduction\", \"umap\")\n",
    "seuratclustering_job_spec.set_parameter(\"job.memory\", \"2 Gb\")\n",
    "seuratclustering_job_spec.set_parameter(\"job.queue\", \"gp-cloud-default\")\n",
    "seuratclustering_job_spec.set_parameter(\"job.cpuCount\", \"1\")\n",
    "seuratclustering_job_spec.set_parameter(\"job.walltime\", \"02:00:00\")\n",
    "genepattern.display(seuratclustering_task)\n",
    "\n",
    "job199267 = gp.GPJob(genepattern.session.get(0), 199267)\n",
    "genepattern.display(job199267)"
   ]
  },
  {
   "cell_type": "markdown",
   "metadata": {},
   "source": [
    "# Visualize Seurat results"
   ]
  },
  {
   "cell_type": "markdown",
   "metadata": {},
   "source": [
    "## Download files from GPServer"
   ]
  },
  {
   "cell_type": "markdown",
   "metadata": {},
   "source": [
    "<div class=\"alert alert-info\">\n",
    "<p class=\"lead\"> Instructions <i class=\"fa fa-info-circle\"></i></p>\n",
    "Download the CSV file.\n",
    "</div>"
   ]
  },
  {
   "cell_type": "code",
   "execution_count": 16,
   "metadata": {
    "nbtools": {
     "description": "Download file from a GenePattern module job result.",
     "name": "Download File From GenePattern Server",
     "origin": "Notebook",
     "param_values": {
      "File_Name": "",
      "Job_File_Url": null,
      "file": [
       "https://cloud.genepattern.org/gp/jobResults/199267/Seurat_preprocessed_prebaked.clustered.rds.csv"
      ],
      "output_var": ""
     },
     "show_code": false,
     "type": "uibuilder"
    }
   },
   "outputs": [
    {
     "data": {
      "application/vnd.jupyter.widget-view+json": {
       "model_id": "79ab8895fc924e6e8972622149e70fd7",
       "version_major": 2,
       "version_minor": 0
      },
      "text/plain": [
       "UIBuilder(collapse=False, description='Download file from a GenePattern module job result.', function_import='…"
      ]
     },
     "metadata": {},
     "output_type": "display_data"
    }
   ],
   "source": [
    "import os\n",
    "\n",
    "DownloadJobResultFile_description = \"Download file from a GenePattern module job result.\"\n",
    "DownloadJobResultFile_parameters = {\"file\": {\"type\": \"file\", \"kinds\": [\"csv\", \"rds\"]}, \"output_var\": {\"hide\": True}}   \n",
    "        \n",
    "def DownloadJobResultFile(file):\n",
    "    # extract job number and file name from url\n",
    "    job_num = file.split(\"/\")[-2]\n",
    "    remote_file_name = file.split(\"/\")[-1]\n",
    "    \n",
    "    # get the job based on the job number passed as the second argument\n",
    "    job = gp.GPJob(genepattern.get_session(0), job_num)\n",
    "\n",
    "    # fetch a specific file from the job\n",
    "    remote_file = job.get_file(remote_file_name)\n",
    "    \n",
    "    uio = nbtools.UIOutput(text=file)\n",
    "    display(uio)\n",
    "    uio.status = \"Downloading...\"\n",
    "    \n",
    "    File_Name = os.path.basename(file)\n",
    "\n",
    "    response = remote_file.open()\n",
    "    CHUNK = 16 * 1024\n",
    "    with open(File_Name, 'wb') as f:\n",
    "        while True:\n",
    "            chunk = response.read(CHUNK)\n",
    "            if not chunk:\n",
    "                break\n",
    "            f.write(chunk)\n",
    "    uio.status = \"Downloaded!\"\n",
    "    print(File_Name)\n",
    "    display(nbtools.UIOutput(files=[File_Name]))\n",
    "    \n",
    "genepattern.GPUIBuilder(DownloadJobResultFile, collapse=False,\n",
    "                    name='Download File From GenePattern Server',\n",
    "                    description=DownloadJobResultFile_description,\n",
    "                    parameters=DownloadJobResultFile_parameters)"
   ]
  },
  {
   "cell_type": "markdown",
   "metadata": {},
   "source": [
    "<div class=\"alert alert-info\">\n",
    "<p class=\"lead\"> Instructions <i class=\"fa fa-info-circle\"></i></p>\n",
    "Download the RDS file.\n",
    "</div>\n",
    "<div class=\"well well-sm\">\n",
    "<b>Note:</b> This takes about 30 seconds on a <i>high speed</i> connnection, please be patient.\n",
    "</div>"
   ]
  },
  {
   "cell_type": "code",
   "execution_count": 17,
   "metadata": {
    "nbtools": {
     "description": "Download file from a GenePattern module job result.",
     "name": "Download File From GenePattern Server",
     "origin": "Notebook",
     "param_values": {
      "file": [
       "https://cloud.genepattern.org/gp/jobResults/199267/Seurat_preprocessed_prebaked.clustered.rds.rds"
      ],
      "output_var": ""
     },
     "show_code": false,
     "type": "uibuilder"
    }
   },
   "outputs": [
    {
     "data": {
      "application/vnd.jupyter.widget-view+json": {
       "model_id": "d88839337d354bf2864575491fd04104",
       "version_major": 2,
       "version_minor": 0
      },
      "text/plain": [
       "UIBuilder(collapse=False, description='Download file from a GenePattern module job result.', function_import='…"
      ]
     },
     "metadata": {},
     "output_type": "display_data"
    }
   ],
   "source": [
    "genepattern.GPUIBuilder(DownloadJobResultFile, collapse=False,\n",
    "                    name='Download File From GenePattern Server',\n",
    "                    description=DownloadJobResultFile_description,\n",
    "                    parameters=DownloadJobResultFile_parameters)"
   ]
  },
  {
   "cell_type": "markdown",
   "metadata": {
    "heading_collapsed": true
   },
   "source": [
    "#### pre-baked"
   ]
  },
  {
   "cell_type": "markdown",
   "metadata": {
    "hidden": true
   },
   "source": [
    "<div class=\"alert alert-info\">\n",
    "<p class=\"lead\"> Instructions <i class=\"fa fa-info-circle\"></i></p>\n",
    "If the above is not working, run the cell below to access the pre-ran results.\n",
    "</div>"
   ]
  },
  {
   "cell_type": "code",
   "execution_count": null,
   "metadata": {
    "hidden": true
   },
   "outputs": [],
   "source": [
    "job199267 = gp.GPJob(genepattern.session.get(0), 199267)\n",
    "genepattern.display(job199267)"
   ]
  },
  {
   "cell_type": "markdown",
   "metadata": {},
   "source": [
    "## Load data into notebook"
   ]
  },
  {
   "cell_type": "code",
   "execution_count": 18,
   "metadata": {
    "nbtools": {
     "description": "",
     "name": "Load dataset with clustering",
     "origin": "nbtools.r_support",
     "param_values": {
      "CSV_url": [
       "Seurat_preprocessed_prebaked.clustered.rds.csv"
      ],
      "RDS_url": [
       "Seurat_preprocessed_prebaked.clustered.rds.rds"
      ],
      "output_var": ""
     },
     "show_code": false,
     "type": "uibuilder"
    }
   },
   "outputs": [
    {
     "data": {
      "application/vnd.jupyter.widget-view+json": {
       "model_id": "32eb84af52dd46f9a36215e63bf2ae88",
       "version_major": 2,
       "version_minor": 0
      },
      "text/plain": [
       "UIBuilder(function_import='nbtools._r_wrappers[\"DD5DF688B631BBE65EEF77E3572D73E2\"]', name='Load dataset with c…"
      ]
     },
     "metadata": {},
     "output_type": "display_data"
    }
   ],
   "source": [
    "%%r_build_ui {\"name\":\"Load dataset with clustering\", \"parameters\": {\"RDS_url\":{\"name\":\"RDS_url\",\"default\":\"https://datasets.genepattern.org/data/module_support_files/SeuratClustering/Seurat_preprocessed_prebaked.clustered.rds.rds\",'type':\"file\",\"kinds\":[\"rds\"]}, \"CSV_url\":{\"name\":\"CSV_url\",\"type\":\"file\",\"kinds\":['csv'],\"default\":\"https://datasets.genepattern.org/data/module_support_files/SeuratClustering/Seurat_preprocessed_prebaked.clustered.rds.csv\"}, \"output_var\": {\"hide\": \"True\"} }}\n",
    "\n",
    "load_markers <- function(CSV_url) {\n",
    "    write(\"Loading cluster markers into notebook...\", stdout())\n",
    "    markers <- read.csv(CSV_url)\n",
    "    write(\"Done!\", stdout())\n",
    "    return(markers)\n",
    "}\n",
    "load_it <- function(RDS_url){\n",
    "    write(\"Loading clustering results into notebook...\", stdout())\n",
    "    pbmc <- readRDS(file = RDS_url)\n",
    "    write(\"Loaded file!\", stdout())\n",
    "    return(pbmc)\n",
    "}\n",
    "suppressWarnings(markers <- load_markers(CSV_url))\n",
    "pbmc <- load_it(RDS_url)"
   ]
  },
  {
   "cell_type": "code",
   "execution_count": 19,
   "metadata": {
    "nbtools": {
     "description": "",
     "name": "Visualize clusters",
     "origin": "nbtools.r_support",
     "param_values": {
      "output_var": ""
     },
     "show_code": false,
     "type": "uibuilder"
    }
   },
   "outputs": [
    {
     "data": {
      "application/vnd.jupyter.widget-view+json": {
       "model_id": "274f718f2a0243678b73f12a61fddd8d",
       "version_major": 2,
       "version_minor": 0
      },
      "text/plain": [
       "UIBuilder(function_import='nbtools._r_wrappers[\"8A743F26A85BC329B0B881479032911B\"]', name='Visualize clusters'…"
      ]
     },
     "metadata": {},
     "output_type": "display_data"
    }
   ],
   "source": [
    "%%r_build_ui {\"name\": \"Visualize clusters\", \"parameters\": {\"output_var\": {\"hide\": \"True\"}}}\n",
    "do_dim_plot <- function() {\n",
    "    plot(DimPlot(pbmc, reduction = \"umap\"))\n",
    "    return(\"\")\n",
    "}\n",
    "do_dim_plot()"
   ]
  },
  {
   "cell_type": "code",
   "execution_count": 20,
   "metadata": {
    "nbtools": {
     "description": "",
     "name": "Print top cluster markers",
     "origin": "nbtools.r_support",
     "param_values": {
      "cluster_number": "",
      "output_var": ""
     },
     "show_code": false,
     "type": "uibuilder"
    }
   },
   "outputs": [
    {
     "data": {
      "application/vnd.jupyter.widget-view+json": {
       "model_id": "2e74a500b80a40c482cb105f57d93649",
       "version_major": 2,
       "version_minor": 0
      },
      "text/plain": [
       "UIBuilder(function_import='nbtools._r_wrappers[\"1D4825EF9CE4BAC892994A942C47E03B\"]', name='Print top cluster m…"
      ]
     },
     "metadata": {},
     "output_type": "display_data"
    }
   ],
   "source": [
    "%%r_build_ui {\"name\": \"Print top cluster markers\", \"parameters\": {\"cluster_number\": {}, \"output_var\": {\"hide\": \"True\"}}}\n",
    "print_top_markers <- function(cluster_number) {\n",
    "    return(head(markers[markers$cluster==cluster_number,], n = 5))\n",
    "}\n",
    "print_top_markers(cluster_number)"
   ]
  },
  {
   "cell_type": "code",
   "execution_count": 21,
   "metadata": {
    "nbtools": {
     "description": "",
     "name": "Violin plot of gene expression",
     "origin": "nbtools.r_support",
     "param_values": {
      "gene": "",
      "output_var": ""
     },
     "show_code": false,
     "type": "uibuilder"
    }
   },
   "outputs": [
    {
     "data": {
      "application/vnd.jupyter.widget-view+json": {
       "model_id": "8d9306b4269c4774b82f86de01a767cc",
       "version_major": 2,
       "version_minor": 0
      },
      "text/plain": [
       "UIBuilder(function_import='nbtools._r_wrappers[\"70E930CF02671048A937B2197435E73A\"]', name='Violin plot of gene…"
      ]
     },
     "metadata": {},
     "output_type": "display_data"
    }
   ],
   "source": [
    "%%r_build_ui {\"name\": \"Violin plot of gene expression\", \"parameters\": {\"gene\": {}, \"output_var\": {\"hide\": \"True\"}}}\n",
    "do_violin <- function(gene) {\n",
    "    plot(VlnPlot(pbmc, features = c(gene), slot = \"counts\", log = TRUE))\n",
    "    return(\"\")\n",
    "}\n",
    "do_violin(gene)"
   ]
  },
  {
   "cell_type": "code",
   "execution_count": 22,
   "metadata": {
    "nbtools": {
     "description": "",
     "name": "Violin plot of gene expression",
     "origin": "nbtools.r_support",
     "param_values": {
      "gene": "",
      "output_var": ""
     },
     "show_code": false,
     "type": "uibuilder"
    }
   },
   "outputs": [
    {
     "data": {
      "application/vnd.jupyter.widget-view+json": {
       "model_id": "98071402ce8a4a08a1958c279103902c",
       "version_major": 2,
       "version_minor": 0
      },
      "text/plain": [
       "UIBuilder(function_import='nbtools._r_wrappers[\"6FBE5134CA8E2B8624D1E1084E3B560E\"]', name='Violin plot of gene…"
      ]
     },
     "metadata": {},
     "output_type": "display_data"
    }
   ],
   "source": [
    "%%r_build_ui {\"name\": \"Violin plot of gene expression\", \"parameters\": {\"gene\": {}, \"output_var\": {\"hide\": \"True\"}}}\n",
    "do_umap_gene <- function(gene) {\n",
    "    plot(FeaturePlot(pbmc, features = c(gene)))\n",
    "    return(\"\")\n",
    "}\n",
    "do_umap_gene(gene)"
   ]
  },
  {
   "cell_type": "code",
   "execution_count": null,
   "metadata": {},
   "outputs": [],
   "source": []
  }
 ],
 "metadata": {
  "kernelspec": {
   "display_name": "Python 3.7",
   "language": "python",
   "name": "python3.7"
  },
  "language_info": {
   "codemirror_mode": {
    "name": "ipython",
    "version": 3
   },
   "file_extension": ".py",
   "mimetype": "text/x-python",
   "name": "python",
   "nbconvert_exporter": "python",
   "pygments_lexer": "ipython3",
   "version": "3.7.6"
  },
  "toc": {
   "base_numbering": 1,
   "nav_menu": {},
   "number_sections": false,
   "sideBar": true,
   "skip_h1_title": false,
   "title_cell": "Table of Contents",
   "title_sidebar": "Contents",
   "toc_cell": false,
   "toc_position": {},
   "toc_section_display": true,
   "toc_window_display": false
  }
 },
 "nbformat": 4,
 "nbformat_minor": 2
}
