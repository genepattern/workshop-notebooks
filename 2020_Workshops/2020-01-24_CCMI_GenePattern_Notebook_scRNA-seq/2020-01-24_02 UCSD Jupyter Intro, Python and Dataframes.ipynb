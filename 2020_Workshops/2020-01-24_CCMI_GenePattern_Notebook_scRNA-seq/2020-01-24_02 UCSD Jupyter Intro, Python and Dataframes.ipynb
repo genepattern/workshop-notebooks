{
 "cells": [
  {
   "cell_type": "markdown",
   "metadata": {},
   "source": [
    "<div class=\"alert alert-info\">\n",
    "<h3 style=\"margin-top: 0;\"> Instructions <i class=\"fa fa-info-circle\"></i></h3>\n",
    "Look at this cell as an example of how task instructions will appear.\n",
    "</div>"
   ]
  },
  {
   "cell_type": "markdown",
   "metadata": {},
   "source": [
    "# Jupyter Basics\n",
    "\n",
    "This notebook will walk you through some of the basic features and cell types in Jupyter.\n",
    "\n",
    "Throughout this (and other workshop) notebooks, the explanatory text is typically on a white background, while the instructions telling you how to perform a task are written in a blue box like the one at the top of this notebook."
   ]
  },
  {
   "cell_type": "markdown",
   "metadata": {},
   "source": [
    "You should always read the entire instruction block before beginning the task.  Sometimes the instructions will ask you to perform actions that will move the instructions themselves out of view as you scroll a window up or down, or open a new window in your browser.\n",
    "\n",
    "Now let's start working with Jupyter..."
   ]
  },
  {
   "cell_type": "markdown",
   "metadata": {},
   "source": [
    "<h2 id=\"Creating-a-new-Notebook\">Creating a new notebook</h2>\n",
    "\n",
    "<p>In the GenePattern Notebook dashboard, you can create a new notebook from the <strong> <em>New</em> </strong> drop-down control at the top right. You can see this in the picture below.</p>\n",
    "\n",
    "<p>&nbsp;</p>\n",
    "\n",
    "<p><img alt=\"Creating a new notebook\" src=\"https://datasets.genepattern.org/images/Workshop%20Notebooks/PythonAndDataframes/new_notebook.png\" style=\"border-width: 1px ; border-style: solid ; width: 802px ; height: 359px\" /></p>\n",
    "\n",
    "<div class=\"alert alert-info\">\n",
    "<h3 style=\"margin-top: 0;\"> Instructions <i class=\"fa fa-info-circle\"></i></h3>\n",
    "<ol>\n",
    "\t<li>Open the GenePattern Notebook Dashboard in another browser tab or window by right-clicking (to open in a new window) on the <b>\"GenePattern Notebook\"</b> icon and text at the top left of this window.</li>\n",
    "\t<li>Click on the &quot;**New**&quot; dropdown and then select &quot;**Notebook**&quot;. This will create a new notebook (typically called &quot;Untitled&quot;) and put you into it.</li>\n",
    "\t<li>Close the Notebook tab or window and return to this notebook.</li>\n",
    "</ol>\n",
    "</div>\n"
   ]
  },
  {
   "cell_type": "markdown",
   "metadata": {},
   "source": [
    "<h2 id=\"Renaming-and-Saving\">Renaming and Saving</h2>\n",
    "\n",
    "<p>To rename a notebook, just click in the name at the top of the page (above the toolbar). It will open a dialog with an editable control which allows you to type a new name.</p>\n",
    "\n",
    "<p>Saving a notebook works just like saving Microsoft Word or a similar word processor and is available in the File menu at the top of a notebook.  If you wish to revert to an earlier saved copy, you can use the &quot;Revert to Checkpoint&quot; menu item (also on the File menu) to go back to an earlier version.</p>\n",
    "\n",
    "<p>This can be useful to recover your work when you have altered a notebook and discover that it no longer works properly anymore or accidentally delete a cell you want to get back.</p>\n",
    "\n",
    "<div class=\"alert alert-info\">\n",
    "<h3 id=\"-Instructions-\" style=\"margin-top: 0\">Instructions</h3>\n",
    "\n",
    "<ol>\n",
    "\t<li>Click on the name of this notebook at the top of the page.</li>\n",
    "\t<li>Edit the name and click &#39;<strong>Rename</strong>&#39;.</li>\n",
    "\t<li>Switch to the Dashboard in another browser tab and note that it is now renamed there as well.</li>\n",
    "    <li>Click on the menu <b>File >> Save and Checkpoint</b>.</li>\n",
    "    <li>Click on the toolbar <b>+</b> to add a blank cell to the notebook.</li>\n",
    "    <li>Click on the menu <b>File >> Revert to Checkpoint >> <i>todays date and about the current time</i></b>. This will revert to this save (which is probably unchanged since you haven't editted it yet) and afterward you should scroll back down to this point in the notebook.</li>\n",
    "    \n",
    "</ol>\n",
    "</div>\n"
   ]
  },
  {
   "cell_type": "markdown",
   "metadata": {},
   "source": [
    "<h2 id=\"Understanding-Notebooks\">Understanding Notebooks</h2>\n",
    "\n",
    "<p>All notebooks are backed by a &ldquo;kernel,&rdquo; which is a complete contained computational environment.&nbsp;<br />\n",
    "The kernel provides programmatic capabilities for users who want to code, and allows for for interactive widgets for users who don&rsquo;t want to code.<br />\n",
    "The kernel works by running cells and displaying the results of the run either below or in front of the cell.<br />\n",
    "You must run or play a cell for a cell to have any effect<br />\n",
    "&nbsp;</p>\n",
    "\n",
    "<p>Because cells execute arbitrary code, it allows us to write and execute any Python code that we want to in a notebook.&nbsp; It can also allow a few other computer languages to be used but that is beyond the scope of this lesson.</p>\n",
    "\n",
    "\n",
    "<p>There are three kinds of cells that we will be working with in this workshop.</p>\n",
    "\n",
    "<ul>\n",
    "\t<li>**Markdown cells**, which display text, images and links</li>\n",
    "\t<li>**GenePattern cells**, which you have already seen.&nbsp; These display the GenePattern user interfaces</li>\n",
    "\t<li>**Code cells**, which have Python commands for manipulating or displaying data&nbsp;</li>\n",
    "</ul>\n",
    "\n",
    "\n",
    "<h2 id=\"Selecting-cell-type\">Selecting cell type</h2>\n",
    "\n",
    "<p>After creating a cell, we can switch the type of a cell from the cell menu.&nbsp; Click the Cell -&gt; Cell Type -&gt; and then select the type of cell you want to use.</p>\n",
    "\n",
    "<p><img alt=\"\" src=\"https://datasets.genepattern.org/images/Workshop%20Notebooks/PythonAndDataframes/cellType2.png\" style=\"width: 800px ; height: 542px\" /></p>\n",
    "\n",
    "<p>&nbsp;</p>\n"
   ]
  },
  {
   "cell_type": "markdown",
   "metadata": {},
   "source": [
    "<h1 id=\"Markdown-Cells\">Markdown Cells</h1>\n",
    "\n",
    "<p>With markdown, you type out whatever text you want to display, along with a very simple syntax for styling that text. Then, when you execute the cell, it displays it as nicely formatted text.<br />\n",
    "<img alt=\"\" src=\"https://datasets.genepattern.org/images/Workshop%20Notebooks/PythonAndDataframes/markdown.png\" style=\"width: 800px ; height: 401px ; border-width: 1px ; border-style: solid\" /></p>\n",
    "\n",
    "<p>You can see a quick overview of markdown syntax at&nbsp;<a href=\"https://www.markdownguide.org/cheat-sheet/\" target=\"_blank\">https://www.markdownguide.org/cheat-sheet/</a>&nbsp;however you don&#39;t really have to memorize that .</p>\n",
    "\n",
    "<p>GenePattern Notebook adds a rich text editor to markdown cells. This editor allows you to visually create text, headings, bulleted lists, links, tables and many other elements, without the need to write in a special syntax. To open the editor, first click into a markdown cell and then click the editor button <i class=\"fa fa-file-text-o\"></i>. After you&rsquo;re done, just click the &ldquo;Run Cell&rdquo; <i class=\"fa-step-forward fa\"></i> button and the rich text is rendered, exactly as you see it.</p>\n",
    "\n",
    "<p><img alt=\"\" src=\"https://datasets.genepattern.org/images/Workshop%20Notebooks/PythonAndDataframes/textEditor.png\" style=\"border-width: 0px; border-style: solid; width: 800px; height: 249px;\" /></p>\n",
    "\n"
   ]
  },
  {
   "cell_type": "markdown",
   "metadata": {},
   "source": [
    "<div class=\"alert alert-info\">\n",
    "<h3 style=\"margin-top: 0;\"> Instructions <i class=\"fa fa-info-circle\"></i></h3>\n",
    "<ol>\n",
    "\t<li>Double click the cell below (with the title \"Edit this cell\") to see its Markdown text.</li>\n",
    "\t<li>Switch to the rich text editor by clicking on the editor button <i class=\"fa fa-file-text-o\"></i>.</li>\n",
    "\t<li>Perform some edits to the text using the rich text editor.</li>\n",
    "\t<li>Finally click on this cell&#39;s run button <i class=\"fa-step-forward fa\"></i> to&nbsp;close the editor.</li>\n",
    "</ol>\n",
    "</div>\n"
   ]
  },
  {
   "cell_type": "markdown",
   "metadata": {
    "collapsed": true
   },
   "source": [
    "# Edit this cell\n",
    "\n",
    "Follow the instructions above to edit this cell.\n",
    "\n",
    "\n"
   ]
  },
  {
   "cell_type": "markdown",
   "metadata": {},
   "source": [
    "# Create a new Markdown Cell\n",
    "\n",
    "<p>Note that the new cell is inserted next to the one that currently has the cursor in it, not necessarily the one you are looking at.</p>\n",
    "<div class=\"alert alert-info\">\n",
    "<h3 style=\"margin-top: 0;\"> Instructions <i class=\"fa fa-info-circle\"></i></h3>\n",
    "<ol>\n",
    "    <li>Click on this cell to make it the currently selected cell.</li>\n",
    "\t<li>Go to the <b>&quot;Insert&quot;</b> menu for this page. Select <b>&quot;Insert cell below&quot;</b></li>\n",
    "\t<li>Change the cell to a Markdown cell. Go to the <b>&quot;Cell&quot;</b> menu and select <b>&quot;Cell Type&quot;</b> and then <b>&quot;Markdown&quot;</b></li>\n",
    "    <li>Switch to the rich text editor with the editor button <i class=\"fa fa-file-text-o\"></i>.</li>\n",
    "\t<li>Put some text in the new cell and run <i class=\"fa-step-forward fa\"></i> the cell to see your changes</li>\n",
    "</ol>\n",
    "</div>\n",
    "\n",
    "\n"
   ]
  },
  {
   "cell_type": "markdown",
   "metadata": {},
   "source": [
    "# Nested cells for hiding sections\n",
    "\n",
    "<p>When you use Markdown cells with headings in them, you get the additional ability to have those cells &quot;nest&quot; below the cells with the headings.&nbsp; This means that you can collapse or close all of the cells beneath the heading until it reaches another heading of the same degree.</p>\n",
    "\n",
    "\n",
    "<p>So if you have a cell with a top level heading (i.e. &#39;# Title&#39;) any other cells of any type&nbsp;beneath it until the next top level heading can be closed or opened as a group.&nbsp; This makes it easy for a notebook author to make several sections in a long notebook and have the notebook open with just the list of top level headings, like a table of contents.</p>\n",
    "\n",
    "\n",
    "<p>Unfortunately this is limited to markdown cells that use actual markdown.&nbsp; So if the markdown cell used the rich text editor (above) to set the title styles, it will not work, nor will it if the markdown cell consists of raw HTML elements.</p>\n",
    "\n",
    "\n",
    "<div class=\"alert alert-info\">\n",
    "<h3 style=\"margin-top: 0;\"> Instructions <i class=\"fa fa-info-circle\"></i></h3>\n",
    "<ol>\n",
    "\t<li>Click on the <font style=\"font-size: 3em ; position: relative ; bottom: -0.2em\">‣</font> next to the <b>&quot;Example of nested cells&quot;</b> cell below to see how cell nesting works</li>\n",
    "    <li>Click into a nested markdown cell to see the markdown for the title which controls the nesting.</li>\n",
    "</ol>\n",
    "</div>\n"
   ]
  },
  {
   "cell_type": "markdown",
   "metadata": {},
   "source": [
    "# Example of nested cells"
   ]
  },
  {
   "cell_type": "markdown",
   "metadata": {},
   "source": [
    "## This cell is nested one deep\n",
    "...and also includes some text."
   ]
  },
  {
   "cell_type": "markdown",
   "metadata": {},
   "source": [
    "### This cell is nested two deep"
   ]
  },
  {
   "cell_type": "code",
   "execution_count": 7,
   "metadata": {
    "collapsed": true
   },
   "outputs": [],
   "source": [
    "### and so is this code cell\n",
    "x = 1+1"
   ]
  },
  {
   "cell_type": "markdown",
   "metadata": {},
   "source": [
    "<p>The nesting continues until it finds another cell heading of the same degree or higher.</p>\n",
    "\n",
    "<p>i.e. The nesting under a markdown cell with an &lt;h1&gt; tag (or single # in markdown) continues until the next &lt;h1&gt; tag. Nesting under an &lt;h2&gt; tag (or ##) continues to the next &lt;h1&gt; or &lt;h2&gt;, etc..</p>\n"
   ]
  },
  {
   "cell_type": "markdown",
   "metadata": {},
   "source": [
    "# Create Nested cells\n",
    "\n",
    "<div class=\"alert alert-info\">\n",
    "<h3 style=\"margin-top: 0;\"> Instructions <i class=\"fa fa-info-circle\"></i></h3>\n",
    "<ol>\n",
    "    <li>Click on this cell to make it the currently selected cell.</li>\n",
    "\t<li>Go to the &quot;I<strong>nsert</strong>&quot; menu for this page.&nbsp; Select &quot;<strong>Insert cell below&quot;</strong></li>\n",
    "\t<li>Change the cell to a Markdown cell.\n",
    "\t<ul>\n",
    "\t\t<li>Go to the&nbsp;<b>&quot;Cell&quot;</b>&nbsp;menu and select&nbsp;<b>&quot;Cell Type&quot;</b>&nbsp;and then&nbsp;<b>&quot;Markdown&quot;</b></li>\n",
    "\t</ul>\n",
    "\t</li>\n",
    "\t<li>Put a heading&nbsp;at the top of the cell, using Markdown (this doesn&#39;t work with the WYSIWYG editor)\n",
    "\t<ul>\n",
    "\t\t<li>e.g. &quot;`# This is my heading`&quot;</li>\n",
    "\t</ul>\n",
    "\t</li>\n",
    "\t<li>Click on the run button <i class=\"fa-step-forward fa\"></i> for&nbsp;the new cell to leave the editor.</li>\n",
    "\t<li><strong>Repeat steps 1-&gt; 4 </strong>one or more times making lower level headings each time by adding additional &#39;`#`&#39; before the heading &nbsp;\n",
    "\t<ul>\n",
    "\t\t<li>e.g. on the second pass use &quot;`## Heading 2`&quot; etc.</li>\n",
    "\t</ul>\n",
    "\t</li>\n",
    "\t<li>Click on the <font style=\"font-size: 3em ; position: relative ; bottom: -0.2em\">‣</font>&nbsp;buttons next to the headings in your new cells to test the cell nesting&nbsp;</li>\n",
    "</ol>\n",
    "</div>\n"
   ]
  },
  {
   "cell_type": "markdown",
   "metadata": {},
   "source": [
    "# Code Cells\n",
    "\n",
    "The final type of cell we’re going to talk about are code cells. \n",
    "\n",
    "Code cells are conceptually pretty simple. They contain some code that can be modified or executed in the notebook. \n",
    "\n",
    "By default these use the Python programming language, but support also exists for R, Perl and a variety of other programming languages.\n",
    "\n",
    "If the code in a cell returns a value when it is executed, the return value will be displayed beneath the cell.\n",
    "\n",
    "Fundamentally all the cells in a notebook are really code cells, its just that markdown and GenePattern cells do a little more manipulation of the notebook display to make things easier for users who don't want or need to write the python code themselves.\n",
    "\n",
    "<div class=\"alert alert-info\">\n",
    "<h3 style=\"margin-top: 0;\"> Instructions <i class=\"fa fa-info-circle\"></i></h3>\n",
    "<ol>\n",
    "<li>Run <i class=\"fa-step-forward fa\"></i> the two code cells below</li>\n",
    "</ol>\n",
    "</div>\n",
    "\n",
    "The result of running a code cell is usually displayed right beneath the cell."
   ]
  },
  {
   "cell_type": "code",
   "execution_count": null,
   "metadata": {
    "collapsed": true
   },
   "outputs": [],
   "source": [
    "print(\"Hello World\")"
   ]
  },
  {
   "cell_type": "code",
   "execution_count": null,
   "metadata": {
    "collapsed": true
   },
   "outputs": [],
   "source": [
    "x = 1 + 1\n",
    "x"
   ]
  },
  {
   "cell_type": "markdown",
   "metadata": {},
   "source": [
    "#  --- Stop here! ---\n",
    "\n",
    "At this point we will switch to working on reading and preprocessing files using Seurat.  Leave this notebook open at this point as we will refer back to it later in the workshop.\n",
    "\n",
    "<hr/>"
   ]
  },
  {
   "cell_type": "markdown",
   "metadata": {},
   "source": [
    "<h2 id=\"Selecting-cell-type---part-2\">Keyboard Shortcuts&nbsp;</h2>\n",
    "\n",
    "<p>Shortcuts work by having the Notebook react to your typing&nbsp; when you are not in the&nbsp;editable part of a cell. When this happens, the keystrokes can be interpreted by the notebooks as commands. Among other things you can use keyboard shortcuts to add or remove cells from a notebook or to&nbsp;change the type of a cell from markup to code or GenePattern and vice versa.&nbsp; Shortcuts will become very useful the more you work with the notebook environment, and it&rsquo;s really worth the time to learn them.<br />\n",
    "&nbsp;</p>\n",
    "\n",
    "<p>The most important&nbsp;shortcut to know of all is the letter &quot;**h**&quot;.&nbsp; This will bring up a dialog displaying the other shortcuts but for now we will just introduce you to&nbsp;that plus the three shortcuts that can be used to change the cell types.</p>\n",
    "\n",
    "<ul>\n",
    "\t<li><b>&quot;h&quot;</b> --&gt; Open the keyboard shortcuts dialog</li>\n",
    "\t<li><b>&quot;m&quot;</b> --&gt; changes a cell to be of the &quot;Markdown&quot; type</li>\n",
    "\t<li><b>&quot;y&quot;</b> --&gt; changes a cell to be of the &quot;Code&quot; type</li>\n",
    "\t<li><b>&quot;g&quot;</b>&nbsp; --&gt; changes a cell to be of the &quot;GenePattern&quot; type</li>\n",
    "</ul>\n",
    "\n",
    "<p>&nbsp;</p>\n",
    "\n",
    "<div class=\"alert alert-info\">\n",
    "<h3 style=\"margin-top: 0;\"> Instructions <i class=\"fa fa-info-circle\"></i></h3>\n",
    "<ol>\n",
    "\t<li>Click on&nbsp;the left margin of this cell outside the editable area. Then type <b>&quot;h&quot;</b> to bring up the shortcuts menu</li>\n",
    "\t<li>Insert a cell below using the <b>'b'</b> shortcut. Then toggle it between the three cell types by typing <b>&quot;m&quot;</b>, <b>&quot;y&quot;</b> and <b>&quot;g&quot;</b> outside the editable part of the cell</li>\n",
    "</ol>\n",
    "</div>\n",
    "\n",
    "<p>Notice that when you turn it into a GenePattern-type cell, it has inserted some python code into the cell. Just note this for now, we&#39;ll explain more about this below.</p>\n"
   ]
  },
  {
   "cell_type": "markdown",
   "metadata": {},
   "source": [
    "# Cells and Ordering\n",
    "\n",
    "Cells appear in a notebook in a specific order, and generally its best to run them in that same order.  If you jump around a notebook running cells outside of the top to bottom order, the results might be confusing.   \n",
    "\n",
    "<div class=\"alert alert-info\">\n",
    "<h3 style=\"margin-top: 0;\"> Instructions <i class=\"fa fa-info-circle\"></i></h3>\n",
    "<ol>\n",
    "<li>Run <i class=\"fa-step-forward fa\"></i> the following 3 cells one at a time experimenting with different orderings</li>\n",
    "</ol></div>\n",
    "\n",
    "When you start, X probably equals 2 from the code cell example a few steps ago."
   ]
  },
  {
   "cell_type": "code",
   "execution_count": null,
   "metadata": {
    "collapsed": true
   },
   "outputs": [],
   "source": [
    "x = x + 2"
   ]
  },
  {
   "cell_type": "code",
   "execution_count": null,
   "metadata": {
    "collapsed": true
   },
   "outputs": [],
   "source": [
    "print(x)"
   ]
  },
  {
   "cell_type": "code",
   "execution_count": null,
   "metadata": {
    "collapsed": true
   },
   "outputs": [],
   "source": [
    "x = 10"
   ]
  },
  {
   "cell_type": "markdown",
   "metadata": {},
   "source": [
    "<p>You can see what order cells were executed in just to the left of the cell. There you will see something like this</p>\n",
    "<pre><font color=\"#2a3794\">\n",
    "       In [27]:</font></pre>\n",
    "\n",
    "<p>where the &#39;27&#39; will be a number that indicates when this cell was executed in the sequence of all cells in a notebook.&nbsp; So if you look back at the three cells that you just executed out of order, you should see that the numbers of their index don&#39;t increase smoothly from top to bottom.</p>\n"
   ]
  },
  {
   "cell_type": "markdown",
   "metadata": {},
   "source": [
    "<h2>Moving Cells Around</h2>\n",
    "\n",
    "<p>You can use the up <big>&#8593;</big> and down <big>&#8595;</big> arrows in the toolbar (at the top of the notebook) to move selected cells up and down in the ordering.</p>\n",
    "\n",
    "<div class=\"alert alert-info\">\n",
    "<h3 style=\"margin-top: 0;\"> Instructions <i class=\"fa fa-info-circle\"></i></h3>\n",
    "<ol>\n",
    "<li>Select one (or more) cells by clicking on the left edge outside the editable area</li>\n",
    "<li>Use the up <big>&#x2191;</big> and down <big>&#8595;</big> arrows in the toolbar to re-order the selected cells.</li>\n",
    "</ol>\n",
    "\n",
    "</div>\n"
   ]
  },
  {
   "cell_type": "markdown",
   "metadata": {},
   "source": [
    "<h1 id=\"Running-cells\">Is a cell running?</h1>\n",
    "\n",
    "<p>When a cell is running, you will see a <b>In [*]</b> next to it. Only one cell at a time can be run by the kernel. If you hit the run button <i class=\"fa-step-forward fa\"></i> several times for a slow cell while it is already running, it will just run it (slowly) as many times as you clicked the run button <i class=\"fa-step-forward fa\"></i>.</p>\n",
    "\n",
    "\n",
    "\n",
    "<p>Another hint that a cell is running is visible at the top right of the nodetbook toolbar. There you will see a small circle right next to the kernel type listing.</p>\n",
    "\n",
    "<ul>\n",
    "\t<li>When the circle is empty, nothing is running .&nbsp;<img alt=\"\" src=\"https://datasets.genepattern.org/images/Workshop%20Notebooks/PythonAndDataframes/nothingRunning.png\" style=\"width: 85px; height: 30px;\" /></li>\n",
    "\t<li>When the circle is solid, a cell is running somewhere in the notebook&nbsp;<img alt=\"\" src=\"https://datasets.genepattern.org/images/Workshop%20Notebooks/PythonAndDataframes/cellRunning.png\" style=\"width: 85px; height: 30px;\" /></li>\n",
    "</ul>\n",
    "\n",
    "<p>When you ask the kernel to run several cells quickly, they simply get queued up and will run in the order requested.&nbsp; So when&nbsp;you run a cell and then quickly select another cell and run again (and repeat) you can end up with a long queue of cells that are run one after the other.&nbsp; You won&#39;t be able to do much else in the notebook while you wait for them all to complete, so if the cells take a long tume to execute, this can tie things up for a while.</p>\n",
    "\n",
    "\n",
    "<p>Where this is particularly pernicious is when you are running a slow cell and get impatient waiting for the results, and then hit run again a second or third time.&nbsp; Now you will have to wait for all 2 or 3 slow executions instead of just the first one.&nbsp;</p>\n",
    "\n",
    "\n",
    "\n",
    "<p>We can demonstrate this in the example below.</p>\n"
   ]
  },
  {
   "cell_type": "markdown",
   "metadata": {},
   "source": [
    "<div class=\"alert alert-info\"><ol>\n",
    "<h3 style=\"margin-top: 0;\"> Instructions <i class=\"fa fa-info-circle\"></i></h3>\n",
    "<li>Run <i class=\"fa-step-forward fa\"></i> the cell below. Notice the <b>[*]</b> beside the cell while it is executing.</li>\n",
    "<li>Reinitialize the counters by running the cell below it.</li>\n",
    "<li>Run <i class=\"fa-step-forward fa\"></i> the cell immediately below several times, don't wait for it to complete before selecting it and hitting run again</li>\n",
    "</div>\n"
   ]
  },
  {
   "cell_type": "code",
   "execution_count": 1,
   "metadata": {
    "genepattern": {
     "output_variable": "",
     "param_values": {
      "column_name": "TCGA-A7-A0CE-11.htseq",
      "dataframe": " ",
      "gct": " "
     },
     "show_code": false,
     "type": "uibuilder"
    }
   },
   "outputs": [
    {
     "name": "stdout",
     "output_type": "stream",
     "text": [
      "Sleeping for 10 seconds\n",
      "Execution complete: 1 runs in 10.01 seconds \n"
     ]
    }
   ],
   "source": [
    "import time\n",
    "try:\n",
    "    # set the counters the first time through\n",
    "    elapsed_time\n",
    "except NameError:\n",
    "    elapsed_time = 0\n",
    "    run_count = 0\n",
    "\n",
    "\n",
    "print(\"Sleeping for 10 seconds\")\n",
    "\n",
    "run_count = run_count + 1\n",
    "\n",
    "start_time = time.time()\n",
    "\n",
    "time.sleep(10)\n",
    "\n",
    "elapsed_time = elapsed_time + (time.time() - start_time)\n",
    "\n",
    "print(\"Execution complete: %s runs in %s seconds \" % (run_count, f'{elapsed_time:.2f}'))"
   ]
  },
  {
   "cell_type": "code",
   "execution_count": 30,
   "metadata": {
    "collapsed": true
   },
   "outputs": [],
   "source": [
    "# use this cell to reset the counters if you want to start again from the beginning\n",
    "elapsed_time = 0\n",
    "run_count = 0"
   ]
  },
  {
   "cell_type": "markdown",
   "metadata": {},
   "source": [
    "<p>When you are waiting for cells to execute and you realize that you do not want to wait anymore, you can stop the execution of the current cell, and empty the queue with the &quot;stop&quot; button on the toolbar at the top of the notebook.</p>\n",
    "\n",
    "<p>&nbsp;</p>\n",
    "\n",
    "<p><img alt=\"\" src=\"https://datasets.genepattern.org/images/Workshop%20Notebooks/PythonAndDataframes/stopButton.png\" style=\"width: 439px ; height: 60px\" /></p>\n",
    "\n",
    "<p>&nbsp;</p>\n",
    "\n",
    "<p>You can also use the &quot;<strong>Kernel&gt;Interrupt</strong>&quot; menu item which does the same thing.</p>\n"
   ]
  },
  {
   "cell_type": "markdown",
   "metadata": {},
   "source": [
    "<div class=\"alert alert-info\">\n",
    "<h3 style=\"margin-top: 0;\"> Instructions - Putting it all together <i class=\"fa fa-info-circle\"></i></h3>\n",
    "\n",
    "<p>Read these instructions through to the end before starting (most of the exercise takes place in another window).</p>\n",
    "<h4> Create a new Notebook</h4>\n",
    "<ol>\n",
    "<li>Open the GenePattern Notebook Dashboard in another browser tab or window by right-clicking on the **\"GenePattern Notebook\" icon** and text at the top left of this window.</li>\n",
    "<ul style=\"margin-top:5px;margin-bottom:10px\"><li>If you have enough screen space, place that window and this one side-by-side to keep these instructions visible while you work in the other window.</li></ul>\n",
    "\t<li>Click on the &quot;**New**&quot; dropdown. This will create a new notebook and put you into it.</li>\n",
    "\t<li>Click on the title at the top and rename it to something unique (e.g. `\"My First Notebook\"`).</li>\n",
    "    <li>Return to the dashboard to see that the notebook's name is changed in the Files tab as well.</li>\n",
    "</ol>\n",
    "<h4 >Add some cells</h4>\n",
    "<ol start=\"5\">\n",
    "<li>Create a cell:  Click the border at the left of the cell and type **'b'**, or use the menu  **Insert >> Insert Cell Below**</li>\n",
    "<li>Change to a markup cell:  Click the border at the left of the cell and type **'m'**, or use the menu  **Cell >> Cell Type >> Markdown ** </li>\n",
    "<li>Type some text into the cell</li>\n",
    "<li>Run <i class=\"fa-step-forward fa\"></i> the cell</li>\n",
    "<li>Create another cell:  Click the border at the left of the cell and type **'b'**, or use the menu  **Insert >> Insert Cell Below**</li>\n",
    "<li>Change to a code cell:  Click the border at the left of the cell and type **'y'**, or use the menu  **Cell >> Cell Type >> Code ** </li>\n",
    "<li>Type some Python code into the cell (e.g. `1+1`)</li>\n",
    "<li>Run <i class=\"fa-step-forward fa\"></i> the cell</li>\n",
    "</ol>\n",
    "\n",
    "<h4 >Add GenePattern cells</h4>\n",
    "<br/>\n",
    "The first GenePattern cell you add to a notebook is always a login cell.  After that you can add cells for GenePattern modules.\n",
    "<ol start=\"13\">\n",
    "<li>Create a cell:  Click the border at the left of the cell and type **'b'**, or use the menu  **Insert >> Insert Cell Below**</li>\n",
    "<li>Change to a GenePattern cell:  Click the border at the left of the cell and type **'g'**, or use the menu  **Cell >> Cell Type >> GenePattern ** </li>\n",
    "<li>Login to GenePattern using the default's provided.</li>\n",
    "<li>Create another cell: Click the border at the left of the cell and type **'b'**, or use the menu  **Insert >> Insert Cell Below**</li>\n",
    "<li>Change to a code cell:  Click the border at the left of the cell and type **'g'**, or use the menu  **Cell >> Cell Type >> GenePattern ** </li>\n",
    "<li>Pick a random GenePattern module (e.g. `VoomNormalize`) from the ** Catalog **.  Which one doesn't matter as you won't run it now.</li>\n",
    "</ol>\n",
    "\n",
    "<h4> Save the Notebook </h4>\n",
    "\n",
    "<ol start=\"19\">\n",
    "<li>Click the Save button at the top, or use the ** File >> Save and Checkpoint ** menu</li>\n",
    "<li>Return to the **Jupyter Intro, Python and Dataframes notebook** (this notebook)</li>\n",
    "\n",
    "</div>"
   ]
  },
  {
   "cell_type": "markdown",
   "metadata": {},
   "source": [
    "<h1 id=\"Using-Python-code-and-Dataframes\">Using Python code and Dataframes</h1>\n",
    "\n",
    "<p>This notebook will walk you through some of the programmatic features available in the GenePattern Notebook Environment. The <a href=\"http://www.genepattern-notebook.org/programmatic/\">GenePattern Notebook Programmatic Features Guide</a> contains information and examples about additional features not covered here.</p>"
   ]
  },
  {
   "cell_type": "markdown",
   "metadata": {},
   "source": [
    "## Sign in to GenePattern"
   ]
  },
  {
   "cell_type": "markdown",
   "metadata": {},
   "source": [
    "<div class=\"alert alert-info\">\n",
    "<h3 style=\"margin-top: 0;\"> Instructions <i class=\"fa fa-info-circle\"></i></h3>\n",
    "<ul><li>Sign in to GenePattern.  If not already set, enter your username and password into the form below and select the <b>GenePattern Cloud</b> server. </li></ul>\n",
    "</div>"
   ]
  },
  {
   "cell_type": "code",
   "execution_count": 9,
   "metadata": {
    "genepattern": {
     "name": "Login",
     "server": "https://cloud.genepattern.org/gp",
     "show_code": true,
     "type": "auth"
    },
    "scrolled": false
   },
   "outputs": [
    {
     "data": {
      "application/vnd.jupyter.widget-view+json": {
       "model_id": "1c1effbd440b4399b7a613d2767c8cce",
       "version_major": 2,
       "version_minor": 0
      },
      "text/plain": [
       "GPAuthWidget()"
      ]
     },
     "metadata": {},
     "output_type": "display_data"
    }
   ],
   "source": [
    "# Requires GenePattern Notebook: pip install genepattern-notebook\n",
    "import gp\n",
    "import genepattern\n",
    "\n",
    "# Username and password removed for security reasons.\n",
    "genepattern.display(genepattern.session.register(\"https://cloud.genepattern.org/gp\", \"\", \"\"))"
   ]
  },
  {
   "cell_type": "markdown",
   "metadata": {},
   "source": [
    "<h2 id=\"GenePattern-Python-Library\">GenePattern Python Library</h2>\n",
    "\n",
    "<p>Every job run in GenePattern from a GenePattern notebook is programatically accessible in Python. Under the covers, all GenePattern cells use the GenePattern Python Library. This allows you to</p>\n",
    "\n",
    "<ul>\n",
    "\t<li>set analysis parameters</li>\n",
    "\t<li>launch GenePattern jobs</li>\n",
    "\t<li>retrieve results and import into the notebook</li>\n",
    "\t<li>use results with other Python libraries</li>\n",
    "</ul>\n",
    "\n",
    "<p>For example you could run an analysis in GenePattern, retrieve the results, manipulate it in scikit-learn and then plot it with matplotlib.</p>\n",
    "\n",
    "<p>To see the Python code a cell is using, you can use the &quot;Toggle Code View&quot; under the gear icon at the top right of a GenePattern cell.</p>\n",
    "\n",
    "<p><img alt=\"Toggle Code View Icon\" src=\"https://datasets.genepattern.org/images/Workshop%20Notebooks/PythonAndDataframes/ToggleCodeView.png\" style=\"width: 232px; height: 128px;\" /></p>\n",
    "\n",
    "<p>Selecting this switches to display the code that the cell is executing behind the scenes. If you&rsquo;re trying to teach yourself Python, or trying to learn to use the GenePattern Python library, this is also a good way to view code examples and learn how the system works.</p>\n"
   ]
  },
  {
   "cell_type": "markdown",
   "metadata": {},
   "source": [
    "# Toggle Code View <a id=\"toggle_code\"/>\n",
    "\n",
    "We will start by looking at the code for running a GenePattern module <b>VoomNormalize</b>. "
   ]
  },
  {
   "cell_type": "markdown",
   "metadata": {},
   "source": [
    "<div class=\"alert alert-info\">\n",
    "<h3 style=\"margin-top: 0;\"> Instructions <i class=\"fa fa-info-circle\"></i></h3>\n",
    "<ul><li>Click the gear icon for the cell below and select <b>Toggle Code View</b>.</li></ul>\n",
    "</div>"
   ]
  },
  {
   "cell_type": "code",
   "execution_count": 10,
   "metadata": {
    "genepattern": {
     "param_values": {
      "cls.file": null,
      "expression.value.filter.threshold": null,
      "input.file": null,
      "job.cpuCount": null,
      "job.memory": null,
      "job.queue": null,
      "job.walltime": null,
      "output.file": null
     },
     "show_code": false,
     "type": "task"
    }
   },
   "outputs": [
    {
     "data": {
      "application/vnd.jupyter.widget-view+json": {
       "model_id": "074c45b39ff44ad5a4dac69880baf3c2",
       "version_major": 2,
       "version_minor": 0
      },
      "text/plain": [
       "GPTaskWidget(lsid='urn:lsid:broad.mit.edu:cancer.software.genepattern.module.analysis:00355')"
      ]
     },
     "metadata": {},
     "output_type": "display_data"
    }
   ],
   "source": [
    "preprocessreadcounts_task = gp.GPTask(genepattern.get_session(0), 'urn:lsid:broad.mit.edu:cancer.software.genepattern.module.analysis:00355')\n",
    "preprocessreadcounts_job_spec = preprocessreadcounts_task.make_job_spec()\n",
    "preprocessreadcounts_job_spec.set_parameter(\"input.file\", \"\")\n",
    "preprocessreadcounts_job_spec.set_parameter(\"cls.file\", \"\")\n",
    "preprocessreadcounts_job_spec.set_parameter(\"output.file\", \"<input.file_basename>.preprocessed.gct\")\n",
    "preprocessreadcounts_job_spec.set_parameter(\"expression.value.filter.threshold\", \"1\")\n",
    "genepattern.display(preprocessreadcounts_task)"
   ]
  },
  {
   "cell_type": "markdown",
   "metadata": {},
   "source": [
    "<h1 id=\"Send-to-Code\">Send to Code</h1>\n",
    "\n",
    "<p>The GenePattern Python Library seamlessly integrates with GenePattern cells. Code examples of how to call GenePattern jobs or GenePattern result files are available in GenePattern Job Cells by clicking a job result and selecting &ldquo;Send to Code&rdquo; in the menu.</p>\n",
    "\n",
    "<p>&nbsp;</p>\n",
    "\n",
    "<p>To see a snippet of code that accesses a GenePattern server result, click on the name of an output file, and click on &quot;Send to Code&quot;.&nbsp; This will create a new code cell containing an example of how to reference that particular job result.</p>\n",
    "\n",
    "<p>&nbsp;</p>\n",
    "\n",
    "<div class=\"alert alert-info\">\n",
    "<h3 style=\"margin-top: 0;\"> Instructions <i class=\"fa fa-info-circle\"></i></h3>\n",
    "<ol><li>In the Job result below, Click on the \n",
    "`BRCA_HUGO_symbols_preprocessed.gct`\n",
    "output and select <em>Send to Code.</em> This will create a code cell immediately below the job cell.</li>\n",
    "</ol>"
   ]
  },
  {
   "cell_type": "code",
   "execution_count": 11,
   "metadata": {
    "genepattern": {
     "show_code": true,
     "type": "job"
    }
   },
   "outputs": [
    {
     "data": {
      "application/vnd.jupyter.widget-view+json": {
       "model_id": "64909b4545ad49d79159e029fe98a811",
       "version_major": 2,
       "version_minor": 0
      },
      "text/plain": [
       "GPJobWidget(job_number=197176)"
      ]
     },
     "metadata": {},
     "output_type": "display_data"
    }
   ],
   "source": [
    "job197176 = gp.GPJob(genepattern.get_session(0), 197176)\n",
    "genepattern.GPJobWidget(job197176)"
   ]
  },
  {
   "cell_type": "markdown",
   "metadata": {},
   "source": [
    "<h1 id=\"Send-to-DataFrame\">Send to DataFrame</h1>\n",
    "\n",
    "<p>For certain common GenePattern file formats&mdash;such as GCT and ODF&mdash;we go a step beyond the basic &ldquo;send to code&rdquo;, generating code snippets not just for referencing a file, but also importing and indexing that data in a <a href=\"http://pandas.pydata.org/\" target=\"_blank\">Pandas</a> Dataframe.</p>\n",
    "\n",
    "<p>Dataframes are a structure used for many forms of tabular data in Python. They come with a large number of built-in functions to make it easy to analyze and visualize your data in python.&nbsp; Pandas&nbsp;is an extremely popular Python library for reading and working with large datasets and adds additional useful functions to dataframes. It&rsquo;s a staple of doing most any sort of data science in Python.</p>"
   ]
  },
  {
   "cell_type": "markdown",
   "metadata": {},
   "source": [
    "<div class=\"alert alert-info\">\n",
    "<h3 style=\"margin-top: 0;\"> Instructions <i class=\"fa fa-info-circle\"></i></h3>\n",
    "<ol><li>Run the cell below to create a dataframe filled with random numbers and display it in the cell's ouput area.</li>\n",
    "</div>"
   ]
  },
  {
   "cell_type": "code",
   "execution_count": null,
   "metadata": {
    "collapsed": true
   },
   "outputs": [],
   "source": [
    "import pandas as pd\n",
    "import numpy as np\n",
    "\n",
    "# Create random data, 8 columns wide and 20 deep, as a 2 dimensional numpy array\n",
    "data = np.random.randint(0,20,size=(20, 8))\n",
    "\n",
    "# turn it into a dataframe\n",
    "df = pd.DataFrame(data, columns=list('ABCDEFGH'))\n",
    "\n",
    "# return it from the cell so that Jupyter displays the dataframe\n",
    "df"
   ]
  },
  {
   "cell_type": "markdown",
   "metadata": {},
   "source": [
    "\n",
    "\n",
    "<p>Pandas also integrates well with Jupyter and the GenePattern Notebook environment. For example, if you import a GenePattern job result into a dataframe and then return that dataframe in a code cell, the notebook will display a table containing your data.</p>\n",
    "\n",
    "<p>Both the <a href=\"http://software.broadinstitute.org/cancer/software/genepattern/file-formats-guide\" target=\"_blank\">GCT and ODF file formats</a> are easily loaded as Pandas DataFrames. Code examples of how to load these files are available in GenePattern Job Cells by clicking a GCT or ODF job result and selecting &ldquo;Send to DataFrame&rdquo; in the menu.</p>\n",
    "\n",
    "<div class=\"alert alert-info\">\n",
    "<h3 style=\"margin-top: 0;\"> Instructions <i class=\"fa fa-info-circle\"></i></h3>\n",
    "<ol><li>In the Job result below, Click on the \n",
    "`BRCA_HUGO_symbols_preprocessed.gct`\n",
    "output and select <em>Send to Dataframe.</em> This will create a code cell immediately below the job cell.</li></ol></div>\n"
   ]
  },
  {
   "cell_type": "code",
   "execution_count": 12,
   "metadata": {
    "genepattern": {
     "name": "Job #82746",
     "show_code": true,
     "type": "job"
    }
   },
   "outputs": [
    {
     "data": {
      "application/vnd.jupyter.widget-view+json": {
       "model_id": "d836c845a8114bbea9808547fe1809a7",
       "version_major": 2,
       "version_minor": 0
      },
      "text/plain": [
       "GPJobWidget(job_number=197176)"
      ]
     },
     "metadata": {},
     "output_type": "display_data"
    }
   ],
   "source": [
    "job197176 = gp.GPJob(genepattern.session.get(0), 197176)\n",
    "genepattern.display(job197176)"
   ]
  },
  {
   "cell_type": "code",
   "execution_count": null,
   "metadata": {},
   "outputs": [],
   "source": [
    "# The code below will only run if pandas is installed: http://pandas.pydata.org\n",
    "from gp.data import GCT\n",
    "brca_hugo_symbols_preprocessed_gct_197176 = GCT(job197176.get_file(\"BRCA_HUGO_symbols.preprocessed.gct\"))\n",
    "brca_hugo_symbols_preprocessed_gct_197176"
   ]
  },
  {
   "cell_type": "markdown",
   "metadata": {},
   "source": [
    "## Create and view a subset containing breast cancer genes"
   ]
  },
  {
   "cell_type": "markdown",
   "metadata": {},
   "source": [
    "To illustrate some of the benefits of using DataFrames, we will create a new dataframe consisting of several breast cancer-related genes.\n",
    "\n",
    "Note that the cell below expects that you will already have executed the \"Send to DataFrame\" from the prevvious section."
   ]
  },
  {
   "cell_type": "markdown",
   "metadata": {},
   "source": [
    "<div class=\"alert alert-info\">\n",
    "<h3 style=\"margin-top: 0;\"> Instructions <i class=\"fa fa-info-circle\"></i></h3>\n",
    "<ol>\n",
    "<li>Run the following cell to populate the necessary Python variables.</li>\n",
    "</ol>\n",
    "</div>\n",
    "If it doesn't find your dataframe, you may have missed a step above in the previous exercise."
   ]
  },
  {
   "cell_type": "code",
   "execution_count": 19,
   "metadata": {},
   "outputs": [],
   "source": [
    "df = brca_hugo_symbols_preprocessed_gct_197176\n",
    "breast_cancer_genes = ['BCAR1P1','BCAR1P2','BCAR3','BCAR4','BCAS1','BRCA1','BRCA1P1','BRCA2','BRCA3','BRCC3','BRCC3P1']"
   ]
  },
  {
   "cell_type": "markdown",
   "metadata": {},
   "source": [
    "<div class=\"alert alert-info\">\n",
    "<h3 style=\"margin-top: 0;\"> Instructions <i class=\"fa fa-info-circle\"></i></h3>\n",
    "<ol><li>Run the following cell to view a new dataset containing only those genes.</li></lo></div>"
   ]
  },
  {
   "cell_type": "code",
   "execution_count": null,
   "metadata": {
    "scrolled": true
   },
   "outputs": [],
   "source": [
    "df.loc[breast_cancer_genes]"
   ]
  },
  {
   "cell_type": "markdown",
   "metadata": {},
   "source": [
    "<div class=\"alert alert-info\">\n",
    "<h3 style=\"margin-top: 0;\"> Instructions <i class=\"fa fa-info-circle\"></i></h3>\n",
    "<ol><li>\n",
    "Substitute any gene name for the `breast_cancer_genes` variable to view that gene's expression in the dataset.\n",
    "</li></ol>\n",
    "</div>\n",
    "   Example: `df.loc('EGFR')` (include the single quotes)\n",
    "\n",
    "   Gene names must be from the [HUGO Gene Nomenclature](https://www.genenames.org/)"
   ]
  },
  {
   "cell_type": "markdown",
   "metadata": {},
   "source": [
    "<h1 id=\"User-Interface-(UI)-Builder\">User Interface (UI) Builder</h1>\n",
    "\n",
    "<p>The UI Builder is a way to turn any Python function as an interactive GenePattern cell. This is useful when you are making a function that you want someone else to use and you don&rsquo;t want them accidentally editing the code itself.</p>\n",
    "\n",
    "<p>Functions wrapped with the UI Builder appear in the GenePattern tool menu to allow them to be reused.</p>\n",
    "\n",
    "<p>The UI Builder also makes use of many Python features. It will display the docstring as the function description, will infer parameter types from default values and will display parameter annotations as helpful text near each input.</p>\n",
    "\n",
    "\n",
    "<p>The simplest way to render a function using the UI Builder is to import the <em>genepattern</em> package and then attach the <em>build_ui</em> decorator to the function&#39;s definition.</p>\n",
    "\n",
    "<div class=\"alert alert-info\">\n",
    "<h3 style=\"margin-top: 0;\"> Instructions <i class=\"fa fa-info-circle\"></i></h3>\n",
    "<ol>\n",
    "\t<li>In the cell below, click the gear icon and select <b>Toggle Code View</b> to see how the code was rendered using the UI Builder.</li>\n",
    "</ol>\n",
    "</div>\n"
   ]
  },
  {
   "cell_type": "code",
   "execution_count": 6,
   "metadata": {
    "nbtools": {
     "description": "",
     "name": "helloWorld",
     "origin": "Notebook",
     "param_values": {
      "name": "Inigo Montoya"
     },
     "show_code": false,
     "type": "uibuilder"
    }
   },
   "outputs": [
    {
     "data": {
      "application/vnd.jupyter.widget-view+json": {
       "model_id": "4179e0d7ccd9411bac18672755f69fed",
       "version_major": 2,
       "version_minor": 0
      },
      "text/plain": [
       "UIBuilder(function_import='nbtools.tool(id=\"helloWorld\", origin=\"Notebook\").function_or_method', name='helloWo…"
      ]
     },
     "metadata": {},
     "output_type": "display_data"
    },
    {
     "data": {
      "application/javascript": [
       "\n",
       "            NBToolManager.instance().register(new NBToolManager.NBTool({\n",
       "                origin: \"Notebook\",\n",
       "                id: \"helloWorld\",\n",
       "                name: \"helloWorld\",\n",
       "                description: \"\",\n",
       "                version: \"null\",\n",
       "                tags: null,\n",
       "                attributes: null,\n",
       "                load: function() { return true; },\n",
       "                render: function() { let code = \"nbtools.tool(id='helloWorld', origin='Notebook')\";\n",
       "                let cell = Jupyter.notebook.get_selected_cell();\n",
       "                const is_empty = cell.get_text().trim() === \"\";\n",
       "\n",
       "                // If this cell is not empty, insert a new cell and use that\n",
       "                // Otherwise just use this cell\n",
       "                if (!is_empty) {\n",
       "                    cell = Jupyter.notebook.insert_cell_below();\n",
       "                    Jupyter.notebook.select_next();\n",
       "                }\n",
       "\n",
       "                cell.set_text(code);\n",
       "                cell.execute();\n",
       "\n",
       "                return cell; },\n",
       "            }));"
      ]
     },
     "metadata": {},
     "output_type": "display_data"
    }
   ],
   "source": [
    "@genepattern.build_ui\n",
    "def helloWorld(name):\n",
    "    print(\"Hello, my name is \" + str(name))"
   ]
  },
  {
   "cell_type": "markdown",
   "metadata": {},
   "source": [
    "You can also provide additional information to control more details of how the UI builder will create the interface for you.  For example you can the output variable as in the example below.\n",
    "\n",
    "<div class=\"alert alert-info\">\n",
    "<h3 style=\"margin-top: 0;\"> Instructions <i class=\"fa fa-info-circle\"></i></h3>\n",
    "<ol>\n",
    "\t<li>In the cell below, click the gear icon and select <b>Toggle Code View</b> to see how the code was rendered using the UI Builder.</li>\n",
    "</ol>\n",
    "</div>"
   ]
  },
  {
   "cell_type": "code",
   "execution_count": 7,
   "metadata": {
    "genepattern": {
     "output_variable": "",
     "param_values": {
      "column_name": "TCGA-BH-A0B3-01",
      "dataframe": "{{brca_hugo_symbols_preprocessed_gct_24821}}",
      "df": "brca_hugo_symbols_preprocessed_gct_24821",
      "gct": " "
     },
     "show_code": false,
     "type": "uibuilder"
    },
    "nbtools": {
     "description": "Sort the samples in the dataframe by the specified column.",
     "name": "sort_results",
     "origin": "Notebook",
     "param_values": {
      "column_name": "TCGA-BH-A0B3-01",
      "dataframe": "",
      "df": "",
      "output_var": ""
     },
     "show_code": false,
     "type": "uibuilder"
    },
    "scrolled": false
   },
   "outputs": [
    {
     "data": {
      "application/vnd.jupyter.widget-view+json": {
       "model_id": "3d6f8b684db548ff93396fad94f92ac5",
       "version_major": 2,
       "version_minor": 0
      },
      "text/plain": [
       "UIBuilder(description='Sort the samples in the dataframe by the specified column.', function_import='nbtools.t…"
      ]
     },
     "metadata": {},
     "output_type": "display_data"
    },
    {
     "data": {
      "application/javascript": [
       "\n",
       "            NBToolManager.instance().register(new NBToolManager.NBTool({\n",
       "                origin: \"Notebook\",\n",
       "                id: \"sort_results\",\n",
       "                name: \"sort_results\",\n",
       "                description: \"Sort the samples in the dataframe by the specified column.\",\n",
       "                version: \"null\",\n",
       "                tags: null,\n",
       "                attributes: null,\n",
       "                load: function() { return true; },\n",
       "                render: function() { let code = \"nbtools.tool(id='sort_results', origin='Notebook')\";\n",
       "                let cell = Jupyter.notebook.get_selected_cell();\n",
       "                const is_empty = cell.get_text().trim() === \"\";\n",
       "\n",
       "                // If this cell is not empty, insert a new cell and use that\n",
       "                // Otherwise just use this cell\n",
       "                if (!is_empty) {\n",
       "                    cell = Jupyter.notebook.insert_cell_below();\n",
       "                    Jupyter.notebook.select_next();\n",
       "                }\n",
       "\n",
       "                cell.set_text(code);\n",
       "                cell.execute();\n",
       "\n",
       "                return cell; },\n",
       "            }));"
      ]
     },
     "metadata": {},
     "output_type": "display_data"
    }
   ],
   "source": [
    "from IPython.display import display\n",
    "\n",
    "@genepattern.build_ui(parameters={\n",
    "\n",
    "    # use this to hide the output variable on the UIBuilder form if you don't want users of this\n",
    "    # notebook to see it\n",
    "    \"output_var\": {\n",
    "        \"name\": \"results\",\n",
    "        \"description\": \"There are the results\",\n",
    "        \"hide\": True\n",
    "    }\n",
    "})\n",
    "def sort_results(dataframe: \"The variable name of the GCT DataFrame\", \n",
    "                 column_name: \"The name of the column by which to sort.\" = 'TCGA-BH-A0B3-01'):\n",
    "    \"\"\"\n",
    "    Sort the samples in the dataframe by the specified column.\n",
    "    \"\"\"\n",
    "#     display(df.dataframe.sort_values('TCGA-A7-A0CE-11.htseq', ascending=False).head(20))\n",
    "    return df.head()[column_name]\n",
    "    "
   ]
  },
  {
   "cell_type": "markdown",
   "metadata": {},
   "source": [
    "<p>&nbsp;</p>\n",
    "\n",
    "<p>Inputs for any GenePattern cell can optionally take Python variable names. When the form is submitted, the widget will pass a reference to the variable to the resulting function call. For example, from your <b>Send to DataFrame</b> example above you should have a variable that looks like this:</p>\n",
    "\n",
    "<pre>brca_hugo_symbols_preprocessed_gct_82746\n",
    "</pre>\n",
    "\n",
    "<p>The number at the end will be different for each run of the module. We can use the value of this variable (i.e. the DataFrame) as input to another module by putting the variable name into the UI <em>dataframe</em> input below. Make sure that you have run the cell that creates the DataFrame before this next step.</p>\n",
    "\n",
    "\n",
    "<div class=\"alert alert-info\">\n",
    "<h3 style=\"margin-top: 0;\"> Instructions <i class=\"fa fa-info-circle\"></i></h3>\n",
    "<ol start=\"1\">\n",
    "\t<li>Copy the DataFrame variable name from your cell in the <b>Send To Code</b> example we did earlier (above) and paste it into the <b>dataframe</b> variable in the <b>sort_results</b> cell above.</li>\n",
    "\t<li>Run the cell</li>\n",
    "</ol>\n",
    "</div>\n"
   ]
  },
  {
   "cell_type": "markdown",
   "metadata": {},
   "source": [
    "<h2 id=\"Parameter-Types\">Parameter Types</h2>\n",
    "\n",
    "<p>UI Parameters can (optionally) be given types.&nbsp; The allowed types include</p>\n",
    "\n",
    "<ul>\n",
    "\t<li>text</li>\n",
    "\t<li>number</li>\n",
    "\t<li>password</li>\n",
    "\t<li>choice&nbsp;</li>\n",
    "\t<li>boolean</li>\n",
    "\t<li>file</li>\n",
    "</ul>\n",
    "\n",
    "<p>The function below has defined its input as a <b>file parameter</b> type. This allows you to use this in the &#39;Send to&#39; from GenePattern job cells or to do the reverse and &#39;pull&#39; results from previously executed GenePattern jobs. This is done by adding a parameter type definition to the UIBuilder definition.</p>\n",
    "\n",
    "<p>&nbsp;</p>\n",
    "\n",
    "<pre>\n",
    "   parameters={\n",
    "    &quot;url&quot;: {\n",
    "        &quot;type&quot;: &quot;file&quot;,\n",
    "        &quot;kinds&quot;: [&quot;gct&quot;]\n",
    "    }\n",
    "</pre>\n",
    "\n",
    "<p>You can also optionally define what kind of files it accepts. These are defined by their three letter extensions (i.e. the bit after the period at the end of a filename, usually 3 letters long). In the example above, it states that the <b>url</b> parameter accepts only files of the type <b>gct</b> which we saw in the Data Preparation section.</p>\n",
    "\n",
    "<p>&nbsp;</p>\n",
    "\n",
    "<div class=\"alert alert-info\">\n",
    "<h3 style=\"margin-top: 0;\"> Instructions <i class=\"fa fa-info-circle\"></i></h3>\n",
    "<ol>\n",
    "\t<li>Click the gear icon and select <b>Toggle Code View</b> to see how the parameter definition is added</li>\n",
    "\t<li>Click on the &quot;url&quot; parameter and select the <b>BRCA_HUGO_symbols.preprocessed.gct</b> result file from the <b>&quot;Job #822746 VoomNormalize&quot;</b> job above.  It may appear twice.</li>\n",
    "\t<li>Run the <b>print_url</b> cell.</li>\n",
    "</ol>\n",
    "</div>\n"
   ]
  },
  {
   "cell_type": "code",
   "execution_count": 8,
   "metadata": {
    "genepattern": {
     "output_variable": "x",
     "param_values": {
      "url": [
       "https://gp-beta-ami.genepattern.org/gp/jobResults/24821/BRCA_HUGO_symbols.preprocessed.gct"
      ]
     },
     "show_code": false,
     "type": "uibuilder"
    },
    "nbtools": {
     "description": "",
     "name": "print_url",
     "origin": "Notebook",
     "param_values": {
      "output_var": "",
      "url": []
     },
     "show_code": false,
     "type": "uibuilder"
    }
   },
   "outputs": [
    {
     "data": {
      "application/vnd.jupyter.widget-view+json": {
       "model_id": "b170c87eb93c45449459505fca7afeb6",
       "version_major": 2,
       "version_minor": 0
      },
      "text/plain": [
       "UIBuilder(function_import='nbtools.tool(id=\"print_url\", origin=\"Notebook\").function_or_method', name='print_ur…"
      ]
     },
     "metadata": {},
     "output_type": "display_data"
    },
    {
     "data": {
      "application/javascript": [
       "\n",
       "            NBToolManager.instance().register(new NBToolManager.NBTool({\n",
       "                origin: \"Notebook\",\n",
       "                id: \"print_url\",\n",
       "                name: \"print_url\",\n",
       "                description: \"\",\n",
       "                version: \"null\",\n",
       "                tags: null,\n",
       "                attributes: null,\n",
       "                load: function() { return true; },\n",
       "                render: function() { let code = \"nbtools.tool(id='print_url', origin='Notebook')\";\n",
       "                let cell = Jupyter.notebook.get_selected_cell();\n",
       "                const is_empty = cell.get_text().trim() === \"\";\n",
       "\n",
       "                // If this cell is not empty, insert a new cell and use that\n",
       "                // Otherwise just use this cell\n",
       "                if (!is_empty) {\n",
       "                    cell = Jupyter.notebook.insert_cell_below();\n",
       "                    Jupyter.notebook.select_next();\n",
       "                }\n",
       "\n",
       "                cell.set_text(code);\n",
       "                cell.execute();\n",
       "\n",
       "                return cell; },\n",
       "            }));"
      ]
     },
     "metadata": {},
     "output_type": "display_data"
    }
   ],
   "source": [
    "import genepattern\n",
    "import gp.data\n",
    "\n",
    "@genepattern.build_ui(parameters={\n",
    "    \"url\": {\n",
    "        \"type\": \"file\",\n",
    "        \"kinds\": [\"gct\"]\n",
    "    },\n",
    "    # use this to hide the output variable on the UIBuilder form if you don't want users of this\n",
    "    # notebook to see it\n",
    "    \"output_var\": {\n",
    "        \"name\": \"results\",\n",
    "        \"description\": \"There are the results\",\n",
    "        \"hide\": True\n",
    "    }\n",
    "})\n",
    "def print_url(url):\n",
    "    return print(\"The result file URL is: \" + url)"
   ]
  },
  {
   "cell_type": "markdown",
   "metadata": {},
   "source": [
    "## The Tool Manager\n",
    "By virtue of using the GenePattern UI Builder, the two functions we defined above (sort_results and print_url) have been added to the Tool manager. This allows you to reuse them, and their new UI, again elsewhere in the notebook.\n",
    "\n",
    "<div class=\"alert alert-info\">\n",
    "<h3 style=\"margin-top: 0;\"> Instructions <i class=\"fa fa-info-circle\"></i></h3>\n",
    "<ol>\n",
    "<li>Click the <b>Insert</b> menu item and select <b>Insert Cell Below</b> to add a cell to the notebook.</li>\n",
    "<li>Click the <b>Cell</b> menu item and select <b>Cell Type</b> and then <B>GenePattern</B> to make it a GenePattern cell.  This should also cause the Tool Manager to appear at the left of your page.</li>\n",
    "<li>Click on the Tool Manager and select the <b>Notebook</b> tab at the top.</li>\n",
    "<li>Click on <b>print_url</b> tool to make this new cell another instance of the print_url function we used earlier.</li>\n",
    "\n",
    "</ol></div>"
   ]
  },
  {
   "cell_type": "markdown",
   "metadata": {},
   "source": [
    "<h1 id=\"Extra-Credit\">Extra Credit</h1>\n",
    "\n",
    "<p>Below are extra credit exercises to complete if you have time.</p>\n",
    "\n",
    "<h3 id=\"1.-Change-UI-Builder-Description\">1. Change UI Builder Description</h3>\n",
    "\n",
    "<div class=\"alert alert-info\">\n",
    "View the code for the UI Builder <b>sort_results</b> cell above, change the function&#39;s description to specify whether the sorting is ascending or descending, then execute the cell to see the new description take effect.</div>\n",
    "\n",
    "<h3 id=\"2.-Custom-Code\">2. Custom Code</h3>\n",
    "\n",
    "<div class=\"alert alert-info\">\n",
    "Write a simple Python function and insert <b>@genepattern.build_ui</b> on the line above the function definition to tell GenePattern to wrap it with a user interface.</div>\n",
    "\n",
    "<h3 id=\"3.-Installing-Python-Libraries\">3. Installing Python Libraries</h3>\n",
    "\n",
    "<p>Most PIP-installable libraries can be added to your notebook server. Try installing one of your favorite libraries with the following in a code cell, replace <a href=\"https://pythontips.com/2013/07/30/20-python-libraries-you-cant-live-without/\" target=\"_blank\">&quot;Pillow&quot;</a> with a library of your choice. Note that you need to provide the target directory as shown for this to work.</p>\n",
    "\n",
    "\n",
    "<div class=\"alert alert-info\">!pip install Pillow --user</div>\n",
    "\n",
    "<p>Then after installation confirm its present with an import statement (again replacing &quot;Pillow&quot; with the name of the module you imported.</p>\n",
    "\n",
    "\n",
    "<div class=\"alert alert-info\">import Pillow</div>\n"
   ]
  }
 ],
 "metadata": {
  "genepattern": {
   "repository_url": "http://notebook.genepattern.org/services/sharing/notebooks/281/"
  },
  "kernelspec": {
   "display_name": "Python 3.6",
   "language": "python",
   "name": "python3.6"
  },
  "language_info": {
   "codemirror_mode": {
    "name": "ipython",
    "version": 3
   },
   "file_extension": ".py",
   "mimetype": "text/x-python",
   "name": "python",
   "nbconvert_exporter": "python",
   "pygments_lexer": "ipython3",
   "version": "3.6.7"
  },
  "toc": {
   "base_numbering": 1,
   "nav_menu": {},
   "number_sections": false,
   "sideBar": true,
   "skip_h1_title": false,
   "title_cell": "Table of Contents",
   "title_sidebar": "Contents",
   "toc_cell": false,
   "toc_position": {},
   "toc_section_display": true,
   "toc_window_display": true
  }
 },
 "nbformat": 4,
 "nbformat_minor": 2
}
