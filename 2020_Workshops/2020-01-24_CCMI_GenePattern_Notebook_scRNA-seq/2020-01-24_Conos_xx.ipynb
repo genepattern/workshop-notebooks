{
 "cells": [
  {
   "cell_type": "code",
   "execution_count": 7,
   "metadata": {
    "genepattern": {
     "name": "Login",
     "server": "https://cloud.genepattern.org/gp",
     "type": "auth"
    }
   },
   "outputs": [
    {
     "data": {
      "application/vnd.jupyter.widget-view+json": {
       "model_id": "fce4de50b0784887a2153513e3cbde95",
       "version_major": 2,
       "version_minor": 0
      },
      "text/plain": [
       "GPAuthWidget()"
      ]
     },
     "metadata": {},
     "output_type": "display_data"
    }
   ],
   "source": [
    "# Requires GenePattern Notebook: pip install genepattern-notebook\n",
    "import gp\n",
    "import genepattern\n",
    "\n",
    "# Username and password removed for security reasons.\n",
    "genepattern.display(genepattern.session.register(\"https://cloud.genepattern.org/gp\", \"\", \"\"))"
   ]
  },
  {
   "cell_type": "markdown",
   "metadata": {},
   "source": [
    "- https://datasets.genepattern.org/data/module_support_files/Conos/data/conos_data/pbmc.txt\n",
    "- https://datasets.genepattern.org/data/module_support_files/Conos/HNSCC_noribo.txt\n",
    "- https://datasets.genepattern.org/data/module_support_files/Conos/MEL_noribo.txt\n",
    "- https://datasets.genepattern.org/data/module_support_files/Conos/CRC_noribo.txt"
   ]
  },
  {
   "cell_type": "code",
   "execution_count": 8,
   "metadata": {
    "genepattern": {
     "description": "GenePattern Module which implements the preprocessing and PCA steps of Conos",
     "name": "Conos.Preprocess",
     "param_values": {
      "conos_odgenes": null,
      "file_list": null,
      "job.cpuCount": null,
      "job.memory": null,
      "job.queue": null,
      "job.walltime": null,
      "knn": null,
      "ncomps": null,
      "pagoda_odgenes": null,
      "perplexity": null,
      "projection_method": null
     },
     "type": "task"
    },
    "scrolled": false
   },
   "outputs": [
    {
     "data": {
      "application/vnd.jupyter.widget-view+json": {
       "model_id": "702a0338a39744febea2a8d4009f982a",
       "version_major": 2,
       "version_minor": 0
      },
      "text/plain": [
       "GPTaskWidget(lsid='urn:lsid:broad.mit.edu:cancer.software.genepattern.module.analysis:00409')"
      ]
     },
     "metadata": {},
     "output_type": "display_data"
    },
    {
     "data": {
      "application/vnd.jupyter.widget-view+json": {
       "model_id": "122bcb58424c47b88c05885b243110de",
       "version_major": 2,
       "version_minor": 0
      },
      "text/plain": [
       "GPJobWidget(job_number=197962)"
      ]
     },
     "metadata": {},
     "output_type": "display_data"
    }
   ],
   "source": [
    "conos_preprocess_task = gp.GPTask(genepattern.session.get(0), 'urn:lsid:broad.mit.edu:cancer.software.genepattern.module.analysis:00409')\n",
    "conos_preprocess_job_spec = conos_preprocess_task.make_job_spec()\n",
    "conos_preprocess_job_spec.set_parameter(\"file_list\", [\"https://datasets.genepattern.org/data/module_support_files/Conos/data/conos_data/pbmc.txt\", \"https://datasets.genepattern.org/data/module_support_files/Conos/HNSCC_noribo.txt\", \"https://datasets.genepattern.org/data/module_support_files/Conos/MEL_noribo.txt\"])\n",
    "conos_preprocess_job_spec.set_parameter(\"knn\", \"40\")\n",
    "conos_preprocess_job_spec.set_parameter(\"perplexity\", \"50\")\n",
    "conos_preprocess_job_spec.set_parameter(\"pagoda_odgenes\", \"3000\")\n",
    "conos_preprocess_job_spec.set_parameter(\"projection_method\", \"PCA\")\n",
    "conos_preprocess_job_spec.set_parameter(\"ncomps\", \"50\")\n",
    "conos_preprocess_job_spec.set_parameter(\"conos_odgenes\", \"1000\")\n",
    "conos_preprocess_job_spec.set_parameter(\"job.memory\", \"4Gb\")\n",
    "conos_preprocess_job_spec.set_parameter(\"job.queue\", \"gp-cloud-default\")\n",
    "conos_preprocess_job_spec.set_parameter(\"job.cpuCount\", \"1\")\n",
    "conos_preprocess_job_spec.set_parameter(\"job.walltime\", \"02:00:00\")\n",
    "genepattern.display(conos_preprocess_task)\n",
    "\n",
    "job197962 = gp.GPJob(genepattern.session.get(0), 197962)\n",
    "genepattern.display(job197962)"
   ]
  },
  {
   "cell_type": "code",
   "execution_count": 9,
   "metadata": {
    "genepattern": {
     "description": "GenePattern Module which implements the clustering and embedding steps of Conos",
     "name": "Conos.Cluster",
     "param_values": {
      "conos_object": null,
      "job.cpuCount": null,
      "job.memory": null,
      "job.queue": null,
      "job.walltime": null,
      "leiden_resolution": null,
      "runleiden": null,
      "runwalktrap": null,
      "umap_distance": null,
      "umap_spread": null,
      "walktrap_steps": null
     },
     "type": "task"
    }
   },
   "outputs": [
    {
     "data": {
      "application/vnd.jupyter.widget-view+json": {
       "model_id": "2b54ade46f8b4fbf882e298689fc1e48",
       "version_major": 2,
       "version_minor": 0
      },
      "text/plain": [
       "GPTaskWidget(lsid='urn:lsid:broad.mit.edu:cancer.software.genepattern.module.analysis:00410')"
      ]
     },
     "metadata": {},
     "output_type": "display_data"
    }
   ],
   "source": [
    "conos_cluster_task = gp.GPTask(genepattern.session.get(0), 'urn:lsid:broad.mit.edu:cancer.software.genepattern.module.analysis:00410')\n",
    "conos_cluster_job_spec = conos_cluster_task.make_job_spec()\n",
    "conos_cluster_job_spec.set_parameter(\"conos_object\", \"\")\n",
    "conos_cluster_job_spec.set_parameter(\"runleiden\", \"True\")\n",
    "conos_cluster_job_spec.set_parameter(\"leiden_resolution\", \"1.0\")\n",
    "conos_cluster_job_spec.set_parameter(\"runwalktrap\", \"True\")\n",
    "conos_cluster_job_spec.set_parameter(\"walktrap_steps\", \"10\")\n",
    "conos_cluster_job_spec.set_parameter(\"umap_distance\", \"0.05\")\n",
    "conos_cluster_job_spec.set_parameter(\"umap_spread\", \"5\")\n",
    "conos_cluster_job_spec.set_parameter(\"job.memory\", \"4Gb\")\n",
    "conos_cluster_job_spec.set_parameter(\"job.queue\", \"gp-cloud-default\")\n",
    "conos_cluster_job_spec.set_parameter(\"job.cpuCount\", \"3\")\n",
    "conos_cluster_job_spec.set_parameter(\"job.walltime\", \"02:00:00\")\n",
    "genepattern.display(conos_cluster_task)\n"
   ]
  },
  {
   "cell_type": "code",
   "execution_count": 10,
   "metadata": {
    "genepattern": {
     "description": "GenePattern Module which implements the clustering and embedding steps of Conos",
     "name": "Conos.Cluster",
     "param_values": {
      "conos_object": null,
      "job.cpuCount": null,
      "job.memory": null,
      "job.queue": null,
      "job.walltime": null,
      "leiden_resolution": null,
      "runleiden": null,
      "runwalktrap": null,
      "umap_distance": null,
      "umap_spread": null,
      "walktrap_steps": null
     },
     "type": "task"
    }
   },
   "outputs": [
    {
     "data": {
      "application/vnd.jupyter.widget-view+json": {
       "model_id": "7cb5e1159cc34e4ba07fda808e649833",
       "version_major": 2,
       "version_minor": 0
      },
      "text/plain": [
       "GPTaskWidget(lsid='urn:lsid:broad.mit.edu:cancer.software.genepattern.module.analysis:00410')"
      ]
     },
     "metadata": {},
     "output_type": "display_data"
    },
    {
     "data": {
      "application/vnd.jupyter.widget-view+json": {
       "model_id": "f9801e4caeb443a7a1676e9ae9ae551b",
       "version_major": 2,
       "version_minor": 0
      },
      "text/plain": [
       "GPJobWidget(job_number=197957)"
      ]
     },
     "metadata": {},
     "output_type": "display_data"
    }
   ],
   "source": [
    "conos_cluster_task = gp.GPTask(genepattern.session.get(0), 'urn:lsid:broad.mit.edu:cancer.software.genepattern.module.analysis:00410')\n",
    "conos_cluster_job_spec = conos_cluster_task.make_job_spec()\n",
    "conos_cluster_job_spec.set_parameter(\"conos_object\", \"https://cloud.genepattern.org/gp/jobResults/197928/conos_preprocess_output.rds\")\n",
    "conos_cluster_job_spec.set_parameter(\"runleiden\", \"True\")\n",
    "conos_cluster_job_spec.set_parameter(\"leiden_resolution\", \"1.0\")\n",
    "conos_cluster_job_spec.set_parameter(\"runwalktrap\", \"True\")\n",
    "conos_cluster_job_spec.set_parameter(\"walktrap_steps\", \"10\")\n",
    "conos_cluster_job_spec.set_parameter(\"umap_distance\", \"0.05\")\n",
    "conos_cluster_job_spec.set_parameter(\"umap_spread\", \"5\")\n",
    "conos_cluster_job_spec.set_parameter(\"job.memory\", \"4Gb\")\n",
    "conos_cluster_job_spec.set_parameter(\"job.queue\", \"gp-cloud-default\")\n",
    "conos_cluster_job_spec.set_parameter(\"job.cpuCount\", \"3\")\n",
    "conos_cluster_job_spec.set_parameter(\"job.walltime\", \"02:00:00\")\n",
    "genepattern.display(conos_cluster_task)\n",
    "\n",
    "\n",
    "job197957 = gp.GPJob(genepattern.session.get(0), 197957)\n",
    "genepattern.display(job197957)"
   ]
  },
  {
   "cell_type": "code",
   "execution_count": null,
   "metadata": {},
   "outputs": [],
   "source": []
  },
  {
   "cell_type": "code",
   "execution_count": 45,
   "metadata": {},
   "outputs": [
    {
     "name": "stdout",
     "output_type": "stream",
     "text": [
      "The rpy2.ipython extension is already loaded. To reload it, use:\n",
      "  %reload_ext rpy2.ipython\n",
      "The nbtools.r_support extension is already loaded. To reload it, use:\n",
      "  %reload_ext nbtools.r_support\n"
     ]
    }
   ],
   "source": [
    "%load_ext rpy2.ipython\n",
    "%load_ext nbtools.r_support\n",
    "# username = genepattern.session.get(0).username\n",
    "# password = genepattern.session.get(0).password\n",
    "# %Rpush username password"
   ]
  },
  {
   "cell_type": "code",
   "execution_count": 5,
   "metadata": {
    "nbtools": {
     "description": "",
     "name": "Import Conos.Cluster output for further analysis",
     "origin": "Notebook",
     "param_values": {
      "conosgraph": [
       "https://cloud.genepattern.org/gp/jobResults/197957/conos_cluster_output.rds"
      ],
      "output_var": "quantification_source"
     },
     "show_code": false,
     "type": "uibuilder"
    }
   },
   "outputs": [
    {
     "data": {
      "application/vnd.jupyter.widget-view+json": {
       "model_id": "3d95d5c268a3449da6b4764d5b897b7d",
       "version_major": 2,
       "version_minor": 0
      },
      "text/plain": [
       "UIBuilder(function_import='nbtools.tool(id=\"Import Conos.Cluster output for further analysis\", origin=\"Noteboo…"
      ]
     },
     "metadata": {},
     "output_type": "display_data"
    },
    {
     "data": {
      "application/javascript": [
       "\n",
       "            NBToolManager.instance().register(new NBToolManager.NBTool({\n",
       "                origin: \"Notebook\",\n",
       "                id: \"Import Conos.Cluster output for further analysis\",\n",
       "                name: \"Import Conos.Cluster output for further analysis\",\n",
       "                description: \"\",\n",
       "                version: \"null\",\n",
       "                tags: null,\n",
       "                attributes: null,\n",
       "                load: function() { return true; },\n",
       "                render: function() { let code = \"nbtools.tool(id='Import Conos.Cluster output for further analysis', origin='Notebook')\";\n",
       "                let cell = Jupyter.notebook.get_selected_cell();\n",
       "                const is_empty = cell.get_text().trim() === \"\";\n",
       "\n",
       "                // If this cell is not empty, insert a new cell and use that\n",
       "                // Otherwise just use this cell\n",
       "                if (!is_empty) {\n",
       "                    cell = Jupyter.notebook.insert_cell_below();\n",
       "                    Jupyter.notebook.select_next();\n",
       "                }\n",
       "\n",
       "                cell.set_text(code);\n",
       "                cell.execute();\n",
       "\n",
       "                return cell; },\n",
       "            }));"
      ]
     },
     "metadata": {},
     "output_type": "display_data"
    },
    {
     "name": "stderr",
     "output_type": "stream",
     "text": [
      "UsageError: Line magic function `%Rpush` not found.\n"
     ]
    }
   ],
   "source": [
    "import genepattern\n",
    "@genepattern.build_ui(name=\"Import Conos.Cluster output for further analysis\", parameters={\n",
    "    \"conosgraph\": {\n",
    "        \"name\": \"Conos Cluster Output:\",\n",
    "        \"description\": \"conos_cluster_output.rds from Conos.Cluster module\",\n",
    "        \"type\": \"file\",\n",
    "        \"kinds\": [\"rds\"]\n",
    "    },\n",
    "    \"output_var\": {\n",
    "    \"name\": \"results\",\n",
    "    \"description\": \"\",\n",
    "    \"default\": \"quantification_source\",\n",
    "    \"hide\": True\n",
    "    }\n",
    "})\n",
    "\n",
    "def get_files_function(conosgraph):\n",
    "#     print(conosgraph)\n",
    "\n",
    "    f = gp.GPFile(genepattern.session.get(0), conosgraph)\n",
    "    open(\"conos_cluster_output.rds\", 'wb').write(f.open().read())\n",
    "    print('done!')\n",
    "\n",
    "newrds = \"unread\"\n",
    "%Rpush newrds"
   ]
  },
  {
   "cell_type": "code",
   "execution_count": 44,
   "metadata": {
    "scrolled": true
   },
   "outputs": [],
   "source": [
    "%%R\n",
    "install.packages(\"conos\")"
   ]
  },
  {
   "cell_type": "code",
   "execution_count": 43,
   "metadata": {},
   "outputs": [
    {
     "name": "stderr",
     "output_type": "stream",
     "text": [
      "R[write to console]: Error in library(\"conos\") : there is no package called ‘conos’\n",
      "Calls: <Anonymous> -> <Anonymous> -> withVisible -> library\n",
      "\n",
      "R[write to console]: In addition: \n",
      "R[write to console]: Warning messages:\n",
      "\n",
      "R[write to console]: 1: package ‘conos’ is not available (for R version 3.6.1) \n",
      "\n",
      "R[write to console]: 2: package ‘conos’ is not available (for R version 3.6.1) \n",
      "\n"
     ]
    },
    {
     "name": "stdout",
     "output_type": "stream",
     "text": [
      "\n",
      "Error in library(\"conos\") : there is no package called ‘conos’\n",
      "Calls: <Anonymous> -> <Anonymous> -> withVisible -> library\n"
     ]
    }
   ],
   "source": [
    "%%R\n",
    "library('conos')"
   ]
  },
  {
   "cell_type": "code",
   "execution_count": 33,
   "metadata": {},
   "outputs": [
    {
     "name": "stderr",
     "output_type": "stream",
     "text": [
      "R[write to console]: Warning:\n",
      "R[write to console]:  namespace ‘conos’ is not available and has been replaced\n",
      "by .GlobalEnv when processing object ‘’\n",
      "\n",
      "R[write to console]: Warning:\n",
      "R[write to console]:  namespace ‘pagoda2’ is not available and has been replaced\n",
      "by .GlobalEnv when processing object ‘’\n",
      "\n"
     ]
    }
   ],
   "source": [
    "%%R\n",
    "conos <- readRDS(\"conos_cluster_output.rds\")    \n",
    "con <- conos$con\n",
    "runleiden <- conos$runleiden\n",
    "runwalktrap <- conos$runwalktrap\n",
    "newrds <- \"read\""
   ]
  },
  {
   "cell_type": "code",
   "execution_count": null,
   "metadata": {},
   "outputs": [],
   "source": []
  },
  {
   "cell_type": "code",
   "execution_count": null,
   "metadata": {},
   "outputs": [],
   "source": []
  },
  {
   "cell_type": "code",
   "execution_count": 6,
   "metadata": {
    "nbtools": {
     "description": "",
     "name": "Plot gene expression on the joint graph",
     "origin": "nbtools.r_support",
     "param_values": {
      "geneofinterest": "TP53",
      "output_var": "NULL",
      "paintcluster": "none"
     },
     "show_code": true,
     "type": "uibuilder"
    }
   },
   "outputs": [
    {
     "name": "stderr",
     "output_type": "stream",
     "text": [
      "UsageError: Cell magic `%%r_build_ui` not found.\n"
     ]
    }
   ],
   "source": [
    "%%r_build_ui {\"name\": \"Plot gene expression on the joint graph\", \"parameters\": {\"geneofinterest\": { \"name\": \"Gene Identifier:\", \"description\": \"A gene identifier to plot expression on the embedded map\", \"type\": \"text\"}, \"paintcluster\": { \"name\": \"Show Clustering:\", \"description\": \"Option to show clustering information beside gene expression\", \"type\": \"choice\", \"choices\": {\"None\": \"none\", \"Show Leiden\": \"leiden\", \"Show Walktrap\": \"walktrap\", \"Show Both Leiden and Walktrap\": \"both\"}, \"default\": \"none\"}, \"output_var\" : {\"default\": \"NULL\", \"hide\": True } }}\n",
    "\n",
    "if (newrds == \"unread\") {\n",
    "conos <- readRDS(\"conos_cluster_output.rds\")    \n",
    "con <- conos$con\n",
    "runleiden <- conos$runleiden\n",
    "runwalktrap <- conos$runwalktrap\n",
    "newrds <- \"read\"\n",
    "}\n",
    "\n",
    "if (paintcluster == \"none\"){\n",
    "pdf(paste0(geneofinterest,\"_Expression.pdf\"), width=8.2, height=8.2)\n",
    "print(con$plotGraph(alpha=0.1, color.by='gene', title=paste0(genelist[i],\" Expression\"), gene=paste0(genelist[i])))\n",
    "dev.off()\n",
    "print(con$plotGraph(alpha=0.1, color.by='gene', title=paste0(genelist[i],\" Expression\"), gene=paste0(genelist[i])))}\n",
    "\n",
    "if (runleiden == TRUE & paintcluster == \"leiden\"){\n",
    "pdf(paste0(\"Leiden_Clusters_with_\",geneofinterest,\"_Expression.pdf\"), width=14.88, height=8.2)\n",
    "print(cowplot::plot_grid(con$plotGraph(alpha=0.1, clustering='leiden'),\n",
    "con$plotGraph(alpha=0.1, color.by='gene', title=paste0(geneofinterest,\"_Expression\"), gene=paste0(geneofinterest))))\n",
    "dev.off()\n",
    "print(cowplot::plot_grid(con$plotGraph(alpha=0.1, clustering='leiden'),\n",
    "con$plotGraph(alpha=0.1, color.by='gene', title=paste0(geneofinterest,\" Expression\"), gene=paste0(geneofinterest))))}\n",
    "\n",
    "if (runwalktrap == TRUE & paintcluster == \"walktrap\"){\n",
    "pdf(paste0(\"Walktrap_Clusters_with_\",geneofinterest,\"_Expression.pdf\"), width=14.88, height=8.2)\n",
    "print(cowplot::plot_grid(con$plotGraph(alpha=0.1, clustering='walktrap'),\n",
    "con$plotGraph(alpha=0.1, color.by='gene', title=paste0(geneofinterest,\"_Expression\"), gene=paste0(geneofinterest))))\n",
    "dev.off()\n",
    "print(cowplot::plot_grid(con$plotGraph(alpha=0.1, clustering='walktrap'),\n",
    "con$plotGraph(alpha=0.1, color.by='gene', title=paste0(geneofinterest,\" Expression\"), gene=paste0(geneofinterest))))}\n",
    "\n",
    "if (runleiden == TRUE & runwalktrap == TRUE & paintcluster == \"both\"){\n",
    "pdf(paste0(\"Leiden_and_Walktrap_Clusters_with_\",geneofinterest,\"_Expression.pdf\"), width=14.88, height=8.2)\n",
    "print(cowplot::plot_grid(con$plotGraph(alpha=0.1, clustering='leiden'), con$plotGraph(alpha=0.1, clustering='walktrap'),\n",
    "con$plotGraph(alpha=0.1, color.by='gene', title=paste0(geneofinterest,\"_Expression\"), gene=paste0(geneofinterest))))\n",
    "dev.off()\n",
    "print(cowplot::plot_grid(con$plotGraph(alpha=0.1, clustering='leiden'), con$plotGraph(alpha=0.1, clustering='walktrap'),\n",
    "con$plotGraph(alpha=0.1, color.by='gene', title=paste0(geneofinterest,\" Expression\"), gene=paste0(geneofinterest))))}"
   ]
  },
  {
   "cell_type": "code",
   "execution_count": null,
   "metadata": {},
   "outputs": [],
   "source": []
  }
 ],
 "metadata": {
  "kernelspec": {
   "display_name": "Python 3.7",
   "language": "python",
   "name": "python3.7"
  },
  "language_info": {
   "codemirror_mode": {
    "name": "ipython",
    "version": 3
   },
   "file_extension": ".py",
   "mimetype": "text/x-python",
   "name": "python",
   "nbconvert_exporter": "python",
   "pygments_lexer": "ipython3",
   "version": "3.7.6"
  },
  "toc": {
   "base_numbering": 1,
   "nav_menu": {},
   "number_sections": true,
   "sideBar": true,
   "skip_h1_title": false,
   "title_cell": "Table of Contents",
   "title_sidebar": "Contents",
   "toc_cell": false,
   "toc_position": {},
   "toc_section_display": true,
   "toc_window_display": false
  }
 },
 "nbformat": 4,
 "nbformat_minor": 2
}
