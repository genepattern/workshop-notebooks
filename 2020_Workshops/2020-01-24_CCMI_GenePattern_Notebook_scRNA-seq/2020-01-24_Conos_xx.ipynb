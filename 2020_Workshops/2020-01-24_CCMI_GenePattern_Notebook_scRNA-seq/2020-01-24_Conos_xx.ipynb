{
 "cells": [
  {
   "cell_type": "markdown",
   "metadata": {},
   "source": [
    "# Integrating scRNA-seq Datasets with CONOS (Clustering on Networks of Samples)"
   ]
  },
  {
   "cell_type": "markdown",
   "metadata": {},
   "source": [
    "**Notebook Authors**: Anthony S. Castanza, PhD & Edwin F. Juárez, PhD\n",
    "<br>\n",
    "**Contact Information**: acastanza@ucsd.edu & ejuarez@ucsd.edu\n",
    "\n",
    "## Summary\n",
    "\n",
    "\n",
    "This notebook implements the data processing pipeline from the Clustering On Networks Of Samples (CONOS) package **version 1.1.1** to integrate multiple independent single cell RNA-seq experiments into a common projection. The This common projection can then be used for investigating gene expression relationships and cell identities across studies in an integrated space.\n",
    "\n",
    "The underlying code for this notebook based on the CONOS package and is available from: https://github.com/hms-dbmi/conos/\n",
    "<br>The underlying code for Pagoda2 is available from: https://github.com/hms-dbmi/pagoda2"
   ]
  },
  {
   "cell_type": "markdown",
   "metadata": {},
   "source": [
    "## Login to GenePattern"
   ]
  },
  {
   "cell_type": "code",
   "execution_count": 1,
   "metadata": {
    "genepattern": {
     "name": "Login",
     "server": "https://cloud.genepattern.org/gp",
     "type": "auth"
    },
    "scrolled": false
   },
   "outputs": [
    {
     "data": {
      "application/vnd.jupyter.widget-view+json": {
       "model_id": "099c589baf6e428dae41ab3094db3736",
       "version_major": 2,
       "version_minor": 0
      },
      "text/plain": [
       "GPAuthWidget()"
      ]
     },
     "metadata": {},
     "output_type": "display_data"
    }
   ],
   "source": [
    "# Requires GenePattern Notebook: pip install genepattern-notebook\n",
    "import gp\n",
    "import genepattern\n",
    "\n",
    "# Username and password removed for security reasons.\n",
    "genepattern.display(genepattern.session.register(\"https://cloud.genepattern.org/gp\", \"\", \"\"))"
   ]
  },
  {
   "cell_type": "markdown",
   "metadata": {},
   "source": [
    "## Preprocess Datasets with Pagoda2\n",
    "\n",
    "Performs independent clustering of each of the single-cell quantification tables using the Pagoda2 method. These clustered results are then projected into C/PCA space and embedded into a joint graph."
   ]
  },
  {
   "cell_type": "markdown",
   "metadata": {},
   "source": [
    "<div class=\"well well-sm\">\n",
    "The next version of the Conos Module will include the option of reading in a Seurat Object\n",
    "</div>"
   ]
  },
  {
   "cell_type": "markdown",
   "metadata": {},
   "source": [
    "<div class=\"alert alert-info\">\n",
    "<p class=\"lead\"> Instructions <i class=\"fa fa-info-circle\"></i></p>\n",
    "Provide these files to Conos as inputs to the <b>file list*</b> parameter\n",
    "\n",
    "- https://datasets.genepattern.org/data/module_support_files/Conos/data/conos_data/pbmc.txt\n",
    "- https://datasets.genepattern.org/data/module_support_files/Conos/HNSCC_noribo.txt\n",
    "- https://datasets.genepattern.org/data/module_support_files/Conos/MEL_noribo.txt\n",
    "- https://datasets.genepattern.org/data/module_support_files/Conos/CRC_noribo.txt\n",
    "</div>"
   ]
  },
  {
   "cell_type": "code",
   "execution_count": 2,
   "metadata": {
    "genepattern": {
     "description": "GenePattern Module which implements the preprocessing and PCA steps of Conos",
     "name": "Conos.Preprocess",
     "param_values": {
      "conos_odgenes": null,
      "file_list": null,
      "job.cpuCount": null,
      "job.memory": null,
      "job.queue": null,
      "job.walltime": null,
      "knn": null,
      "ncomps": null,
      "pagoda_odgenes": null,
      "perplexity": null,
      "projection_method": null
     },
     "type": "task"
    },
    "scrolled": false
   },
   "outputs": [
    {
     "data": {
      "application/vnd.jupyter.widget-view+json": {
       "model_id": "a73704ee5ad64347a90459932ae9ba85",
       "version_major": 2,
       "version_minor": 0
      },
      "text/plain": [
       "GPTaskWidget(lsid='urn:lsid:broad.mit.edu:cancer.software.genepattern.module.analysis:00409')"
      ]
     },
     "metadata": {},
     "output_type": "display_data"
    },
    {
     "data": {
      "application/vnd.jupyter.widget-view+json": {
       "model_id": "ea4cd3f2ce984d5e877286cc9a69b02b",
       "version_major": 2,
       "version_minor": 0
      },
      "text/plain": [
       "GPJobWidget(job_number=197962)"
      ]
     },
     "metadata": {},
     "output_type": "display_data"
    }
   ],
   "source": [
    "conos_preprocess_task = gp.GPTask(genepattern.session.get(0), 'urn:lsid:broad.mit.edu:cancer.software.genepattern.module.analysis:00409')\n",
    "conos_preprocess_job_spec = conos_preprocess_task.make_job_spec()\n",
    "conos_preprocess_job_spec.set_parameter(\"file_list\", [\"https://datasets.genepattern.org/data/module_support_files/Conos/data/conos_data/pbmc.txt\", \"https://datasets.genepattern.org/data/module_support_files/Conos/HNSCC_noribo.txt\", \"https://datasets.genepattern.org/data/module_support_files/Conos/MEL_noribo.txt\"])\n",
    "conos_preprocess_job_spec.set_parameter(\"knn\", \"40\")\n",
    "conos_preprocess_job_spec.set_parameter(\"perplexity\", \"50\")\n",
    "conos_preprocess_job_spec.set_parameter(\"pagoda_odgenes\", \"3000\")\n",
    "conos_preprocess_job_spec.set_parameter(\"projection_method\", \"PCA\")\n",
    "conos_preprocess_job_spec.set_parameter(\"ncomps\", \"50\")\n",
    "conos_preprocess_job_spec.set_parameter(\"conos_odgenes\", \"1000\")\n",
    "conos_preprocess_job_spec.set_parameter(\"job.memory\", \"4Gb\")\n",
    "conos_preprocess_job_spec.set_parameter(\"job.queue\", \"gp-cloud-default\")\n",
    "conos_preprocess_job_spec.set_parameter(\"job.cpuCount\", \"1\")\n",
    "conos_preprocess_job_spec.set_parameter(\"job.walltime\", \"02:00:00\")\n",
    "genepattern.display(conos_preprocess_task)\n",
    "\n",
    "job197962 = gp.GPJob(genepattern.session.get(0), 197962)\n",
    "genepattern.display(job197962)"
   ]
  },
  {
   "cell_type": "markdown",
   "metadata": {},
   "source": [
    "## Generate and Capture Joint Graph Clusters\n",
    "\n",
    "Select the <tt>conos_preprocess_output.rds</tt> file produced as the output of the Conos.Preprocess module as the input conos object.\n",
    "\n",
    "Clustering is performed on the joint graph produced as the output of Conos.Preprocess using both Leiden community clustering and Walktrap clustering. The clustered joint graph is then projected into UMAP space for visualiztion."
   ]
  },
  {
   "cell_type": "code",
   "execution_count": 3,
   "metadata": {
    "genepattern": {
     "description": "GenePattern Module which implements the clustering and embedding steps of Conos",
     "name": "Conos.Cluster",
     "param_values": {
      "conos_object": null,
      "job.cpuCount": null,
      "job.memory": null,
      "job.queue": null,
      "job.walltime": null,
      "leiden_resolution": null,
      "runleiden": null,
      "runwalktrap": null,
      "umap_distance": null,
      "umap_spread": null,
      "walktrap_steps": null
     },
     "type": "task"
    }
   },
   "outputs": [
    {
     "data": {
      "application/vnd.jupyter.widget-view+json": {
       "model_id": "a74ed4f7b04642a99d1d1308b8226d18",
       "version_major": 2,
       "version_minor": 0
      },
      "text/plain": [
       "GPTaskWidget(lsid='urn:lsid:broad.mit.edu:cancer.software.genepattern.module.analysis:00410')"
      ]
     },
     "metadata": {},
     "output_type": "display_data"
    },
    {
     "data": {
      "application/vnd.jupyter.widget-view+json": {
       "model_id": "2db1f8f94b2a4a8789d6b9d6db4aed2e",
       "version_major": 2,
       "version_minor": 0
      },
      "text/plain": [
       "GPJobWidget(job_number=197957)"
      ]
     },
     "metadata": {},
     "output_type": "display_data"
    }
   ],
   "source": [
    "conos_cluster_task = gp.GPTask(genepattern.session.get(0), 'urn:lsid:broad.mit.edu:cancer.software.genepattern.module.analysis:00410')\n",
    "conos_cluster_job_spec = conos_cluster_task.make_job_spec()\n",
    "conos_cluster_job_spec.set_parameter(\"conos_object\", \"https://cloud.genepattern.org/gp/jobResults/197928/conos_preprocess_output.rds\")\n",
    "conos_cluster_job_spec.set_parameter(\"runleiden\", \"True\")\n",
    "conos_cluster_job_spec.set_parameter(\"leiden_resolution\", \"1.0\")\n",
    "conos_cluster_job_spec.set_parameter(\"runwalktrap\", \"True\")\n",
    "conos_cluster_job_spec.set_parameter(\"walktrap_steps\", \"10\")\n",
    "conos_cluster_job_spec.set_parameter(\"umap_distance\", \"0.05\")\n",
    "conos_cluster_job_spec.set_parameter(\"umap_spread\", \"5\")\n",
    "conos_cluster_job_spec.set_parameter(\"job.memory\", \"4Gb\")\n",
    "conos_cluster_job_spec.set_parameter(\"job.queue\", \"gp-cloud-default\")\n",
    "conos_cluster_job_spec.set_parameter(\"job.cpuCount\", \"3\")\n",
    "conos_cluster_job_spec.set_parameter(\"job.walltime\", \"02:00:00\")\n",
    "genepattern.display(conos_cluster_task)\n",
    "\n",
    "\n",
    "job197957 = gp.GPJob(genepattern.session.get(0), 197957)\n",
    "genepattern.display(job197957)"
   ]
  },
  {
   "cell_type": "markdown",
   "metadata": {},
   "source": [
    "## Import CONOS Output Data for Further Exploration"
   ]
  },
  {
   "cell_type": "code",
   "execution_count": 4,
   "metadata": {
    "nbtools": {
     "description": "",
     "name": "Import Conos.Cluster output for further analysis",
     "origin": "Notebook",
     "param_values": {
      "conosgraph": [
       "https://cloud.genepattern.org/gp/jobResults/197957/conos_cluster_output.rds"
      ],
      "output_var": "quantification_source"
     },
     "show_code": true,
     "type": "uibuilder"
    }
   },
   "outputs": [
    {
     "data": {
      "application/vnd.jupyter.widget-view+json": {
       "model_id": "4d8c1308ac31461fa5defceeb356de12",
       "version_major": 2,
       "version_minor": 0
      },
      "text/plain": [
       "UIBuilder(function_import='nbtools.tool(id=\"Import Conos.Cluster output for further analysis\", origin=\"Noteboo…"
      ]
     },
     "metadata": {},
     "output_type": "display_data"
    },
    {
     "data": {
      "application/javascript": [
       "\n",
       "            NBToolManager.instance().register(new NBToolManager.NBTool({\n",
       "                origin: \"Notebook\",\n",
       "                id: \"Import Conos.Cluster output for further analysis\",\n",
       "                name: \"Import Conos.Cluster output for further analysis\",\n",
       "                description: \"\",\n",
       "                version: \"null\",\n",
       "                tags: null,\n",
       "                attributes: null,\n",
       "                load: function() { return true; },\n",
       "                render: function() { let code = \"nbtools.tool(id='Import Conos.Cluster output for further analysis', origin='Notebook')\";\n",
       "                let cell = Jupyter.notebook.get_selected_cell();\n",
       "                const is_empty = cell.get_text().trim() === \"\";\n",
       "\n",
       "                // If this cell is not empty, insert a new cell and use that\n",
       "                // Otherwise just use this cell\n",
       "                if (!is_empty) {\n",
       "                    cell = Jupyter.notebook.insert_cell_below();\n",
       "                    Jupyter.notebook.select_next();\n",
       "                }\n",
       "\n",
       "                cell.set_text(code);\n",
       "                cell.execute();\n",
       "\n",
       "                return cell; },\n",
       "            }));"
      ]
     },
     "metadata": {},
     "output_type": "display_data"
    }
   ],
   "source": [
    "%load_ext rpy2.ipython\n",
    "%load_ext nbtools.r_support\n",
    "import genepattern\n",
    "@genepattern.build_ui(name=\"Import Conos.Cluster output for further analysis\", parameters={\n",
    "    \"conosgraph\": {\n",
    "        \"name\": \"Conos Cluster Output:\",\n",
    "        \"description\": \"conos_cluster_output.rds from Conos.Cluster module\",\n",
    "        \"type\": \"file\",\n",
    "        \"kinds\": [\"rds\"]\n",
    "    },\n",
    "    \"output_var\": {\n",
    "    \"name\": \"results\",\n",
    "    \"description\": \"\",\n",
    "    \"default\": \"quantification_source\",\n",
    "    \"hide\": True\n",
    "    }\n",
    "})\n",
    "\n",
    "def get_files_function(conosgraph):\n",
    "#     print(conosgraph)\n",
    "    job_widget = nbtools.UIOutput(status=\"Getting file from the GenePattern server\")\n",
    "    display(job_widget)\n",
    "    f = gp.GPFile(genepattern.session.get(0), conosgraph)\n",
    "    job_widget.status = 'Writing conos_cluster_output.rds file to your workspace.'\n",
    "    open(\"conos_cluster_output.rds\", 'wb').write(f.open().read())\n",
    "    job_widget.status = 'conos_cluster_output.rds written!'\n",
    "    print('done!')\n",
    "\n",
    "newrds = \"unread\"\n",
    "%Rpush newrds"
   ]
  },
  {
   "cell_type": "markdown",
   "metadata": {},
   "source": [
    "## Plot Genes of Interest on Embedded Joint Graph\n",
    "\n",
    "Import the <tt>conos_cluster_output.rds</tt> from the Conos.Cluster module to enable exploration of gene expression on the joint graph. The first cell enables the R UI and passes GenePattern login credentials into the Notebook R session so that the Conos.cluster output can be retreived from the server directly.\n",
    "\n",
    "Expression of genes of interest can be projected onto the joint graph for visualization of cluster markers."
   ]
  },
  {
   "cell_type": "code",
   "execution_count": 5,
   "metadata": {
    "nbtools": {
     "description": "",
     "name": "Plot gene expression on the joint graph",
     "origin": "nbtools.r_support",
     "param_values": {
      "geneofinterest": "CD79A",
      "output_var": "",
      "paintcluster": "leiden"
     },
     "show_code": false,
     "type": "uibuilder"
    },
    "scrolled": false
   },
   "outputs": [
    {
     "data": {
      "application/vnd.jupyter.widget-view+json": {
       "model_id": "03be8716b64149a1ad221ffa78aaffdc",
       "version_major": 2,
       "version_minor": 0
      },
      "text/plain": [
       "UIBuilder(function_import='nbtools._r_wrappers[\"0E11AF54D062F5AAB4B398A3F8A179D5\"]', name='Plot gene expressio…"
      ]
     },
     "metadata": {},
     "output_type": "display_data"
    }
   ],
   "source": [
    "%%r_build_ui {\"name\": \"Plot gene expression on the joint graph\", \"parameters\": {\"geneofinterest\": { \"name\": \"Gene Identifier:\", \"description\": \"A gene identifier to plot expression on the embedded map\", \"type\": \"text\"}, \"paintcluster\": { \"name\": \"Show Clustering:\", \"description\": \"Option to show clustering information beside gene expression\", \"type\": \"choice\", \"choices\": {\"None\": \"none\", \"Show Leiden\": \"leiden\", \"Show Walktrap\": \"walktrap\", \"Show Both Leiden and Walktrap\": \"both\"}, \"default\": \"none\"},  \"output_var\": { \"hide\": \"True\" } }}\n",
    "\n",
    "customplot <- function(geneofinterest,paintcluster){\n",
    "    if (paintcluster == \"none\"){\n",
    "    print(con$plotPanel(color.by='gene', gene=paste0(geneofinterest)))}\n",
    "\n",
    "    if (runleiden == TRUE & paintcluster == \"leiden\"){\n",
    "#     pdf(paste0(\"Leiden_Clusters_with_\",geneofinterest,\"_Expression.pdf\"), width=14.88, height=8.2)\n",
    "#     print(cowplot::plot_grid(con$plotPanel(alpha=0.1, clustering='leiden'),\n",
    "#     con$plotPanel(alpha=0.1, color.by='gene', title=paste0(geneofinterest,\"_Expression\"), gene=paste0(geneofinterest))))\n",
    "#     dev.off()\n",
    "    print(cowplot::plot_grid(con$plotPanel(alpha=0.1, clustering='leiden'),\n",
    "    con$plotPanel(color.by='gene', gene=paste0(geneofinterest))))}\n",
    "\n",
    "    if (runwalktrap == TRUE & paintcluster == \"walktrap\"){\n",
    "#     pdf(paste0(\"Walktrap_Clusters_with_\",geneofinterest,\"_Expression.pdf\"), width=14.88, height=8.2)\n",
    "#     print(cowplot::plot_grid(con$plotPanel(alpha=0.1, clustering='walktrap'),\n",
    "#     con$plotPanel(alpha=0.1, color.by='gene', title=paste0(geneofinterest,\"_Expression\"), gene=paste0(geneofinterest))))\n",
    "#     dev.off()\n",
    "    print(cowplot::plot_grid(con$plotPanel(alpha=0.1, clustering='walktrap'),\n",
    "    con$plotPanel(color.by='gene', gene=paste0(geneofinterest))))}\n",
    "\n",
    "    if (runleiden == TRUE & runwalktrap == TRUE & paintcluster == \"both\"){\n",
    "#     pdf(paste0(\"Leiden_and_Walktrap_Clusters_with_\",geneofinterest,\"_Expression.pdf\"), width=14.88, height=8.2)\n",
    "#     print(cowplot::plot_grid(con$plotPanel(alpha=0.1, clustering='leiden'), con$plotPanel(alpha=0.1, clustering='walktrap'),\n",
    "#     con$plotPanel(alpha=0.1, color.by='gene', title=paste0(geneofinterest,\"_Expression\"), gene=paste0(geneofinterest))))\n",
    "#     dev.off()\n",
    "    print(cowplot::plot_grid(con$plotPanel(alpha=0.1, clustering='leiden'), con$plotPanel(alpha=0.1, clustering='walktrap'),\n",
    "    con$plotPanel(color.by='gene', gene=paste0(geneofinterest))))}\n",
    "    return()\n",
    "}\n",
    "\n",
    "if (newrds == \"unread\") {\n",
    "conos <- readRDS(\"conos_cluster_output.rds\")    \n",
    "con <- conos$con\n",
    "runleiden <- conos$runleiden\n",
    "runwalktrap <- conos$runwalktrap\n",
    "newrds <- \"read\"\n",
    "}\n",
    "\n",
    "customplot(geneofinterest,paintcluster)"
   ]
  },
  {
   "cell_type": "markdown",
   "metadata": {},
   "source": [
    "## References\n",
    " \n",
    "- Barkas N., Petukhov V., Nikolaeva D., Lozinsky Y., Demharter S., Khodosevich K., Kharchenko P.V. 2018. Wiring together large single-cell RNA-seq sample collections. bioRxiv 460246; doi: https://doi.org/10.1101/460246 (<a href='https://www.biorxiv.org/content/10.1101/460246v1'>Link</a>).\n",
    "\n",
    "\n",
    "- Fan J., Salathia N., Liu R., Kaeser G.E., Yung Y.C., Herman J.L., Kaper F., Fan J.B., Zhang K., Chun J., Kharchenko P.V. 2016. Characterizing transcriptional heterogeneity through pathway and gene set overdispersion analysis. Nat Methods. 2016;13(3):241-4. (<a href='https://www.nature.com/articles/nmeth.3734'>Link</a>).\n"
   ]
  },
  {
   "cell_type": "code",
   "execution_count": null,
   "metadata": {},
   "outputs": [],
   "source": []
  }
 ],
 "metadata": {
  "kernelspec": {
   "display_name": "Python 3.7",
   "language": "python",
   "name": "python3.7"
  },
  "language_info": {
   "codemirror_mode": {
    "name": "ipython",
    "version": 3
   },
   "file_extension": ".py",
   "mimetype": "text/x-python",
   "name": "python",
   "nbconvert_exporter": "python",
   "pygments_lexer": "ipython3",
   "version": "3.7.6"
  },
  "toc": {
   "base_numbering": 1,
   "nav_menu": {},
   "number_sections": false,
   "sideBar": true,
   "skip_h1_title": false,
   "title_cell": "Table of Contents",
   "title_sidebar": "Contents",
   "toc_cell": false,
   "toc_position": {},
   "toc_section_display": true,
   "toc_window_display": false
  }
 },
 "nbformat": 4,
 "nbformat_minor": 2
}
