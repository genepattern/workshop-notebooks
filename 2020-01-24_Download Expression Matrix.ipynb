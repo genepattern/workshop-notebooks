{
 "cells": [
  {
   "cell_type": "markdown",
   "metadata": {},
   "source": [
    "# Download an Expression Matrix Using the HCA's Matrix Service\n",
    "\n",
    "The HCA Matrix Service consumes data from the [HCA](https://prod.data.humancellatlas.org/)\n",
    "[Data Store](https://github.com/HumanCellAtlas/data-store) to dynamically generate cell by gene expression matrices.\n",
    "\n",
    "This notebook will allow you to search for and retrieve data from the DCP, then send that data to the HCA's matrix service. This will produce a file in one of a variety of matrix formats."
   ]
  },
  {
   "cell_type": "markdown",
   "metadata": {},
   "source": [
    "## 1. Retrieve data from the DCP\n",
    "\n",
    "<div class=\"alert alert-info\">\n",
    "<h3 style=\"margin-top: 0;\"> Instructions <i class=\"fa fa-info-circle\"></i></h3>\n",
    "    <p>Use the widget below to search for <i>Homo sapiens</i> and <i>immune system</i>. Note the name of the matching project. Then scroll down to the second step below.</p>\n",
    "    <ul><li><strong>Note:</strong> As of this notebook's publication, the Matrix Service has yet to implement expression matrix support for all data types. Projects lacking matrix file support will note this in their descriptions.</li></ul>\n",
    "</div>"
   ]
  },
  {
   "cell_type": "code",
   "execution_count": 1,
   "metadata": {
    "nbtools": {
     "description": "",
     "name": "Search the DCP for Data",
     "origin": "Notebook",
     "param_values": {
      "file_format": "h5",
      "file_name": "",
      "organ": "",
      "output_var": "",
      "species": ""
     },
     "show_code": false,
     "type": "uibuilder"
    },
    "scrolled": false
   },
   "outputs": [
    {
     "data": {
      "application/vnd.jupyter.widget-view+json": {
       "model_id": "50280321d2a04112984e4c8659afd7d5",
       "version_major": 2,
       "version_minor": 0
      },
      "text/plain": [
       "UIBuilder(function_import='nbtools.tool(id=\"Search the DCP for Data\", origin=\"Notebook\").function_or_method', …"
      ]
     },
     "metadata": {},
     "output_type": "display_data"
    },
    {
     "data": {
      "application/javascript": [
       "\n",
       "            NBToolManager.instance().register(new NBToolManager.NBTool({\n",
       "                origin: \"Notebook\",\n",
       "                id: \"Search the DCP for Data\",\n",
       "                name: \"Search the DCP for Data\",\n",
       "                description: \"\",\n",
       "                version: \"null\",\n",
       "                tags: null,\n",
       "                attributes: null,\n",
       "                load: function() { return true; },\n",
       "                render: function() { let code = \"nbtools.tool(id='Search the DCP for Data', origin='Notebook')\";\n",
       "                let cell = Jupyter.notebook.get_selected_cell();\n",
       "                const is_empty = cell.get_text().trim() === \"\";\n",
       "\n",
       "                // If this cell is not empty, insert a new cell and use that\n",
       "                // Otherwise just use this cell\n",
       "                if (!is_empty) {\n",
       "                    cell = Jupyter.notebook.insert_cell_below();\n",
       "                    Jupyter.notebook.select_next();\n",
       "                }\n",
       "\n",
       "                cell.set_text(code);\n",
       "                cell.execute();\n",
       "\n",
       "                return cell; },\n",
       "            }));"
      ]
     },
     "metadata": {},
     "output_type": "display_data"
    }
   ],
   "source": [
    "from IPython.display import display, HTML\n",
    "\n",
    "import hca.dss\n",
    "import json\n",
    "import requests\n",
    "import nbtools\n",
    "import IPython.display\n",
    "import time\n",
    "import datetime\n",
    "import urllib\n",
    "\n",
    "project_map = {}\n",
    "\n",
    "@nbtools.build_ui(name=\"Search the DCP for Data\", parameters={\n",
    "    \"species\": {\n",
    "        \"type\": \"choice\",\n",
    "        \"default\": \"\",\n",
    "        \"choices\": {\n",
    "            \"\": \"\",\n",
    "            \"Homo sapiens\": \"Homo sapiens\",\n",
    "            \"Mus musculus\": \"Mus musculus\",\n",
    "        }\n",
    "    },\n",
    "    \"organ\": {\n",
    "        \"type\": \"choice\",\n",
    "        \"default\": \"\",\n",
    "        \"choices\": {\n",
    "            \"\": \"\",\n",
    "            \"blood\": \"blood\",\n",
    "            \"bone\": \"bone\",\n",
    "            \"brain\": \"brain\",\n",
    "            \"decidua\": \"decidua\",\n",
    "            \"embryo\": \"embryo\",\n",
    "            \"esophagus\": \"esophagus\",\n",
    "            \"hemopoietic organ\": \"hemopoietic organ\",\n",
    "            \"immune system\": \"immune system\",\n",
    "            \"kidney\": \"kidney\",\n",
    "            \"lymph node\": \"lymph node\",\n",
    "            \"pancreas\": \"pancreas\",\n",
    "            \"placenta\": \"placenta\",\n",
    "            \"skin of body\": \"skin of body\",\n",
    "            \"spleen\": \"spleen\",\n",
    "            \"tumor\": \"tumor\",\n",
    "        }\n",
    "    },\n",
    "    \"output_var\": {\n",
    "        \"hide\": True\n",
    "    }\n",
    "})\n",
    "def search_data(species=\"\", organ=\"\"):\n",
    "    global response_json, project_map\n",
    "    \n",
    "    # Create the search filter\n",
    "    search_filter = {}\n",
    "    if species:\n",
    "        search_filter[\"genusSpecies\"] = {\"is\":[species]}\n",
    "    if organ:\n",
    "        search_filter[\"organ\"] = {\"is\":[organ]}\n",
    "        \n",
    "    # Dump the search filter to an encoded string\n",
    "    search_filter = json.dumps(search_filter)\n",
    "\n",
    "    # Query the server\n",
    "    response = requests.get(\"https://service.explore.data.humancellatlas.org/repository/projects?filters=\" + search_filter + \"&size=15&order=desc\")\n",
    "    response_json = response.json()\n",
    "    # print(json.dumps(response_json['hits'][0], indent=4, sort_keys=True))\n",
    "    \n",
    "    # Handle the empty result case\n",
    "    if not len(response_json['hits']):\n",
    "        display(HTML('<div class=\"alert alert-danger\">No search results found</div>'))\n",
    "    \n",
    "    # Produce the output\n",
    "    for hit in response_json['hits']:\n",
    "        # Does it have matrix files?\n",
    "        matrix_found = matrix_available(hit)\n",
    "        \n",
    "        # Add to the project map\n",
    "        project_map[hit['projects'][0]['projectTitle']] = hit['entryId']\n",
    "        \n",
    "        # Create the display block\n",
    "        block = \"<div class='well'>\"\n",
    "        if not matrix_found: \n",
    "            block += '<h3>' + hit['projects'][0]['projectTitle'] + '</h3>'\n",
    "            block += '<ul><li>Matrix Not Available</li></ul>'\n",
    "        else:\n",
    "            block += '<h3 class=\"nbtools-text-option\">' + hit['projects'][0]['projectTitle'] + '</h3><ul>'\n",
    "            block += '<li><strong>Short Name:</strong> ' + hit['projects'][0]['projectShortname'] + '</li>'\n",
    "            block += '<li><strong>Lab:</strong> ' + ', '.join(hit['projects'][0]['laboratory']) + '</li>'\n",
    "            block += '<li><strong>Species:</strong> ' + ', '.join(hit['donorOrganisms'][0]['genusSpecies']) + '</li>'\n",
    "            block += '<li><strong>Organ:</strong> ' + ', '.join(hit['specimens'][0]['organ']) + '</li>'\n",
    "            block += '<li><strong>Donar Count:</strong> ' + str(len(hit['donorOrganisms'][0]['id'])) + '</li>'\n",
    "            block += '<li><strong>Cell Count:</strong> ' + str(sum([cs['totalCells'] for cs in hit['cellSuspensions']])) + '</li>'\n",
    "            block += '<li><strong>Data:</strong> ' + ', '.join(hit['protocols'][0]['libraryConstructionApproach']) + '</li>'\n",
    "            block += '</ul></div>'\n",
    "        display(HTML(block))\n",
    "        # print(json.dumps(hit, indent=4))  # This line is used for debugging\n",
    "        \n",
    "def matrix_available(project):\n",
    "    if 'fileTypeSummaries' in project:\n",
    "        types = project['fileTypeSummaries']\n",
    "        for t in types:\n",
    "            if t['fileType'] == 'matrix':\n",
    "                return True\n",
    "        return False  # No matrix found\n",
    "    else: return False"
   ]
  },
  {
   "cell_type": "markdown",
   "metadata": {},
   "source": [
    "## 2. Launch the Matrix Service job\n",
    "\n",
    "<div class=\"alert alert-info\">\n",
    "<h3 style=\"margin-top: 0;\"> Instructions <i class=\"fa fa-info-circle\"></i></h3>\n",
    "    <ul><li>Click the <i>project</i> parameter below to see a list of all available projects (produced from the search in Step 1). Select <i>Census of Immune Cells</i>.</li>\n",
    "    <li>For the <i>matrix format</i> parameter, select <i>mtx</i>. You can <a href=\"https://broadinstitute.github.io/wot/file_formats/#mtx\" target=\"_blank\">read more about the mtx format here</a>.</li>\n",
    "        <li>Click <i>Run</i>. This will launch a Matrix Service job which will dynamically generate the mtx file. Wait a few moments for the job to finish.</li></ul>\n",
    "</div>"
   ]
  },
  {
   "cell_type": "code",
   "execution_count": 2,
   "metadata": {
    "nbtools": {
     "description": "Launch an HCA Matrix Service job, which will produce the data in the desired format",
     "name": "Launch the Matrix Service",
     "origin": "Notebook",
     "param_values": {
      "bundle_url": "https://service.explore.data.humancellatlas.org/manifest/files?filters=%7B%22file%22%3A%7B%22project%22%3A%7B%22is%22%3A%5B%22Single-cell+RNA-seq+analysis+of+human+pancreas+from+healthy+individuals+and+type+2+diabetes+patients%22%5D%7D%2C%22fileFormat%22%3A%7B%22is%22%3A%5B%22matrix%22%5D%7D%7D%7D&format=tarball",
      "fqid": "https://service.explore.data.humancellatlas.org/manifest/files?filters=%7B%22file%22%3A%7B%22project%22%3A%7B%22is%22%3A%5B%22Single+cell+transcriptome+analysis+of+human+pancreas%22%5D%7D%2C%22fileFormat%22%3A%7B%22is%22%3A%5B%22matrix%22%5D%7D%7D%7D&format=tarball",
      "output_format": "csv",
      "output_var": "",
      "project": "",
      "project_name": "An in vitro model of human inhibitory interneuron differentiation produced over time"
     },
     "show_code": false,
     "type": "uibuilder"
    }
   },
   "outputs": [
    {
     "data": {
      "text/html": [
       "<style type=\"text/css\">.nbtools-widget-job-output-file {\n",
       "    overflow: hidden;\n",
       "    white-space: nowrap;\n",
       "    display: block;\n",
       "}</style>"
      ],
      "text/plain": [
       "<IPython.core.display.HTML object>"
      ]
     },
     "metadata": {},
     "output_type": "display_data"
    },
    {
     "data": {
      "application/vnd.jupyter.widget-view+json": {
       "model_id": "26793ff7bc98441092206d516d7a34b9",
       "version_major": 2,
       "version_minor": 0
      },
      "text/plain": [
       "UIBuilder(description='Launch an HCA Matrix Service job, which will produce the data in the desired format', f…"
      ]
     },
     "metadata": {},
     "output_type": "display_data"
    },
    {
     "data": {
      "application/javascript": [
       "\n",
       "            NBToolManager.instance().register(new NBToolManager.NBTool({\n",
       "                origin: \"Notebook\",\n",
       "                id: \"Launch the Matrix Service\",\n",
       "                name: \"Launch the Matrix Service\",\n",
       "                description: \"Launch an HCA Matrix Service job, which will produce the data in the desired format\",\n",
       "                version: \"null\",\n",
       "                tags: null,\n",
       "                attributes: null,\n",
       "                load: function() { return true; },\n",
       "                render: function() { let code = \"nbtools.tool(id='Launch the Matrix Service', origin='Notebook')\";\n",
       "                let cell = Jupyter.notebook.get_selected_cell();\n",
       "                const is_empty = cell.get_text().trim() === \"\";\n",
       "\n",
       "                // If this cell is not empty, insert a new cell and use that\n",
       "                // Otherwise just use this cell\n",
       "                if (!is_empty) {\n",
       "                    cell = Jupyter.notebook.insert_cell_below();\n",
       "                    Jupyter.notebook.select_next();\n",
       "                }\n",
       "\n",
       "                cell.set_text(code);\n",
       "                cell.execute();\n",
       "\n",
       "                return cell; },\n",
       "            }));"
      ]
     },
     "metadata": {},
     "output_type": "display_data"
    }
   ],
   "source": [
    "#######################################\n",
    "# CSS Hack for long file names        #\n",
    "#######################################\n",
    "\n",
    "style = \"\"\".nbtools-widget-job-output-file {\n",
    "    overflow: hidden;\n",
    "    white-space: nowrap;\n",
    "    display: block;\n",
    "}\"\"\"\n",
    "display(HTML(f'<style type=\"text/css\">{style}</style>'))\n",
    "\n",
    "#######################################\n",
    "# Specify the Matrix Service server   #\n",
    "#######################################\n",
    "\n",
    "# matrix_host = \"https://matrix.staging.data.humancellatlas.org/v0/\"\n",
    "matrix_host = \"https://matrix.data.humancellatlas.org/v0/\"\n",
    "\n",
    "#######################################\n",
    "# UI Builder spec                     #\n",
    "#######################################\n",
    "\n",
    "spec = { 'name':        \"Launch the Matrix Service\", \n",
    "         'description': \"Launch an HCA Matrix Service job, which will produce the data in the desired format\",\n",
    "         'parameters':  {\n",
    "             \"project\": {\n",
    "                 \"name\": \"project\",\n",
    "                 \"type\": \"text\",\n",
    "                 \"description\": \"Select a project from the results above, either choosing it from the dropdown menu or pasting in a URL.\"\n",
    "             },\n",
    "             \"output_format\": {\n",
    "                 \"name\": \"matrix format\",\n",
    "                 \"type\": \"choice\",\n",
    "                 \"default\": \"loom\",\n",
    "                 \"choices\": {\n",
    "                     \"csv\": \"csv\",\n",
    "                     \"loom\": \"loom\",\n",
    "                     \"mtx\": \"mtx\",\n",
    "                     \"zarr\": \"zarr\"\n",
    "                 }\n",
    "             },\n",
    "             \"output_var\": {\n",
    "                 \"hide\": True\n",
    "             }\n",
    "         }\n",
    "     }\n",
    "\n",
    "#######################################\n",
    "# Display widget and launch job       #\n",
    "#######################################\n",
    "\n",
    "@nbtools.build_ui(**spec)\n",
    "def launch_matrix_job(project, output_format=\"loom\"):\n",
    "    # Get the endpoint for creating a new job\n",
    "    submit_endpoint = matrix_host + \"matrix/\"\n",
    "    \n",
    "    # Handle project URLs\n",
    "    if is_url(project):\n",
    "        project_id = project[47:98] + '...'\n",
    "        manifest_url = project\n",
    "        \n",
    "    # Get URL from project name by looking up the project ID\n",
    "    else:\n",
    "        # Create a bundle URL from the project name\n",
    "        project_id = urllib.parse.quote_plus(project_map[project])\n",
    "        manifest_url = f'https://service.explore.data.humancellatlas.org/fetch/manifest/files?filters=%7B%22projectId%22%3A%7B%22is%22%3A%5B%22{project_id}%22%5D%7D%2C%22fileFormat%22%3A%7B%22is%22%3A%5B%22matrix%22%5D%7D%7D&format=tsv'\n",
    "    \n",
    "    # Get the start time\n",
    "    start_time = time.time()\n",
    "    \n",
    "    # Create the UIOutput widget\n",
    "    job_widget = nbtools.UIOutput(name=\"Matrix Service Job: \" + project_id, \n",
    "                                  description=\"Your HCA Matrix Service job has been launched. It may take a few minutes before your results are ready.\",\n",
    "                                  status=\"Pending\",\n",
    "                                  files=[project_id])\n",
    "        \n",
    "    # Display the output widget\n",
    "    display(job_widget)\n",
    "    \n",
    "    # Wait for the results\n",
    "    wait_and_get_results(widget=job_widget, start_time=start_time, manifest_url=manifest_url, wait_max=30)\n",
    "    \n",
    "#######################################\n",
    "# Poll for the Matrix Service results #\n",
    "#######################################\n",
    "\n",
    "url_to_download = None\n",
    "\n",
    "def wait_and_get_results(widget, start_time, manifest_url, wait_max=30):\n",
    "    global url_to_download\n",
    "    \n",
    "    # Make the request for the matrix file  \n",
    "    try:\n",
    "        manifest_request = requests.get(manifest_url).json()\n",
    "    except:\n",
    "        widget.status = 'Error'\n",
    "        display(HTML('<div class=\"alert alert-danger\">Encountered an error parsing the Matrix Service response</div>'))  \n",
    "\n",
    "    # If Status == 301 the service wants us to wait\n",
    "    if manifest_request['Status'] == 301:\n",
    "        elapsed_time = round(time.time() - start_time)                              # Get time elapsed\n",
    "        widget.status = \"Running \" + str(datetime.timedelta(seconds=elapsed_time))  # Set status\n",
    "        manifest_url = manifest_request['Location']                                 # Set the new URL to query\n",
    "        time.sleep(min(manifest_request['Retry-After'] * 5, 30))                    # Sleep\n",
    "        \n",
    "        # Recursively call wait_and_get_results() again\n",
    "        wait_and_get_results(widget=widget, start_time=start_time, manifest_url=manifest_url, wait_max=wait_max)\n",
    "        \n",
    "    # If Status == 302 the matrix file is ready\n",
    "    elif manifest_request['Status'] == 302:\n",
    "        widget.status = 'Success'\n",
    "        url_to_download = manifest_request['Location']\n",
    "        display(nbtools.UIOutput(name='Matrix Service Results', files=[manifest_request['Location']]))\n",
    "    \n",
    "    # An unknown status is probably an error\n",
    "    else:\n",
    "        widget.status = 'Error ' + response_json['status']\n",
    "        display(HTML('<div class=\"alert alert-danger\">An error was encountered when generating the matrix file</div>'))  \n",
    "        \n",
    "#######################################\n",
    "# Is the given string a URL?          #\n",
    "#######################################\n",
    "        \n",
    "def is_url(project):\n",
    "    parsed = urllib.parse.urlparse(project)\n",
    "    return (parsed.scheme and parsed.netloc)"
   ]
  },
  {
   "cell_type": "markdown",
   "metadata": {},
   "source": [
    "## 3. Save matrix to workspace\n",
    "\n",
    "<div class=\"alert alert-info\">\n",
    "<h3 style=\"margin-top: 0;\"> Instructions <i class=\"fa fa-info-circle\"></i></h3>\n",
    "    <p>Click the <i>Save to Workspace</i> button below to save a copy of the matrix to your notebook workspace.</p>\n",
    "</div>"
   ]
  },
  {
   "cell_type": "code",
   "execution_count": 4,
   "metadata": {
    "nbtools": {
     "show_code": false,
     "type": "uibuilder"
    }
   },
   "outputs": [
    {
     "data": {
      "application/vnd.jupyter.widget-view+json": {
       "model_id": "8459b2c928e84131b3430a602c998251",
       "version_major": 2,
       "version_minor": 0
      },
      "text/plain": [
       "Button(description='Save to Workspace', style=ButtonStyle(), _dom_classes=('btn-primary',))"
      ]
     },
     "metadata": {},
     "output_type": "display_data"
    },
    {
     "data": {
      "text/html": [
       "\n",
       "    <script type=\"text/javascript\">$('.cell > .input').hide();</script>\n"
      ],
      "text/plain": [
       "<IPython.core.display.HTML object>"
      ]
     },
     "metadata": {},
     "output_type": "display_data"
    }
   ],
   "source": [
    "import ipywidgets\n",
    "import urllib.request \n",
    "\n",
    "def download(event):\n",
    "    global url_to_download\n",
    "    \n",
    "    print('Saving the matrix to the notebook workspace... Please wait...')\n",
    "    urllib.request.urlretrieve(url_to_download, 'expression_matrix.mtx')\n",
    "    print('Complete')\n",
    "\n",
    "save_to_workspace = ipywidgets.Button(description=\"Save to Workspace\", _dom_classes=['btn-primary'])\n",
    "save_to_workspace.on_click(download)\n",
    "display(save_to_workspace)\n",
    "\n",
    "# Hide code hack\n",
    "display(HTML(\"\"\"\n",
    "    <script type=\"text/javascript\">$('.cell > .input').hide();</script>\n",
    "\"\"\"))"
   ]
  }
 ],
 "metadata": {
  "kernelspec": {
   "display_name": "Python 3.7",
   "language": "python",
   "name": "python3.7"
  },
  "language_info": {
   "codemirror_mode": {
    "name": "ipython",
    "version": 3
   },
   "file_extension": ".py",
   "mimetype": "text/x-python",
   "name": "python",
   "nbconvert_exporter": "python",
   "pygments_lexer": "ipython3",
   "version": "3.7.3"
  },
  "toc": {
   "base_numbering": 1,
   "nav_menu": {},
   "number_sections": false,
   "sideBar": true,
   "skip_h1_title": false,
   "title_cell": "Table of Contents",
   "title_sidebar": "Contents",
   "toc_cell": false,
   "toc_position": {},
   "toc_section_display": true,
   "toc_window_display": false
  }
 },
 "nbformat": 4,
 "nbformat_minor": 2
}
